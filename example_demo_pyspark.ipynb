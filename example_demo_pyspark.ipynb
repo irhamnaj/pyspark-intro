{
  "nbformat": 4,
  "nbformat_minor": 0,
  "metadata": {
    "colab": {
      "name": "example demo",
      "provenance": [],
      "collapsed_sections": [],
      "toc_visible": true
    },
    "kernelspec": {
      "name": "python3",
      "display_name": "Python 3"
    },
    "language_info": {
      "name": "python"
    }
  },
  "cells": [
    {
      "cell_type": "markdown",
      "metadata": {
        "id": "XjKWipHNeRAa"
      },
      "source": [
        "# Install library pyspark"
      ]
    },
    {
      "cell_type": "code",
      "metadata": {
        "colab": {
          "base_uri": "https://localhost:8080/"
        },
        "id": "la7eQA4c_Cn3",
        "outputId": "78752311-aeac-47bf-e443-ea1f2e20ffc4"
      },
      "source": [
        "!pip install pyspark"
      ],
      "execution_count": 1,
      "outputs": [
        {
          "output_type": "stream",
          "text": [
            "Collecting pyspark\n",
            "\u001b[?25l  Downloading https://files.pythonhosted.org/packages/45/b0/9d6860891ab14a39d4bddf80ba26ce51c2f9dc4805e5c6978ac0472c120a/pyspark-3.1.1.tar.gz (212.3MB)\n",
            "\u001b[K     |████████████████████████████████| 212.3MB 65kB/s \n",
            "\u001b[?25hCollecting py4j==0.10.9\n",
            "\u001b[?25l  Downloading https://files.pythonhosted.org/packages/9e/b6/6a4fb90cd235dc8e265a6a2067f2a2c99f0d91787f06aca4bcf7c23f3f80/py4j-0.10.9-py2.py3-none-any.whl (198kB)\n",
            "\u001b[K     |████████████████████████████████| 204kB 45.5MB/s \n",
            "\u001b[?25hBuilding wheels for collected packages: pyspark\n",
            "  Building wheel for pyspark (setup.py) ... \u001b[?25l\u001b[?25hdone\n",
            "  Created wheel for pyspark: filename=pyspark-3.1.1-py2.py3-none-any.whl size=212767604 sha256=3a63038b0b01ab029280d701a319b4a4b1ea79b3cbcf0dcbbaf176b92460126f\n",
            "  Stored in directory: /root/.cache/pip/wheels/0b/90/c0/01de724414ef122bd05f056541fb6a0ecf47c7ca655f8b3c0f\n",
            "Successfully built pyspark\n",
            "Installing collected packages: py4j, pyspark\n",
            "Successfully installed py4j-0.10.9 pyspark-3.1.1\n"
          ],
          "name": "stdout"
        }
      ]
    },
    {
      "cell_type": "markdown",
      "metadata": {
        "id": "OlaQiLMZecRT"
      },
      "source": [
        "# download data"
      ]
    },
    {
      "cell_type": "code",
      "metadata": {
        "colab": {
          "base_uri": "https://localhost:8080/"
        },
        "id": "cuYkKcaAeblg",
        "outputId": "8d59f988-7077-4f3e-e39e-3acef29b864c"
      },
      "source": [
        "!wget https://archive.ics.uci.edu/ml/machine-learning-databases/00222/bank-additional.zip\n",
        "!unzip  bank-additional.zip\n"
      ],
      "execution_count": 2,
      "outputs": [
        {
          "output_type": "stream",
          "text": [
            "--2021-03-30 23:31:57--  https://archive.ics.uci.edu/ml/machine-learning-databases/00222/bank-additional.zip\n",
            "Resolving archive.ics.uci.edu (archive.ics.uci.edu)... 128.195.10.252\n",
            "Connecting to archive.ics.uci.edu (archive.ics.uci.edu)|128.195.10.252|:443... connected.\n",
            "HTTP request sent, awaiting response... 200 OK\n",
            "Length: 444572 (434K) [application/x-httpd-php]\n",
            "Saving to: ‘bank-additional.zip’\n",
            "\n",
            "bank-additional.zip 100%[===================>] 434.15K  1.32MB/s    in 0.3s    \n",
            "\n",
            "2021-03-30 23:31:57 (1.32 MB/s) - ‘bank-additional.zip’ saved [444572/444572]\n",
            "\n",
            "Archive:  bank-additional.zip\n",
            "   creating: bank-additional/\n",
            "  inflating: bank-additional/.DS_Store  \n",
            "   creating: __MACOSX/\n",
            "   creating: __MACOSX/bank-additional/\n",
            "  inflating: __MACOSX/bank-additional/._.DS_Store  \n",
            "  inflating: bank-additional/.Rhistory  \n",
            "  inflating: bank-additional/bank-additional-full.csv  \n",
            "  inflating: bank-additional/bank-additional-names.txt  \n",
            "  inflating: bank-additional/bank-additional.csv  \n",
            "  inflating: __MACOSX/._bank-additional  \n"
          ],
          "name": "stdout"
        }
      ]
    },
    {
      "cell_type": "code",
      "metadata": {
        "id": "pKvkknVl_Z25"
      },
      "source": [
        "from pyspark import SparkContext, SparkConf\n",
        "from pyspark.sql import SparkSession"
      ],
      "execution_count": 3,
      "outputs": []
    },
    {
      "cell_type": "markdown",
      "metadata": {
        "id": "cuk9a0bTAddi"
      },
      "source": [
        "# RDD"
      ]
    },
    {
      "cell_type": "markdown",
      "metadata": {
        "id": "XE8LgeZ-AlOq"
      },
      "source": [
        "## membuat sparkContext"
      ]
    },
    {
      "cell_type": "markdown",
      "metadata": {
        "id": "bzv8LxjpAsr7"
      },
      "source": [
        "1. sparkcontext = untuk membuat koneksi dengan engine spark\n",
        "2. sparkconfig = konfigurasi sparkcontext "
      ]
    },
    {
      "cell_type": "code",
      "metadata": {
        "id": "re0RzMz5AyPq"
      },
      "source": [
        "conf = SparkConf().setAppName(\"Python Spark create RDD example\").setMaster('local')\n",
        "sc = SparkContext(conf=conf)"
      ],
      "execution_count": 5,
      "outputs": []
    },
    {
      "cell_type": "markdown",
      "metadata": {
        "id": "hCLmMjDEA3_h"
      },
      "source": [
        "## input_data"
      ]
    },
    {
      "cell_type": "markdown",
      "metadata": {
        "id": "MzA0V4dcA8Yn"
      },
      "source": [
        "secara umum ada 2 metode yang umum dilakukan untuk input data RDD:\n",
        "1. menggunakan sc.parallelize() (untuk membuat data RDD)\n",
        "2. menggunakan sc.textFile() (untuk mengambil data dari external)"
      ]
    },
    {
      "cell_type": "markdown",
      "metadata": {
        "id": "kUOIYqFiBCnC"
      },
      "source": [
        "### parallelize"
      ]
    },
    {
      "cell_type": "code",
      "metadata": {
        "colab": {
          "base_uri": "https://localhost:8080/"
        },
        "id": "u4XbZsyLAXkt",
        "outputId": "a2fbee0b-6f11-4eef-f167-e3a334ec56aa"
      },
      "source": [
        "#all numeric\n",
        "\n",
        "df_numeric = sc.parallelize([1,3,4,5,6,7,8])\n",
        "df_numeric.collect()"
      ],
      "execution_count": null,
      "outputs": [
        {
          "output_type": "execute_result",
          "data": {
            "text/plain": [
              "[1, 3, 4, 5, 6, 7, 8]"
            ]
          },
          "metadata": {
            "tags": []
          },
          "execution_count": 7
        }
      ]
    },
    {
      "cell_type": "markdown",
      "metadata": {
        "id": "gcUBohLXBftK"
      },
      "source": [
        "untuk mendapatkan output bisa menggunakan fungsi RDD (df.collect())"
      ]
    },
    {
      "cell_type": "code",
      "metadata": {
        "colab": {
          "base_uri": "https://localhost:8080/"
        },
        "id": "kEc-bPf2Bb83",
        "outputId": "c646045c-8f34-40c2-890d-e8326ac57fcc"
      },
      "source": [
        "# all text\n",
        "df_text = sc.parallelize([\"scala\", \n",
        "   \"java\", \n",
        "   \"hadoop\", \n",
        "   \"spark\", \n",
        "   \"akka\",\n",
        "   \"spark vs hadoop\", \n",
        "   \"pyspark\",\n",
        "   \"pyspark and spark\"])\n",
        "\n",
        "df_text.collect()"
      ],
      "execution_count": null,
      "outputs": [
        {
          "output_type": "execute_result",
          "data": {
            "text/plain": [
              "['scala',\n",
              " 'java',\n",
              " 'hadoop',\n",
              " 'spark',\n",
              " 'akka',\n",
              " 'spark vs hadoop',\n",
              " 'pyspark',\n",
              " 'pyspark and spark']"
            ]
          },
          "metadata": {
            "tags": []
          },
          "execution_count": 8
        }
      ]
    },
    {
      "cell_type": "code",
      "metadata": {
        "colab": {
          "base_uri": "https://localhost:8080/"
        },
        "id": "iYObblIEBjhy",
        "outputId": "5ba41ff4-1a36-4138-e5f0-582be7c52727"
      },
      "source": [
        "# mix text and numeric\n",
        "\n",
        "df_text_numeric = sc.parallelize([1, 2, 3, 'a b c'])\n",
        "df_text_numeric.collect()"
      ],
      "execution_count": null,
      "outputs": [
        {
          "output_type": "execute_result",
          "data": {
            "text/plain": [
              "[1, 2, 3, 'a b c']"
            ]
          },
          "metadata": {
            "tags": []
          },
          "execution_count": 9
        }
      ]
    },
    {
      "cell_type": "markdown",
      "metadata": {
        "id": "v1q2w6lKCLFQ"
      },
      "source": [
        "### text file"
      ]
    },
    {
      "cell_type": "markdown",
      "metadata": {
        "id": "UkgPRU3oCPCr"
      },
      "source": [
        "untuk data bisa didownload melalui link [ini](https://archive.ics.uci.edu/ml/datasets/Bank+Marketing)"
      ]
    },
    {
      "cell_type": "code",
      "metadata": {
        "colab": {
          "base_uri": "https://localhost:8080/"
        },
        "id": "fPENln6BByF2",
        "outputId": "31d93d6b-a922-4c1b-a36a-54ca0d99810b"
      },
      "source": [
        "df_bank = sc.textFile('bank-additional/bank-additional-full.csv')\n",
        "df_bank.collect()"
      ],
      "execution_count": 6,
      "outputs": [
        {
          "output_type": "execute_result",
          "data": {
            "text/plain": [
              "['\"age\";\"job\";\"marital\";\"education\";\"default\";\"housing\";\"loan\";\"contact\";\"month\";\"day_of_week\";\"duration\";\"campaign\";\"pdays\";\"previous\";\"poutcome\";\"emp.var.rate\";\"cons.price.idx\";\"cons.conf.idx\";\"euribor3m\";\"nr.employed\";\"y\"',\n",
              " '56;\"housemaid\";\"married\";\"basic.4y\";\"no\";\"no\";\"no\";\"telephone\";\"may\";\"mon\";261;1;999;0;\"nonexistent\";1.1;93.994;-36.4;4.857;5191;\"no\"',\n",
              " '57;\"services\";\"married\";\"high.school\";\"unknown\";\"no\";\"no\";\"telephone\";\"may\";\"mon\";149;1;999;0;\"nonexistent\";1.1;93.994;-36.4;4.857;5191;\"no\"',\n",
              " '37;\"services\";\"married\";\"high.school\";\"no\";\"yes\";\"no\";\"telephone\";\"may\";\"mon\";226;1;999;0;\"nonexistent\";1.1;93.994;-36.4;4.857;5191;\"no\"',\n",
              " '40;\"admin.\";\"married\";\"basic.6y\";\"no\";\"no\";\"no\";\"telephone\";\"may\";\"mon\";151;1;999;0;\"nonexistent\";1.1;93.994;-36.4;4.857;5191;\"no\"',\n",
              " '56;\"services\";\"married\";\"high.school\";\"no\";\"no\";\"yes\";\"telephone\";\"may\";\"mon\";307;1;999;0;\"nonexistent\";1.1;93.994;-36.4;4.857;5191;\"no\"',\n",
              " '45;\"services\";\"married\";\"basic.9y\";\"unknown\";\"no\";\"no\";\"telephone\";\"may\";\"mon\";198;1;999;0;\"nonexistent\";1.1;93.994;-36.4;4.857;5191;\"no\"',\n",
              " '59;\"admin.\";\"married\";\"professional.course\";\"no\";\"no\";\"no\";\"telephone\";\"may\";\"mon\";139;1;999;0;\"nonexistent\";1.1;93.994;-36.4;4.857;5191;\"no\"',\n",
              " '41;\"blue-collar\";\"married\";\"unknown\";\"unknown\";\"no\";\"no\";\"telephone\";\"may\";\"mon\";217;1;999;0;\"nonexistent\";1.1;93.994;-36.4;4.857;5191;\"no\"',\n",
              " '24;\"technician\";\"single\";\"professional.course\";\"no\";\"yes\";\"no\";\"telephone\";\"may\";\"mon\";380;1;999;0;\"nonexistent\";1.1;93.994;-36.4;4.857;5191;\"no\"',\n",
              " '25;\"services\";\"single\";\"high.school\";\"no\";\"yes\";\"no\";\"telephone\";\"may\";\"mon\";50;1;999;0;\"nonexistent\";1.1;93.994;-36.4;4.857;5191;\"no\"',\n",
              " '41;\"blue-collar\";\"married\";\"unknown\";\"unknown\";\"no\";\"no\";\"telephone\";\"may\";\"mon\";55;1;999;0;\"nonexistent\";1.1;93.994;-36.4;4.857;5191;\"no\"',\n",
              " '25;\"services\";\"single\";\"high.school\";\"no\";\"yes\";\"no\";\"telephone\";\"may\";\"mon\";222;1;999;0;\"nonexistent\";1.1;93.994;-36.4;4.857;5191;\"no\"',\n",
              " '29;\"blue-collar\";\"single\";\"high.school\";\"no\";\"no\";\"yes\";\"telephone\";\"may\";\"mon\";137;1;999;0;\"nonexistent\";1.1;93.994;-36.4;4.857;5191;\"no\"',\n",
              " '57;\"housemaid\";\"divorced\";\"basic.4y\";\"no\";\"yes\";\"no\";\"telephone\";\"may\";\"mon\";293;1;999;0;\"nonexistent\";1.1;93.994;-36.4;4.857;5191;\"no\"',\n",
              " '35;\"blue-collar\";\"married\";\"basic.6y\";\"no\";\"yes\";\"no\";\"telephone\";\"may\";\"mon\";146;1;999;0;\"nonexistent\";1.1;93.994;-36.4;4.857;5191;\"no\"',\n",
              " '54;\"retired\";\"married\";\"basic.9y\";\"unknown\";\"yes\";\"yes\";\"telephone\";\"may\";\"mon\";174;1;999;0;\"nonexistent\";1.1;93.994;-36.4;4.857;5191;\"no\"',\n",
              " '35;\"blue-collar\";\"married\";\"basic.6y\";\"no\";\"yes\";\"no\";\"telephone\";\"may\";\"mon\";312;1;999;0;\"nonexistent\";1.1;93.994;-36.4;4.857;5191;\"no\"',\n",
              " '46;\"blue-collar\";\"married\";\"basic.6y\";\"unknown\";\"yes\";\"yes\";\"telephone\";\"may\";\"mon\";440;1;999;0;\"nonexistent\";1.1;93.994;-36.4;4.857;5191;\"no\"',\n",
              " '50;\"blue-collar\";\"married\";\"basic.9y\";\"no\";\"yes\";\"yes\";\"telephone\";\"may\";\"mon\";353;1;999;0;\"nonexistent\";1.1;93.994;-36.4;4.857;5191;\"no\"',\n",
              " '39;\"management\";\"single\";\"basic.9y\";\"unknown\";\"no\";\"no\";\"telephone\";\"may\";\"mon\";195;1;999;0;\"nonexistent\";1.1;93.994;-36.4;4.857;5191;\"no\"',\n",
              " '30;\"unemployed\";\"married\";\"high.school\";\"no\";\"no\";\"no\";\"telephone\";\"may\";\"mon\";38;1;999;0;\"nonexistent\";1.1;93.994;-36.4;4.857;5191;\"no\"',\n",
              " '55;\"blue-collar\";\"married\";\"basic.4y\";\"unknown\";\"yes\";\"no\";\"telephone\";\"may\";\"mon\";262;1;999;0;\"nonexistent\";1.1;93.994;-36.4;4.857;5191;\"no\"',\n",
              " '55;\"retired\";\"single\";\"high.school\";\"no\";\"yes\";\"no\";\"telephone\";\"may\";\"mon\";342;1;999;0;\"nonexistent\";1.1;93.994;-36.4;4.857;5191;\"no\"',\n",
              " '41;\"technician\";\"single\";\"high.school\";\"no\";\"yes\";\"no\";\"telephone\";\"may\";\"mon\";181;1;999;0;\"nonexistent\";1.1;93.994;-36.4;4.857;5191;\"no\"',\n",
              " '37;\"admin.\";\"married\";\"high.school\";\"no\";\"yes\";\"no\";\"telephone\";\"may\";\"mon\";172;1;999;0;\"nonexistent\";1.1;93.994;-36.4;4.857;5191;\"no\"',\n",
              " '35;\"technician\";\"married\";\"university.degree\";\"no\";\"no\";\"yes\";\"telephone\";\"may\";\"mon\";99;1;999;0;\"nonexistent\";1.1;93.994;-36.4;4.857;5191;\"no\"',\n",
              " '59;\"technician\";\"married\";\"unknown\";\"no\";\"yes\";\"no\";\"telephone\";\"may\";\"mon\";93;1;999;0;\"nonexistent\";1.1;93.994;-36.4;4.857;5191;\"no\"',\n",
              " '39;\"self-employed\";\"married\";\"basic.9y\";\"unknown\";\"no\";\"no\";\"telephone\";\"may\";\"mon\";233;1;999;0;\"nonexistent\";1.1;93.994;-36.4;4.857;5191;\"no\"',\n",
              " '54;\"technician\";\"single\";\"university.degree\";\"unknown\";\"no\";\"no\";\"telephone\";\"may\";\"mon\";255;2;999;0;\"nonexistent\";1.1;93.994;-36.4;4.857;5191;\"no\"',\n",
              " '55;\"unknown\";\"married\";\"university.degree\";\"unknown\";\"unknown\";\"unknown\";\"telephone\";\"may\";\"mon\";362;1;999;0;\"nonexistent\";1.1;93.994;-36.4;4.857;5191;\"no\"',\n",
              " '46;\"admin.\";\"married\";\"unknown\";\"no\";\"no\";\"no\";\"telephone\";\"may\";\"mon\";348;1;999;0;\"nonexistent\";1.1;93.994;-36.4;4.857;5191;\"no\"',\n",
              " '59;\"technician\";\"married\";\"unknown\";\"no\";\"yes\";\"no\";\"telephone\";\"may\";\"mon\";386;1;999;0;\"nonexistent\";1.1;93.994;-36.4;4.857;5191;\"no\"',\n",
              " '49;\"blue-collar\";\"married\";\"unknown\";\"no\";\"no\";\"no\";\"telephone\";\"may\";\"mon\";73;1;999;0;\"nonexistent\";1.1;93.994;-36.4;4.857;5191;\"no\"',\n",
              " '54;\"management\";\"married\";\"basic.4y\";\"unknown\";\"yes\";\"no\";\"telephone\";\"may\";\"mon\";230;1;999;0;\"nonexistent\";1.1;93.994;-36.4;4.857;5191;\"no\"',\n",
              " '54;\"blue-collar\";\"divorced\";\"basic.4y\";\"no\";\"no\";\"no\";\"telephone\";\"may\";\"mon\";208;1;999;0;\"nonexistent\";1.1;93.994;-36.4;4.857;5191;\"no\"',\n",
              " '55;\"unknown\";\"married\";\"basic.4y\";\"unknown\";\"yes\";\"no\";\"telephone\";\"may\";\"mon\";336;1;999;0;\"nonexistent\";1.1;93.994;-36.4;4.857;5191;\"no\"',\n",
              " '34;\"services\";\"married\";\"high.school\";\"no\";\"no\";\"no\";\"telephone\";\"may\";\"mon\";365;1;999;0;\"nonexistent\";1.1;93.994;-36.4;4.857;5191;\"no\"',\n",
              " '52;\"technician\";\"married\";\"basic.9y\";\"no\";\"yes\";\"no\";\"telephone\";\"may\";\"mon\";1666;1;999;0;\"nonexistent\";1.1;93.994;-36.4;4.857;5191;\"no\"',\n",
              " '41;\"admin.\";\"married\";\"university.degree\";\"no\";\"yes\";\"no\";\"telephone\";\"may\";\"mon\";577;1;999;0;\"nonexistent\";1.1;93.994;-36.4;4.857;5191;\"no\"',\n",
              " '56;\"technician\";\"married\";\"basic.4y\";\"no\";\"yes\";\"no\";\"telephone\";\"may\";\"mon\";137;1;999;0;\"nonexistent\";1.1;93.994;-36.4;4.857;5191;\"no\"',\n",
              " '58;\"management\";\"unknown\";\"university.degree\";\"no\";\"yes\";\"no\";\"telephone\";\"may\";\"mon\";366;1;999;0;\"nonexistent\";1.1;93.994;-36.4;4.857;5191;\"no\"',\n",
              " '32;\"entrepreneur\";\"married\";\"high.school\";\"no\";\"yes\";\"no\";\"telephone\";\"may\";\"mon\";314;1;999;0;\"nonexistent\";1.1;93.994;-36.4;4.857;5191;\"no\"',\n",
              " '38;\"admin.\";\"single\";\"professional.course\";\"no\";\"no\";\"no\";\"telephone\";\"may\";\"mon\";160;1;999;0;\"nonexistent\";1.1;93.994;-36.4;4.857;5191;\"no\"',\n",
              " '57;\"admin.\";\"married\";\"university.degree\";\"no\";\"no\";\"yes\";\"telephone\";\"may\";\"mon\";212;1;999;0;\"nonexistent\";1.1;93.994;-36.4;4.857;5191;\"no\"',\n",
              " '44;\"admin.\";\"married\";\"university.degree\";\"unknown\";\"yes\";\"no\";\"telephone\";\"may\";\"mon\";188;1;999;0;\"nonexistent\";1.1;93.994;-36.4;4.857;5191;\"no\"',\n",
              " '42;\"technician\";\"single\";\"professional.course\";\"unknown\";\"no\";\"no\";\"telephone\";\"may\";\"mon\";22;1;999;0;\"nonexistent\";1.1;93.994;-36.4;4.857;5191;\"no\"',\n",
              " '57;\"admin.\";\"married\";\"university.degree\";\"no\";\"yes\";\"yes\";\"telephone\";\"may\";\"mon\";616;1;999;0;\"nonexistent\";1.1;93.994;-36.4;4.857;5191;\"no\"',\n",
              " '40;\"blue-collar\";\"married\";\"basic.9y\";\"no\";\"no\";\"yes\";\"telephone\";\"may\";\"mon\";178;1;999;0;\"nonexistent\";1.1;93.994;-36.4;4.857;5191;\"no\"',\n",
              " '35;\"admin.\";\"married\";\"university.degree\";\"no\";\"yes\";\"no\";\"telephone\";\"may\";\"mon\";355;1;999;0;\"nonexistent\";1.1;93.994;-36.4;4.857;5191;\"no\"',\n",
              " '45;\"blue-collar\";\"married\";\"basic.9y\";\"no\";\"yes\";\"no\";\"telephone\";\"may\";\"mon\";225;2;999;0;\"nonexistent\";1.1;93.994;-36.4;4.857;5191;\"no\"',\n",
              " '54;\"admin.\";\"married\";\"high.school\";\"no\";\"no\";\"no\";\"telephone\";\"may\";\"mon\";160;1;999;0;\"nonexistent\";1.1;93.994;-36.4;4.857;5191;\"no\"',\n",
              " '39;\"housemaid\";\"married\";\"basic.4y\";\"no\";\"no\";\"yes\";\"telephone\";\"may\";\"mon\";266;1;999;0;\"nonexistent\";1.1;93.994;-36.4;4.857;5191;\"no\"',\n",
              " '60;\"admin.\";\"married\";\"high.school\";\"no\";\"no\";\"no\";\"telephone\";\"may\";\"mon\";253;1;999;0;\"nonexistent\";1.1;93.994;-36.4;4.857;5191;\"no\"',\n",
              " '53;\"admin.\";\"single\";\"professional.course\";\"no\";\"no\";\"no\";\"telephone\";\"may\";\"mon\";179;1;999;0;\"nonexistent\";1.1;93.994;-36.4;4.857;5191;\"no\"',\n",
              " '55;\"blue-collar\";\"married\";\"basic.4y\";\"unknown\";\"no\";\"no\";\"telephone\";\"may\";\"mon\";269;2;999;0;\"nonexistent\";1.1;93.994;-36.4;4.857;5191;\"no\"',\n",
              " '55;\"technician\";\"married\";\"professional.course\";\"unknown\";\"yes\";\"no\";\"telephone\";\"may\";\"mon\";135;1;999;0;\"nonexistent\";1.1;93.994;-36.4;4.857;5191;\"no\"',\n",
              " '50;\"management\";\"married\";\"university.degree\";\"unknown\";\"no\";\"yes\";\"telephone\";\"may\";\"mon\";161;1;999;0;\"nonexistent\";1.1;93.994;-36.4;4.857;5191;\"no\"',\n",
              " '45;\"services\";\"married\";\"high.school\";\"unknown\";\"yes\";\"no\";\"telephone\";\"may\";\"mon\";787;1;999;0;\"nonexistent\";1.1;93.994;-36.4;4.857;5191;\"no\"',\n",
              " '55;\"unemployed\";\"married\";\"professional.course\";\"unknown\";\"yes\";\"yes\";\"telephone\";\"may\";\"mon\";145;1;999;0;\"nonexistent\";1.1;93.994;-36.4;4.857;5191;\"no\"',\n",
              " '25;\"technician\";\"single\";\"university.degree\";\"no\";\"yes\";\"no\";\"telephone\";\"may\";\"mon\";174;1;999;0;\"nonexistent\";1.1;93.994;-36.4;4.857;5191;\"no\"',\n",
              " '47;\"entrepreneur\";\"married\";\"university.degree\";\"unknown\";\"no\";\"no\";\"telephone\";\"may\";\"mon\";449;1;999;0;\"nonexistent\";1.1;93.994;-36.4;4.857;5191;\"no\"',\n",
              " '51;\"blue-collar\";\"married\";\"basic.9y\";\"no\";\"yes\";\"no\";\"telephone\";\"may\";\"mon\";812;1;999;0;\"nonexistent\";1.1;93.994;-36.4;4.857;5191;\"no\"',\n",
              " '42;\"blue-collar\";\"married\";\"basic.6y\";\"unknown\";\"yes\";\"no\";\"telephone\";\"may\";\"mon\";164;1;999;0;\"nonexistent\";1.1;93.994;-36.4;4.857;5191;\"no\"',\n",
              " '42;\"blue-collar\";\"married\";\"basic.6y\";\"unknown\";\"no\";\"no\";\"telephone\";\"may\";\"mon\";366;1;999;0;\"nonexistent\";1.1;93.994;-36.4;4.857;5191;\"no\"',\n",
              " '48;\"admin.\";\"married\";\"high.school\";\"no\";\"no\";\"no\";\"telephone\";\"may\";\"mon\";357;1;999;0;\"nonexistent\";1.1;93.994;-36.4;4.857;5191;\"no\"',\n",
              " '37;\"admin.\";\"married\";\"university.degree\";\"no\";\"no\";\"no\";\"telephone\";\"may\";\"mon\";232;1;999;0;\"nonexistent\";1.1;93.994;-36.4;4.857;5191;\"no\"',\n",
              " '44;\"blue-collar\";\"single\";\"basic.9y\";\"no\";\"yes\";\"no\";\"telephone\";\"may\";\"mon\";91;1;999;0;\"nonexistent\";1.1;93.994;-36.4;4.857;5191;\"no\"',\n",
              " '33;\"admin.\";\"married\";\"unknown\";\"no\";\"yes\";\"no\";\"telephone\";\"may\";\"mon\";273;1;999;0;\"nonexistent\";1.1;93.994;-36.4;4.857;5191;\"no\"',\n",
              " '56;\"admin.\";\"married\";\"basic.9y\";\"no\";\"yes\";\"no\";\"telephone\";\"may\";\"mon\";158;2;999;0;\"nonexistent\";1.1;93.994;-36.4;4.857;5191;\"no\"',\n",
              " '44;\"blue-collar\";\"single\";\"basic.4y\";\"unknown\";\"yes\";\"yes\";\"telephone\";\"may\";\"mon\";177;1;999;0;\"nonexistent\";1.1;93.994;-36.4;4.857;5191;\"no\"',\n",
              " '41;\"management\";\"married\";\"basic.6y\";\"no\";\"no\";\"no\";\"telephone\";\"may\";\"mon\";200;1;999;0;\"nonexistent\";1.1;93.994;-36.4;4.857;5191;\"no\"',\n",
              " '44;\"management\";\"divorced\";\"university.degree\";\"no\";\"yes\";\"no\";\"telephone\";\"may\";\"mon\";172;1;999;0;\"nonexistent\";1.1;93.994;-36.4;4.857;5191;\"no\"',\n",
              " '47;\"admin.\";\"married\";\"university.degree\";\"unknown\";\"yes\";\"no\";\"telephone\";\"may\";\"mon\";176;1;999;0;\"nonexistent\";1.1;93.994;-36.4;4.857;5191;\"no\"',\n",
              " '57;\"unknown\";\"married\";\"unknown\";\"unknown\";\"no\";\"no\";\"telephone\";\"may\";\"mon\";211;1;999;0;\"nonexistent\";1.1;93.994;-36.4;4.857;5191;\"no\"',\n",
              " '37;\"admin.\";\"married\";\"university.degree\";\"unknown\";\"yes\";\"no\";\"telephone\";\"may\";\"mon\";214;1;999;0;\"nonexistent\";1.1;93.994;-36.4;4.857;5191;\"no\"',\n",
              " '41;\"blue-collar\";\"divorced\";\"basic.4y\";\"unknown\";\"yes\";\"no\";\"telephone\";\"may\";\"mon\";1575;1;999;0;\"nonexistent\";1.1;93.994;-36.4;4.857;5191;\"yes\"',\n",
              " '55;\"technician\";\"married\";\"university.degree\";\"no\";\"no\";\"no\";\"telephone\";\"may\";\"mon\";349;1;999;0;\"nonexistent\";1.1;93.994;-36.4;4.857;5191;\"no\"',\n",
              " '33;\"services\";\"married\";\"high.school\";\"unknown\";\"yes\";\"no\";\"telephone\";\"may\";\"mon\";337;2;999;0;\"nonexistent\";1.1;93.994;-36.4;4.857;5191;\"no\"',\n",
              " '55;\"management\";\"married\";\"unknown\";\"unknown\";\"yes\";\"no\";\"telephone\";\"may\";\"mon\";272;1;999;0;\"nonexistent\";1.1;93.994;-36.4;4.857;5191;\"no\"',\n",
              " '42;\"blue-collar\";\"married\";\"basic.9y\";\"unknown\";\"no\";\"no\";\"telephone\";\"may\";\"mon\";208;1;999;0;\"nonexistent\";1.1;93.994;-36.4;4.857;5191;\"no\"',\n",
              " '50;\"blue-collar\";\"married\";\"basic.4y\";\"unknown\";\"yes\";\"no\";\"telephone\";\"may\";\"mon\";193;1;999;0;\"nonexistent\";1.1;93.994;-36.4;4.857;5191;\"no\"',\n",
              " '51;\"blue-collar\";\"married\";\"basic.4y\";\"unknown\";\"unknown\";\"unknown\";\"telephone\";\"may\";\"mon\";212;1;999;0;\"nonexistent\";1.1;93.994;-36.4;4.857;5191;\"no\"',\n",
              " '38;\"admin.\";\"married\";\"high.school\";\"unknown\";\"no\";\"no\";\"telephone\";\"may\";\"mon\";165;2;999;0;\"nonexistent\";1.1;93.994;-36.4;4.857;5191;\"no\"',\n",
              " '49;\"entrepreneur\";\"married\";\"university.degree\";\"unknown\";\"yes\";\"no\";\"telephone\";\"may\";\"mon\";1042;1;999;0;\"nonexistent\";1.1;93.994;-36.4;4.857;5191;\"yes\"',\n",
              " '38;\"technician\";\"single\";\"university.degree\";\"no\";\"no\";\"yes\";\"telephone\";\"may\";\"mon\";20;1;999;0;\"nonexistent\";1.1;93.994;-36.4;4.857;5191;\"no\"',\n",
              " '31;\"admin.\";\"divorced\";\"high.school\";\"no\";\"no\";\"no\";\"telephone\";\"may\";\"mon\";246;1;999;0;\"nonexistent\";1.1;93.994;-36.4;4.857;5191;\"no\"',\n",
              " '41;\"management\";\"married\";\"basic.6y\";\"no\";\"no\";\"no\";\"telephone\";\"may\";\"mon\";529;2;999;0;\"nonexistent\";1.1;93.994;-36.4;4.857;5191;\"no\"',\n",
              " '39;\"admin.\";\"married\";\"university.degree\";\"no\";\"yes\";\"yes\";\"telephone\";\"may\";\"mon\";192;1;999;0;\"nonexistent\";1.1;93.994;-36.4;4.857;5191;\"no\"',\n",
              " '49;\"technician\";\"married\";\"basic.9y\";\"no\";\"no\";\"no\";\"telephone\";\"may\";\"mon\";1467;1;999;0;\"nonexistent\";1.1;93.994;-36.4;4.857;5191;\"yes\"',\n",
              " '34;\"admin.\";\"married\";\"high.school\";\"no\";\"yes\";\"no\";\"telephone\";\"may\";\"mon\";188;2;999;0;\"nonexistent\";1.1;93.994;-36.4;4.857;5191;\"no\"',\n",
              " '35;\"admin.\";\"married\";\"university.degree\";\"no\";\"yes\";\"no\";\"telephone\";\"may\";\"mon\";180;2;999;0;\"nonexistent\";1.1;93.994;-36.4;4.857;5191;\"no\"',\n",
              " '57;\"unknown\";\"married\";\"unknown\";\"unknown\";\"yes\";\"no\";\"telephone\";\"may\";\"mon\";48;1;999;0;\"nonexistent\";1.1;93.994;-36.4;4.857;5191;\"no\"',\n",
              " '60;\"admin.\";\"married\";\"unknown\";\"unknown\";\"no\";\"yes\";\"telephone\";\"may\";\"mon\";213;2;999;0;\"nonexistent\";1.1;93.994;-36.4;4.857;5191;\"no\"',\n",
              " '33;\"unemployed\";\"married\";\"basic.9y\";\"no\";\"no\";\"no\";\"telephone\";\"may\";\"mon\";545;1;999;0;\"nonexistent\";1.1;93.994;-36.4;4.857;5191;\"no\"',\n",
              " '42;\"blue-collar\";\"married\";\"basic.6y\";\"no\";\"no\";\"yes\";\"telephone\";\"may\";\"mon\";583;1;999;0;\"nonexistent\";1.1;93.994;-36.4;4.857;5191;\"no\"',\n",
              " '45;\"services\";\"married\";\"professional.course\";\"no\";\"yes\";\"no\";\"telephone\";\"may\";\"mon\";221;1;999;0;\"nonexistent\";1.1;93.994;-36.4;4.857;5191;\"no\"',\n",
              " '42;\"management\";\"married\";\"university.degree\";\"no\";\"no\";\"no\";\"telephone\";\"may\";\"mon\";426;1;999;0;\"nonexistent\";1.1;93.994;-36.4;4.857;5191;\"no\"',\n",
              " '53;\"admin.\";\"divorced\";\"university.degree\";\"unknown\";\"no\";\"no\";\"telephone\";\"may\";\"mon\";287;1;999;0;\"nonexistent\";1.1;93.994;-36.4;4.857;5191;\"no\"',\n",
              " '37;\"technician\";\"single\";\"professional.course\";\"no\";\"no\";\"no\";\"telephone\";\"may\";\"mon\";197;1;999;0;\"nonexistent\";1.1;93.994;-36.4;4.857;5191;\"no\"',\n",
              " '44;\"blue-collar\";\"married\";\"basic.6y\";\"no\";\"no\";\"no\";\"telephone\";\"may\";\"mon\";257;1;999;0;\"nonexistent\";1.1;93.994;-36.4;4.857;5191;\"no\"',\n",
              " '54;\"services\";\"married\";\"unknown\";\"no\";\"yes\";\"no\";\"telephone\";\"may\";\"mon\";229;1;999;0;\"nonexistent\";1.1;93.994;-36.4;4.857;5191;\"no\"',\n",
              " '49;\"blue-collar\";\"married\";\"basic.4y\";\"no\";\"no\";\"no\";\"telephone\";\"may\";\"mon\";55;3;999;0;\"nonexistent\";1.1;93.994;-36.4;4.857;5191;\"no\"',\n",
              " '54;\"services\";\"married\";\"unknown\";\"no\";\"no\";\"no\";\"telephone\";\"may\";\"mon\";400;1;999;0;\"nonexistent\";1.1;93.994;-36.4;4.857;5191;\"no\"',\n",
              " '52;\"admin.\";\"divorced\";\"university.degree\";\"no\";\"no\";\"no\";\"telephone\";\"may\";\"mon\";197;1;999;0;\"nonexistent\";1.1;93.994;-36.4;4.857;5191;\"no\"',\n",
              " '52;\"admin.\";\"divorced\";\"university.degree\";\"no\";\"no\";\"no\";\"telephone\";\"may\";\"mon\";190;1;999;0;\"nonexistent\";1.1;93.994;-36.4;4.857;5191;\"no\"',\n",
              " '43;\"services\";\"single\";\"high.school\";\"unknown\";\"no\";\"no\";\"telephone\";\"may\";\"mon\";21;1;999;0;\"nonexistent\";1.1;93.994;-36.4;4.857;5191;\"no\"',\n",
              " '34;\"housemaid\";\"married\";\"basic.6y\";\"no\";\"yes\";\"no\";\"telephone\";\"may\";\"mon\";300;2;999;0;\"nonexistent\";1.1;93.994;-36.4;4.857;5191;\"no\"',\n",
              " '35;\"admin.\";\"married\";\"high.school\";\"no\";\"yes\";\"no\";\"telephone\";\"may\";\"mon\";123;2;999;0;\"nonexistent\";1.1;93.994;-36.4;4.857;5191;\"no\"',\n",
              " '42;\"entrepreneur\";\"married\";\"unknown\";\"unknown\";\"yes\";\"no\";\"telephone\";\"may\";\"mon\";293;1;999;0;\"nonexistent\";1.1;93.994;-36.4;4.857;5191;\"no\"',\n",
              " '43;\"technician\";\"married\";\"unknown\";\"unknown\";\"yes\";\"yes\";\"telephone\";\"may\";\"mon\";325;1;999;0;\"nonexistent\";1.1;93.994;-36.4;4.857;5191;\"no\"',\n",
              " '60;\"retired\";\"divorced\";\"university.degree\";\"unknown\";\"no\";\"no\";\"telephone\";\"may\";\"mon\";514;1;999;0;\"nonexistent\";1.1;93.994;-36.4;4.857;5191;\"no\"',\n",
              " '58;\"unemployed\";\"married\";\"basic.4y\";\"unknown\";\"no\";\"no\";\"telephone\";\"may\";\"mon\";849;2;999;0;\"nonexistent\";1.1;93.994;-36.4;4.857;5191;\"no\"',\n",
              " '35;\"services\";\"divorced\";\"high.school\";\"no\";\"yes\";\"no\";\"telephone\";\"may\";\"mon\";194;1;999;0;\"nonexistent\";1.1;93.994;-36.4;4.857;5191;\"no\"',\n",
              " '55;\"blue-collar\";\"married\";\"basic.9y\";\"unknown\";\"yes\";\"no\";\"telephone\";\"may\";\"mon\";212;2;999;0;\"nonexistent\";1.1;93.994;-36.4;4.857;5191;\"no\"',\n",
              " '37;\"management\";\"married\";\"university.degree\";\"no\";\"no\";\"no\";\"telephone\";\"may\";\"mon\";337;2;999;0;\"nonexistent\";1.1;93.994;-36.4;4.857;5191;\"no\"',\n",
              " '36;\"blue-collar\";\"married\";\"high.school\";\"no\";\"no\";\"no\";\"telephone\";\"may\";\"mon\";286;1;999;0;\"nonexistent\";1.1;93.994;-36.4;4.857;5191;\"no\"',\n",
              " '52;\"admin.\";\"divorced\";\"university.degree\";\"no\";\"no\";\"no\";\"telephone\";\"may\";\"mon\";247;2;999;0;\"nonexistent\";1.1;93.994;-36.4;4.857;5191;\"no\"',\n",
              " '57;\"blue-collar\";\"divorced\";\"unknown\";\"unknown\";\"yes\";\"no\";\"telephone\";\"may\";\"mon\";518;1;999;0;\"nonexistent\";1.1;93.994;-36.4;4.857;5191;\"no\"',\n",
              " '56;\"admin.\";\"married\";\"unknown\";\"no\";\"yes\";\"no\";\"telephone\";\"may\";\"mon\";364;1;999;0;\"nonexistent\";1.1;93.994;-36.4;4.857;5191;\"no\"',\n",
              " '48;\"blue-collar\";\"divorced\";\"basic.4y\";\"unknown\";\"yes\";\"no\";\"telephone\";\"may\";\"mon\";178;1;999;0;\"nonexistent\";1.1;93.994;-36.4;4.857;5191;\"no\"',\n",
              " '40;\"blue-collar\";\"married\";\"high.school\";\"unknown\";\"yes\";\"no\";\"telephone\";\"may\";\"mon\";98;1;999;0;\"nonexistent\";1.1;93.994;-36.4;4.857;5191;\"no\"',\n",
              " '49;\"blue-collar\";\"divorced\";\"high.school\";\"no\";\"no\";\"no\";\"telephone\";\"may\";\"mon\";439;1;999;0;\"nonexistent\";1.1;93.994;-36.4;4.857;5191;\"no\"',\n",
              " '41;\"services\";\"married\";\"high.school\";\"no\";\"no\";\"no\";\"telephone\";\"may\";\"mon\";139;1;999;0;\"nonexistent\";1.1;93.994;-36.4;4.857;5191;\"no\"',\n",
              " '45;\"technician\";\"married\";\"high.school\";\"no\";\"yes\";\"no\";\"telephone\";\"may\";\"mon\";79;1;999;0;\"nonexistent\";1.1;93.994;-36.4;4.857;5191;\"no\"',\n",
              " '32;\"admin.\";\"married\";\"university.degree\";\"no\";\"yes\";\"yes\";\"telephone\";\"may\";\"mon\";175;1;999;0;\"nonexistent\";1.1;93.994;-36.4;4.857;5191;\"no\"',\n",
              " '42;\"admin.\";\"married\";\"university.degree\";\"no\";\"no\";\"yes\";\"telephone\";\"may\";\"mon\";262;2;999;0;\"nonexistent\";1.1;93.994;-36.4;4.857;5191;\"no\"',\n",
              " '50;\"admin.\";\"married\";\"basic.6y\";\"no\";\"no\";\"no\";\"telephone\";\"may\";\"mon\";61;1;999;0;\"nonexistent\";1.1;93.994;-36.4;4.857;5191;\"no\"',\n",
              " '31;\"technician\";\"divorced\";\"professional.course\";\"no\";\"yes\";\"yes\";\"telephone\";\"may\";\"mon\";78;1;999;0;\"nonexistent\";1.1;93.994;-36.4;4.857;5191;\"no\"',\n",
              " '56;\"retired\";\"married\";\"basic.4y\";\"no\";\"yes\";\"no\";\"telephone\";\"may\";\"mon\";102;2;999;0;\"nonexistent\";1.1;93.994;-36.4;4.857;5191;\"no\"',\n",
              " '41;\"technician\";\"married\";\"professional.course\";\"unknown\";\"yes\";\"no\";\"telephone\";\"may\";\"mon\";579;1;999;0;\"nonexistent\";1.1;93.994;-36.4;4.857;5191;\"yes\"',\n",
              " '37;\"blue-collar\";\"married\";\"basic.6y\";\"no\";\"yes\";\"yes\";\"telephone\";\"may\";\"mon\";143;1;999;0;\"nonexistent\";1.1;93.994;-36.4;4.857;5191;\"no\"',\n",
              " '41;\"technician\";\"married\";\"professional.course\";\"unknown\";\"no\";\"no\";\"telephone\";\"may\";\"mon\";677;1;999;0;\"nonexistent\";1.1;93.994;-36.4;4.857;5191;\"no\"',\n",
              " '35;\"blue-collar\";\"married\";\"unknown\";\"no\";\"yes\";\"no\";\"telephone\";\"may\";\"mon\";267;1;999;0;\"nonexistent\";1.1;93.994;-36.4;4.857;5191;\"no\"',\n",
              " '37;\"blue-collar\";\"married\";\"basic.6y\";\"no\";\"yes\";\"no\";\"telephone\";\"may\";\"mon\";345;1;999;0;\"nonexistent\";1.1;93.994;-36.4;4.857;5191;\"no\"',\n",
              " '52;\"management\";\"married\";\"university.degree\";\"no\";\"no\";\"no\";\"telephone\";\"may\";\"mon\";185;1;999;0;\"nonexistent\";1.1;93.994;-36.4;4.857;5191;\"no\"',\n",
              " '39;\"management\";\"divorced\";\"university.degree\";\"no\";\"no\";\"no\";\"telephone\";\"may\";\"mon\";207;1;999;0;\"nonexistent\";1.1;93.994;-36.4;4.857;5191;\"no\"',\n",
              " '39;\"housemaid\";\"married\";\"basic.4y\";\"unknown\";\"no\";\"no\";\"telephone\";\"may\";\"mon\";69;2;999;0;\"nonexistent\";1.1;93.994;-36.4;4.857;5191;\"no\"',\n",
              " '56;\"blue-collar\";\"married\";\"basic.4y\";\"unknown\";\"no\";\"no\";\"telephone\";\"may\";\"mon\";100;2;999;0;\"nonexistent\";1.1;93.994;-36.4;4.857;5191;\"no\"',\n",
              " '34;\"services\";\"married\";\"high.school\";\"no\";\"yes\";\"no\";\"telephone\";\"may\";\"mon\";125;2;999;0;\"nonexistent\";1.1;93.994;-36.4;4.857;5191;\"no\"',\n",
              " '45;\"blue-collar\";\"married\";\"basic.9y\";\"unknown\";\"yes\";\"no\";\"telephone\";\"may\";\"mon\";461;1;999;0;\"nonexistent\";1.1;93.994;-36.4;4.857;5191;\"yes\"',\n",
              " '43;\"unemployed\";\"single\";\"university.degree\";\"no\";\"yes\";\"no\";\"telephone\";\"may\";\"mon\";240;1;999;0;\"nonexistent\";1.1;93.994;-36.4;4.857;5191;\"no\"',\n",
              " '56;\"management\";\"married\";\"unknown\";\"no\";\"yes\";\"no\";\"telephone\";\"may\";\"mon\";70;1;999;0;\"nonexistent\";1.1;93.994;-36.4;4.857;5191;\"no\"',\n",
              " '39;\"management\";\"married\";\"university.degree\";\"no\";\"yes\";\"no\";\"telephone\";\"may\";\"mon\";193;1;999;0;\"nonexistent\";1.1;93.994;-36.4;4.857;5191;\"no\"',\n",
              " '53;\"blue-collar\";\"married\";\"basic.4y\";\"no\";\"yes\";\"no\";\"telephone\";\"may\";\"mon\";136;1;999;0;\"nonexistent\";1.1;93.994;-36.4;4.857;5191;\"no\"',\n",
              " '38;\"unknown\";\"divorced\";\"high.school\";\"unknown\";\"yes\";\"no\";\"telephone\";\"may\";\"mon\";73;1;999;0;\"nonexistent\";1.1;93.994;-36.4;4.857;5191;\"no\"',\n",
              " '42;\"blue-collar\";\"married\";\"basic.4y\";\"unknown\";\"yes\";\"no\";\"telephone\";\"may\";\"mon\";528;1;999;0;\"nonexistent\";1.1;93.994;-36.4;4.857;5191;\"no\"',\n",
              " '42;\"blue-collar\";\"married\";\"basic.4y\";\"unknown\";\"no\";\"no\";\"telephone\";\"may\";\"mon\";541;1;999;0;\"nonexistent\";1.1;93.994;-36.4;4.857;5191;\"no\"',\n",
              " '35;\"admin.\";\"single\";\"high.school\";\"no\";\"yes\";\"no\";\"telephone\";\"may\";\"mon\";338;1;999;0;\"nonexistent\";1.1;93.994;-36.4;4.857;5191;\"no\"',\n",
              " '40;\"admin.\";\"married\";\"university.degree\";\"unknown\";\"yes\";\"no\";\"telephone\";\"may\";\"mon\";163;1;999;0;\"nonexistent\";1.1;93.994;-36.4;4.857;5191;\"no\"',\n",
              " '51;\"blue-collar\";\"married\";\"basic.4y\";\"no\";\"yes\";\"no\";\"telephone\";\"may\";\"mon\";87;1;999;0;\"nonexistent\";1.1;93.994;-36.4;4.857;5191;\"no\"',\n",
              " '60;\"blue-collar\";\"married\";\"basic.9y\";\"unknown\";\"no\";\"no\";\"telephone\";\"may\";\"mon\";301;1;999;0;\"nonexistent\";1.1;93.994;-36.4;4.857;5191;\"no\"',\n",
              " '56;\"entrepreneur\";\"married\";\"unknown\";\"unknown\";\"yes\";\"no\";\"telephone\";\"may\";\"mon\";46;1;999;0;\"nonexistent\";1.1;93.994;-36.4;4.857;5191;\"no\"',\n",
              " '39;\"services\";\"divorced\";\"high.school\";\"unknown\";\"yes\";\"no\";\"telephone\";\"may\";\"mon\";52;1;999;0;\"nonexistent\";1.1;93.994;-36.4;4.857;5191;\"no\"',\n",
              " '56;\"entrepreneur\";\"married\";\"unknown\";\"unknown\";\"no\";\"no\";\"telephone\";\"may\";\"mon\";204;1;999;0;\"nonexistent\";1.1;93.994;-36.4;4.857;5191;\"no\"',\n",
              " '40;\"blue-collar\";\"married\";\"unknown\";\"no\";\"yes\";\"yes\";\"telephone\";\"may\";\"mon\";155;1;999;0;\"nonexistent\";1.1;93.994;-36.4;4.857;5191;\"no\"',\n",
              " '36;\"blue-collar\";\"married\";\"basic.9y\";\"no\";\"yes\";\"yes\";\"telephone\";\"may\";\"mon\";98;1;999;0;\"nonexistent\";1.1;93.994;-36.4;4.857;5191;\"no\"',\n",
              " '51;\"blue-collar\";\"married\";\"unknown\";\"unknown\";\"yes\";\"no\";\"telephone\";\"may\";\"mon\";71;1;999;0;\"nonexistent\";1.1;93.994;-36.4;4.857;5191;\"no\"',\n",
              " '51;\"blue-collar\";\"married\";\"unknown\";\"unknown\";\"no\";\"no\";\"telephone\";\"may\";\"mon\";243;1;999;0;\"nonexistent\";1.1;93.994;-36.4;4.857;5191;\"no\"',\n",
              " '43;\"technician\";\"single\";\"professional.course\";\"no\";\"yes\";\"no\";\"telephone\";\"may\";\"mon\";186;2;999;0;\"nonexistent\";1.1;93.994;-36.4;4.857;5191;\"no\"',\n",
              " '59;\"services\";\"married\";\"high.school\";\"no\";\"no\";\"no\";\"telephone\";\"may\";\"mon\";579;2;999;0;\"nonexistent\";1.1;93.994;-36.4;4.857;5191;\"no\"',\n",
              " '24;\"management\";\"single\";\"university.degree\";\"no\";\"yes\";\"no\";\"telephone\";\"may\";\"mon\";165;2;999;0;\"nonexistent\";1.1;93.994;-36.4;4.857;5191;\"no\"',\n",
              " '37;\"blue-collar\";\"single\";\"basic.9y\";\"unknown\";\"yes\";\"yes\";\"telephone\";\"may\";\"mon\";163;2;999;0;\"nonexistent\";1.1;93.994;-36.4;4.857;5191;\"no\"',\n",
              " '40;\"blue-collar\";\"married\";\"basic.9y\";\"unknown\";\"no\";\"no\";\"telephone\";\"may\";\"mon\";46;1;999;0;\"nonexistent\";1.1;93.994;-36.4;4.857;5191;\"no\"',\n",
              " '42;\"blue-collar\";\"married\";\"basic.9y\";\"unknown\";\"no\";\"no\";\"telephone\";\"may\";\"mon\";559;3;999;0;\"nonexistent\";1.1;93.994;-36.4;4.857;5191;\"no\"',\n",
              " '39;\"services\";\"divorced\";\"high.school\";\"unknown\";\"no\";\"no\";\"telephone\";\"may\";\"mon\";2033;1;999;0;\"nonexistent\";1.1;93.994;-36.4;4.857;5191;\"no\"',\n",
              " '37;\"entrepreneur\";\"married\";\"basic.6y\";\"no\";\"no\";\"no\";\"telephone\";\"may\";\"mon\";85;1;999;0;\"nonexistent\";1.1;93.994;-36.4;4.857;5191;\"no\"',\n",
              " '38;\"services\";\"married\";\"high.school\";\"no\";\"yes\";\"yes\";\"telephone\";\"may\";\"mon\";506;1;999;0;\"nonexistent\";1.1;93.994;-36.4;4.857;5191;\"no\"',\n",
              " '56;\"admin.\";\"divorced\";\"unknown\";\"unknown\";\"no\";\"no\";\"telephone\";\"may\";\"mon\";114;2;999;0;\"nonexistent\";1.1;93.994;-36.4;4.857;5191;\"no\"',\n",
              " '40;\"blue-collar\";\"married\";\"unknown\";\"no\";\"no\";\"no\";\"telephone\";\"may\";\"mon\";114;2;999;0;\"nonexistent\";1.1;93.994;-36.4;4.857;5191;\"no\"',\n",
              " '54;\"management\";\"divorced\";\"university.degree\";\"no\";\"yes\";\"no\";\"telephone\";\"may\";\"mon\";843;2;999;0;\"nonexistent\";1.1;93.994;-36.4;4.857;5191;\"no\"',\n",
              " '43;\"blue-collar\";\"married\";\"high.school\";\"unknown\";\"no\";\"yes\";\"telephone\";\"may\";\"mon\";181;1;999;0;\"nonexistent\";1.1;93.994;-36.4;4.857;5191;\"no\"',\n",
              " '36;\"services\";\"married\";\"high.school\";\"unknown\";\"no\";\"no\";\"telephone\";\"may\";\"mon\";427;1;999;0;\"nonexistent\";1.1;93.994;-36.4;4.857;5191;\"no\"',\n",
              " '45;\"technician\";\"married\";\"university.degree\";\"no\";\"yes\";\"yes\";\"telephone\";\"may\";\"mon\";292;1;999;0;\"nonexistent\";1.1;93.994;-36.4;4.857;5191;\"no\"',\n",
              " '42;\"admin.\";\"single\";\"university.degree\";\"unknown\";\"no\";\"no\";\"telephone\";\"may\";\"mon\";192;1;999;0;\"nonexistent\";1.1;93.994;-36.4;4.857;5191;\"no\"',\n",
              " '43;\"services\";\"married\";\"high.school\";\"no\";\"no\";\"no\";\"telephone\";\"may\";\"mon\";93;3;999;0;\"nonexistent\";1.1;93.994;-36.4;4.857;5191;\"no\"',\n",
              " '46;\"management\";\"married\";\"basic.9y\";\"no\";\"no\";\"no\";\"telephone\";\"may\";\"mon\";128;2;999;0;\"nonexistent\";1.1;93.994;-36.4;4.857;5191;\"no\"',\n",
              " '44;\"services\";\"married\";\"high.school\";\"no\";\"yes\";\"yes\";\"telephone\";\"may\";\"mon\";107;1;999;0;\"nonexistent\";1.1;93.994;-36.4;4.857;5191;\"no\"',\n",
              " '51;\"admin.\";\"single\";\"basic.6y\";\"no\";\"no\";\"no\";\"telephone\";\"may\";\"mon\";303;2;999;0;\"nonexistent\";1.1;93.994;-36.4;4.857;5191;\"no\"',\n",
              " '28;\"services\";\"married\";\"high.school\";\"no\";\"yes\";\"no\";\"telephone\";\"may\";\"mon\";81;1;999;0;\"nonexistent\";1.1;93.994;-36.4;4.857;5191;\"no\"',\n",
              " '37;\"blue-collar\";\"married\";\"basic.9y\";\"no\";\"no\";\"no\";\"telephone\";\"may\";\"mon\";270;1;999;0;\"nonexistent\";1.1;93.994;-36.4;4.857;5191;\"no\"',\n",
              " '34;\"technician\";\"married\";\"high.school\";\"no\";\"no\";\"no\";\"telephone\";\"may\";\"mon\";228;1;999;0;\"nonexistent\";1.1;93.994;-36.4;4.857;5191;\"no\"',\n",
              " '46;\"blue-collar\";\"married\";\"basic.6y\";\"unknown\";\"yes\";\"no\";\"telephone\";\"may\";\"mon\";240;1;999;0;\"nonexistent\";1.1;93.994;-36.4;4.857;5191;\"no\"',\n",
              " '42;\"blue-collar\";\"married\";\"basic.9y\";\"no\";\"yes\";\"yes\";\"telephone\";\"may\";\"mon\";673;2;999;0;\"nonexistent\";1.1;93.994;-36.4;4.857;5191;\"yes\"',\n",
              " '36;\"admin.\";\"married\";\"university.degree\";\"no\";\"yes\";\"no\";\"telephone\";\"may\";\"mon\";233;3;999;0;\"nonexistent\";1.1;93.994;-36.4;4.857;5191;\"no\"',\n",
              " '54;\"blue-collar\";\"married\";\"basic.4y\";\"unknown\";\"no\";\"no\";\"telephone\";\"may\";\"mon\";102;1;999;0;\"nonexistent\";1.1;93.994;-36.4;4.857;5191;\"no\"',\n",
              " '57;\"management\";\"married\";\"university.degree\";\"no\";\"no\";\"no\";\"telephone\";\"may\";\"mon\";461;1;999;0;\"nonexistent\";1.1;93.994;-36.4;4.857;5191;\"no\"',\n",
              " '51;\"technician\";\"married\";\"basic.6y\";\"unknown\";\"no\";\"no\";\"telephone\";\"may\";\"mon\";250;1;999;0;\"nonexistent\";1.1;93.994;-36.4;4.857;5191;\"no\"',\n",
              " '54;\"retired\";\"married\";\"high.school\";\"unknown\";\"no\";\"no\";\"telephone\";\"may\";\"mon\";130;1;999;0;\"nonexistent\";1.1;93.994;-36.4;4.857;5191;\"no\"',\n",
              " '49;\"blue-collar\";\"married\";\"basic.4y\";\"unknown\";\"no\";\"no\";\"telephone\";\"may\";\"mon\";252;1;999;0;\"nonexistent\";1.1;93.994;-36.4;4.857;5191;\"no\"',\n",
              " '34;\"admin.\";\"married\";\"university.degree\";\"no\";\"yes\";\"no\";\"telephone\";\"may\";\"mon\";138;1;999;0;\"nonexistent\";1.1;93.994;-36.4;4.857;5191;\"no\"',\n",
              " '41;\"technician\";\"married\";\"professional.course\";\"no\";\"no\";\"no\";\"telephone\";\"may\";\"mon\";412;1;999;0;\"nonexistent\";1.1;93.994;-36.4;4.857;5191;\"no\"',\n",
              " '38;\"blue-collar\";\"single\";\"basic.9y\";\"no\";\"yes\";\"no\";\"telephone\";\"may\";\"mon\";179;2;999;0;\"nonexistent\";1.1;93.994;-36.4;4.857;5191;\"no\"',\n",
              " '45;\"management\";\"divorced\";\"university.degree\";\"no\";\"no\";\"no\";\"telephone\";\"may\";\"mon\";19;2;999;0;\"nonexistent\";1.1;93.994;-36.4;4.857;5191;\"no\"',\n",
              " '42;\"technician\";\"married\";\"university.degree\";\"no\";\"no\";\"no\";\"telephone\";\"may\";\"mon\";228;2;999;0;\"nonexistent\";1.1;93.994;-36.4;4.857;5191;\"no\"',\n",
              " '34;\"blue-collar\";\"single\";\"basic.9y\";\"unknown\";\"yes\";\"no\";\"telephone\";\"may\";\"mon\";55;1;999;0;\"nonexistent\";1.1;93.994;-36.4;4.857;5191;\"no\"',\n",
              " '48;\"blue-collar\";\"married\";\"basic.4y\";\"no\";\"yes\";\"no\";\"telephone\";\"may\";\"mon\";717;1;999;0;\"nonexistent\";1.1;93.994;-36.4;4.857;5191;\"no\"',\n",
              " '37;\"admin.\";\"married\";\"high.school\";\"unknown\";\"yes\";\"no\";\"telephone\";\"may\";\"mon\";313;1;999;0;\"nonexistent\";1.1;93.994;-36.4;4.857;5191;\"no\"',\n",
              " '34;\"blue-collar\";\"single\";\"basic.9y\";\"unknown\";\"no\";\"no\";\"telephone\";\"may\";\"mon\";289;1;999;0;\"nonexistent\";1.1;93.994;-36.4;4.857;5191;\"no\"',\n",
              " '40;\"admin.\";\"married\";\"basic.9y\";\"unknown\";\"yes\";\"no\";\"telephone\";\"may\";\"mon\";683;2;999;0;\"nonexistent\";1.1;93.994;-36.4;4.857;5191;\"no\"',\n",
              " '43;\"blue-collar\";\"married\";\"basic.6y\";\"no\";\"yes\";\"no\";\"telephone\";\"may\";\"mon\";1077;1;999;0;\"nonexistent\";1.1;93.994;-36.4;4.857;5191;\"no\"',\n",
              " '33;\"services\";\"married\";\"high.school\";\"no\";\"no\";\"no\";\"telephone\";\"may\";\"mon\";146;2;999;0;\"nonexistent\";1.1;93.994;-36.4;4.857;5191;\"no\"',\n",
              " '32;\"services\";\"single\";\"basic.6y\";\"no\";\"no\";\"no\";\"telephone\";\"may\";\"mon\";167;1;999;0;\"nonexistent\";1.1;93.994;-36.4;4.857;5191;\"no\"',\n",
              " '39;\"blue-collar\";\"married\";\"high.school\";\"no\";\"yes\";\"no\";\"telephone\";\"may\";\"mon\";356;2;999;0;\"nonexistent\";1.1;93.994;-36.4;4.857;5191;\"no\"',\n",
              " '43;\"admin.\";\"married\";\"unknown\";\"no\";\"no\";\"no\";\"telephone\";\"may\";\"mon\";277;1;999;0;\"nonexistent\";1.1;93.994;-36.4;4.857;5191;\"no\"',\n",
              " '44;\"blue-collar\";\"married\";\"basic.9y\";\"no\";\"yes\";\"no\";\"telephone\";\"may\";\"mon\";172;1;999;0;\"nonexistent\";1.1;93.994;-36.4;4.857;5191;\"no\"',\n",
              " '35;\"student\";\"single\";\"university.degree\";\"unknown\";\"no\";\"no\";\"telephone\";\"may\";\"mon\";218;1;999;0;\"nonexistent\";1.1;93.994;-36.4;4.857;5191;\"no\"',\n",
              " '35;\"student\";\"single\";\"university.degree\";\"unknown\";\"yes\";\"yes\";\"telephone\";\"may\";\"mon\";217;1;999;0;\"nonexistent\";1.1;93.994;-36.4;4.857;5191;\"no\"',\n",
              " '35;\"unemployed\";\"married\";\"professional.course\";\"no\";\"no\";\"no\";\"telephone\";\"may\";\"mon\";67;1;999;0;\"nonexistent\";1.1;93.994;-36.4;4.857;5191;\"no\"',\n",
              " '36;\"services\";\"single\";\"basic.4y\";\"no\";\"no\";\"no\";\"telephone\";\"may\";\"mon\";291;1;999;0;\"nonexistent\";1.1;93.994;-36.4;4.857;5191;\"no\"',\n",
              " '35;\"student\";\"single\";\"university.degree\";\"unknown\";\"yes\";\"no\";\"telephone\";\"may\";\"mon\";248;1;999;0;\"nonexistent\";1.1;93.994;-36.4;4.857;5191;\"no\"',\n",
              " '36;\"student\";\"single\";\"basic.9y\";\"no\";\"yes\";\"no\";\"telephone\";\"may\";\"mon\";256;1;999;0;\"nonexistent\";1.1;93.994;-36.4;4.857;5191;\"no\"',\n",
              " '55;\"housemaid\";\"divorced\";\"university.degree\";\"no\";\"no\";\"no\";\"telephone\";\"may\";\"mon\";286;1;999;0;\"nonexistent\";1.1;93.994;-36.4;4.857;5191;\"no\"',\n",
              " '59;\"admin.\";\"married\";\"university.degree\";\"no\";\"no\";\"no\";\"telephone\";\"may\";\"mon\";477;1;999;0;\"nonexistent\";1.1;93.994;-36.4;4.857;5191;\"no\"',\n",
              " '57;\"retired\";\"married\";\"unknown\";\"unknown\";\"no\";\"no\";\"telephone\";\"may\";\"mon\";611;2;999;0;\"nonexistent\";1.1;93.994;-36.4;4.857;5191;\"no\"',\n",
              " '39;\"blue-collar\";\"married\";\"professional.course\";\"unknown\";\"yes\";\"no\";\"telephone\";\"may\";\"mon\";471;1;999;0;\"nonexistent\";1.1;93.994;-36.4;4.857;5191;\"no\"',\n",
              " '39;\"housemaid\";\"married\";\"basic.4y\";\"unknown\";\"yes\";\"no\";\"telephone\";\"may\";\"mon\";381;2;999;0;\"nonexistent\";1.1;93.994;-36.4;4.857;5191;\"no\"',\n",
              " '30;\"blue-collar\";\"single\";\"unknown\";\"no\";\"yes\";\"no\";\"telephone\";\"may\";\"mon\";251;1;999;0;\"nonexistent\";1.1;93.994;-36.4;4.857;5191;\"no\"',\n",
              " '30;\"blue-collar\";\"single\";\"unknown\";\"no\";\"yes\";\"yes\";\"telephone\";\"may\";\"mon\";408;1;999;0;\"nonexistent\";1.1;93.994;-36.4;4.857;5191;\"no\"',\n",
              " '50;\"housemaid\";\"married\";\"basic.4y\";\"unknown\";\"no\";\"no\";\"telephone\";\"may\";\"mon\";287;1;999;0;\"nonexistent\";1.1;93.994;-36.4;4.857;5191;\"no\"',\n",
              " '40;\"services\";\"married\";\"high.school\";\"no\";\"no\";\"no\";\"telephone\";\"may\";\"mon\";322;3;999;0;\"nonexistent\";1.1;93.994;-36.4;4.857;5191;\"no\"',\n",
              " '35;\"admin.\";\"married\";\"high.school\";\"no\";\"yes\";\"no\";\"telephone\";\"may\";\"mon\";216;2;999;0;\"nonexistent\";1.1;93.994;-36.4;4.857;5191;\"no\"',\n",
              " '43;\"technician\";\"married\";\"unknown\";\"unknown\";\"no\";\"no\";\"telephone\";\"may\";\"mon\";366;2;999;0;\"nonexistent\";1.1;93.994;-36.4;4.857;5191;\"no\"',\n",
              " '36;\"services\";\"single\";\"basic.6y\";\"unknown\";\"yes\";\"no\";\"telephone\";\"may\";\"mon\";210;1;999;0;\"nonexistent\";1.1;93.994;-36.4;4.857;5191;\"no\"',\n",
              " '46;\"technician\";\"married\";\"basic.4y\";\"unknown\";\"yes\";\"no\";\"telephone\";\"may\";\"mon\";288;1;999;0;\"nonexistent\";1.1;93.994;-36.4;4.857;5191;\"no\"',\n",
              " '40;\"technician\";\"married\";\"basic.9y\";\"no\";\"no\";\"no\";\"telephone\";\"may\";\"mon\";168;1;999;0;\"nonexistent\";1.1;93.994;-36.4;4.857;5191;\"no\"',\n",
              " '58;\"retired\";\"married\";\"university.degree\";\"no\";\"no\";\"no\";\"telephone\";\"may\";\"mon\";132;1;999;0;\"nonexistent\";1.1;93.994;-36.4;4.857;5191;\"no\"',\n",
              " '42;\"technician\";\"married\";\"university.degree\";\"no\";\"no\";\"no\";\"telephone\";\"may\";\"mon\";64;2;999;0;\"nonexistent\";1.1;93.994;-36.4;4.857;5191;\"no\"',\n",
              " '35;\"admin.\";\"single\";\"university.degree\";\"no\";\"no\";\"no\";\"telephone\";\"may\";\"mon\";209;2;999;0;\"nonexistent\";1.1;93.994;-36.4;4.857;5191;\"no\"',\n",
              " '43;\"retired\";\"married\";\"basic.4y\";\"unknown\";\"no\";\"no\";\"telephone\";\"may\";\"mon\";410;3;999;0;\"nonexistent\";1.1;93.994;-36.4;4.857;5191;\"no\"',\n",
              " '45;\"blue-collar\";\"married\";\"basic.4y\";\"no\";\"yes\";\"yes\";\"telephone\";\"may\";\"mon\";177;1;999;0;\"nonexistent\";1.1;93.994;-36.4;4.857;5191;\"no\"',\n",
              " '39;\"admin.\";\"married\";\"professional.course\";\"no\";\"yes\";\"no\";\"telephone\";\"may\";\"mon\";580;2;999;0;\"nonexistent\";1.1;93.994;-36.4;4.857;5191;\"no\"',\n",
              " '50;\"services\";\"divorced\";\"professional.course\";\"no\";\"yes\";\"no\";\"telephone\";\"may\";\"mon\";165;1;999;0;\"nonexistent\";1.1;93.994;-36.4;4.857;5191;\"no\"',\n",
              " '32;\"management\";\"divorced\";\"basic.4y\";\"unknown\";\"yes\";\"no\";\"telephone\";\"may\";\"mon\";127;2;999;0;\"nonexistent\";1.1;93.994;-36.4;4.857;5191;\"no\"',\n",
              " '39;\"admin.\";\"married\";\"high.school\";\"unknown\";\"no\";\"no\";\"telephone\";\"may\";\"mon\";357;1;999;0;\"nonexistent\";1.1;93.994;-36.4;4.857;5191;\"no\"',\n",
              " '52;\"self-employed\";\"married\";\"university.degree\";\"unknown\";\"no\";\"no\";\"telephone\";\"may\";\"mon\";175;1;999;0;\"nonexistent\";1.1;93.994;-36.4;4.857;5191;\"no\"',\n",
              " '44;\"admin.\";\"married\";\"professional.course\";\"no\";\"yes\";\"no\";\"telephone\";\"may\";\"mon\";300;1;999;0;\"nonexistent\";1.1;93.994;-36.4;4.857;5191;\"no\"',\n",
              " '56;\"blue-collar\";\"married\";\"basic.4y\";\"no\";\"no\";\"no\";\"telephone\";\"may\";\"mon\";136;1;999;0;\"nonexistent\";1.1;93.994;-36.4;4.857;5191;\"no\"',\n",
              " '48;\"admin.\";\"married\";\"high.school\";\"no\";\"no\";\"no\";\"telephone\";\"may\";\"mon\";125;2;999;0;\"nonexistent\";1.1;93.994;-36.4;4.857;5191;\"no\"',\n",
              " '33;\"services\";\"married\";\"high.school\";\"unknown\";\"no\";\"yes\";\"telephone\";\"may\";\"mon\";189;2;999;0;\"nonexistent\";1.1;93.994;-36.4;4.857;5191;\"no\"',\n",
              " '43;\"management\";\"married\";\"university.degree\";\"unknown\";\"no\";\"yes\";\"telephone\";\"may\";\"mon\";213;3;999;0;\"nonexistent\";1.1;93.994;-36.4;4.857;5191;\"no\"',\n",
              " '57;\"retired\";\"married\";\"high.school\";\"no\";\"no\";\"no\";\"telephone\";\"may\";\"mon\";238;2;999;0;\"nonexistent\";1.1;93.994;-36.4;4.857;5191;\"no\"',\n",
              " '36;\"technician\";\"single\";\"professional.course\";\"no\";\"no\";\"no\";\"telephone\";\"may\";\"mon\";124;1;999;0;\"nonexistent\";1.1;93.994;-36.4;4.857;5191;\"no\"',\n",
              " '34;\"management\";\"married\";\"university.degree\";\"no\";\"yes\";\"no\";\"telephone\";\"may\";\"mon\";18;1;999;0;\"nonexistent\";1.1;93.994;-36.4;4.857;5191;\"no\"',\n",
              " '34;\"services\";\"single\";\"basic.9y\";\"no\";\"no\";\"no\";\"telephone\";\"may\";\"mon\";730;2;999;0;\"nonexistent\";1.1;93.994;-36.4;4.857;5191;\"no\"',\n",
              " '30;\"technician\";\"married\";\"university.degree\";\"unknown\";\"no\";\"no\";\"telephone\";\"may\";\"mon\";40;1;999;0;\"nonexistent\";1.1;93.994;-36.4;4.857;5191;\"no\"',\n",
              " '33;\"services\";\"divorced\";\"unknown\";\"no\";\"no\";\"no\";\"telephone\";\"may\";\"mon\";181;2;999;0;\"nonexistent\";1.1;93.994;-36.4;4.857;5191;\"no\"',\n",
              " '32;\"technician\";\"single\";\"professional.course\";\"no\";\"no\";\"no\";\"telephone\";\"may\";\"mon\";79;1;999;0;\"nonexistent\";1.1;93.994;-36.4;4.857;5191;\"no\"',\n",
              " '36;\"technician\";\"single\";\"high.school\";\"no\";\"yes\";\"no\";\"telephone\";\"may\";\"mon\";142;2;999;0;\"nonexistent\";1.1;93.994;-36.4;4.857;5191;\"no\"',\n",
              " '36;\"blue-collar\";\"single\";\"high.school\";\"no\";\"no\";\"yes\";\"telephone\";\"may\";\"mon\";389;1;999;0;\"nonexistent\";1.1;93.994;-36.4;4.857;5191;\"no\"',\n",
              " '33;\"services\";\"single\";\"high.school\";\"no\";\"no\";\"no\";\"telephone\";\"may\";\"mon\";702;1;999;0;\"nonexistent\";1.1;93.994;-36.4;4.857;5191;\"no\"',\n",
              " '40;\"technician\";\"divorced\";\"professional.course\";\"no\";\"no\";\"no\";\"telephone\";\"may\";\"mon\";151;1;999;0;\"nonexistent\";1.1;93.994;-36.4;4.857;5191;\"no\"',\n",
              " '41;\"blue-collar\";\"married\";\"basic.4y\";\"no\";\"yes\";\"no\";\"telephone\";\"may\";\"mon\";211;1;999;0;\"nonexistent\";1.1;93.994;-36.4;4.857;5191;\"no\"',\n",
              " '51;\"services\";\"married\";\"basic.6y\";\"no\";\"yes\";\"no\";\"telephone\";\"may\";\"mon\";117;1;999;0;\"nonexistent\";1.1;93.994;-36.4;4.857;5191;\"no\"',\n",
              " '36;\"technician\";\"married\";\"professional.course\";\"no\";\"yes\";\"no\";\"telephone\";\"may\";\"mon\";232;3;999;0;\"nonexistent\";1.1;93.994;-36.4;4.857;5191;\"no\"',\n",
              " '28;\"services\";\"married\";\"unknown\";\"no\";\"no\";\"no\";\"telephone\";\"may\";\"mon\";408;2;999;0;\"nonexistent\";1.1;93.994;-36.4;4.857;5191;\"no\"',\n",
              " '53;\"services\";\"married\";\"high.school\";\"no\";\"yes\";\"yes\";\"telephone\";\"may\";\"mon\";370;3;999;0;\"nonexistent\";1.1;93.994;-36.4;4.857;5191;\"no\"',\n",
              " '58;\"blue-collar\";\"married\";\"basic.9y\";\"unknown\";\"yes\";\"no\";\"telephone\";\"may\";\"mon\";179;2;999;0;\"nonexistent\";1.1;93.994;-36.4;4.857;5191;\"no\"',\n",
              " '45;\"management\";\"married\";\"basic.9y\";\"no\";\"no\";\"yes\";\"telephone\";\"may\";\"mon\";46;1;999;0;\"nonexistent\";1.1;93.994;-36.4;4.857;5191;\"no\"',\n",
              " '43;\"technician\";\"married\";\"unknown\";\"no\";\"yes\";\"no\";\"telephone\";\"may\";\"mon\";200;1;999;0;\"nonexistent\";1.1;93.994;-36.4;4.857;5191;\"no\"',\n",
              " '33;\"admin.\";\"married\";\"high.school\";\"no\";\"no\";\"yes\";\"telephone\";\"may\";\"mon\";50;1;999;0;\"nonexistent\";1.1;93.994;-36.4;4.857;5191;\"no\"',\n",
              " '33;\"admin.\";\"married\";\"high.school\";\"no\";\"no\";\"yes\";\"telephone\";\"may\";\"mon\";181;1;999;0;\"nonexistent\";1.1;93.994;-36.4;4.857;5191;\"no\"',\n",
              " '27;\"blue-collar\";\"single\";\"basic.6y\";\"no\";\"unknown\";\"unknown\";\"telephone\";\"may\";\"mon\";119;1;999;0;\"nonexistent\";1.1;93.994;-36.4;4.857;5191;\"no\"',\n",
              " '42;\"technician\";\"married\";\"high.school\";\"no\";\"no\";\"no\";\"telephone\";\"may\";\"mon\";361;1;999;0;\"nonexistent\";1.1;93.994;-36.4;4.857;5191;\"no\"',\n",
              " '43;\"admin.\";\"divorced\";\"basic.9y\";\"no\";\"no\";\"no\";\"telephone\";\"may\";\"mon\";73;3;999;0;\"nonexistent\";1.1;93.994;-36.4;4.857;5191;\"no\"',\n",
              " '42;\"admin.\";\"married\";\"university.degree\";\"no\";\"no\";\"no\";\"telephone\";\"may\";\"mon\";67;2;999;0;\"nonexistent\";1.1;93.994;-36.4;4.857;5191;\"no\"',\n",
              " '27;\"blue-collar\";\"single\";\"basic.6y\";\"no\";\"no\";\"no\";\"telephone\";\"may\";\"mon\";350;1;999;0;\"nonexistent\";1.1;93.994;-36.4;4.857;5191;\"no\"',\n",
              " '34;\"self-employed\";\"single\";\"university.degree\";\"no\";\"yes\";\"no\";\"telephone\";\"may\";\"mon\";150;2;999;0;\"nonexistent\";1.1;93.994;-36.4;4.857;5191;\"no\"',\n",
              " '31;\"student\";\"single\";\"university.degree\";\"unknown\";\"no\";\"no\";\"telephone\";\"may\";\"mon\";332;2;999;0;\"nonexistent\";1.1;93.994;-36.4;4.857;5191;\"no\"',\n",
              " '54;\"management\";\"divorced\";\"university.degree\";\"no\";\"no\";\"no\";\"telephone\";\"may\";\"mon\";611;2;999;0;\"nonexistent\";1.1;93.994;-36.4;4.857;5191;\"no\"',\n",
              " '40;\"self-employed\";\"married\";\"basic.4y\";\"unknown\";\"no\";\"no\";\"telephone\";\"may\";\"mon\";58;3;999;0;\"nonexistent\";1.1;93.994;-36.4;4.857;5191;\"no\"',\n",
              " '52;\"unemployed\";\"married\";\"high.school\";\"unknown\";\"yes\";\"no\";\"telephone\";\"may\";\"mon\";151;1;999;0;\"nonexistent\";1.1;93.994;-36.4;4.857;5191;\"no\"',\n",
              " '47;\"management\";\"divorced\";\"university.degree\";\"no\";\"no\";\"no\";\"telephone\";\"may\";\"mon\";89;2;999;0;\"nonexistent\";1.1;93.994;-36.4;4.857;5191;\"no\"',\n",
              " '49;\"housemaid\";\"married\";\"basic.9y\";\"unknown\";\"no\";\"no\";\"telephone\";\"may\";\"mon\";152;1;999;0;\"nonexistent\";1.1;93.994;-36.4;4.857;5191;\"no\"',\n",
              " '32;\"admin.\";\"single\";\"high.school\";\"no\";\"no\";\"no\";\"telephone\";\"may\";\"mon\";611;2;999;0;\"nonexistent\";1.1;93.994;-36.4;4.857;5191;\"no\"',\n",
              " '49;\"housemaid\";\"single\";\"high.school\";\"unknown\";\"yes\";\"yes\";\"telephone\";\"may\";\"mon\";110;2;999;0;\"nonexistent\";1.1;93.994;-36.4;4.857;5191;\"no\"',\n",
              " '50;\"blue-collar\";\"married\";\"basic.9y\";\"unknown\";\"no\";\"no\";\"telephone\";\"may\";\"mon\";463;1;999;0;\"nonexistent\";1.1;93.994;-36.4;4.857;5191;\"no\"',\n",
              " '34;\"services\";\"married\";\"high.school\";\"no\";\"no\";\"no\";\"telephone\";\"may\";\"mon\";962;1;999;0;\"nonexistent\";1.1;93.994;-36.4;4.857;5191;\"no\"',\n",
              " '55;\"blue-collar\";\"married\";\"basic.4y\";\"unknown\";\"no\";\"no\";\"telephone\";\"may\";\"mon\";102;2;999;0;\"nonexistent\";1.1;93.994;-36.4;4.857;5191;\"no\"',\n",
              " '47;\"technician\";\"single\";\"basic.9y\";\"no\";\"no\";\"no\";\"telephone\";\"may\";\"mon\";10;4;999;0;\"nonexistent\";1.1;93.994;-36.4;4.857;5191;\"no\"',\n",
              " '51;\"retired\";\"married\";\"professional.course\";\"no\";\"no\";\"no\";\"telephone\";\"may\";\"mon\";118;3;999;0;\"nonexistent\";1.1;93.994;-36.4;4.857;5191;\"no\"',\n",
              " '47;\"blue-collar\";\"married\";\"basic.6y\";\"no\";\"no\";\"no\";\"telephone\";\"may\";\"mon\";92;2;999;0;\"nonexistent\";1.1;93.994;-36.4;4.857;5191;\"no\"',\n",
              " '56;\"technician\";\"married\";\"basic.4y\";\"no\";\"yes\";\"no\";\"telephone\";\"may\";\"mon\";143;3;999;0;\"nonexistent\";1.1;93.994;-36.4;4.857;5191;\"no\"',\n",
              " '53;\"admin.\";\"married\";\"basic.9y\";\"no\";\"no\";\"no\";\"telephone\";\"may\";\"mon\";189;3;999;0;\"nonexistent\";1.1;93.994;-36.4;4.857;5191;\"no\"',\n",
              " '36;\"blue-collar\";\"married\";\"basic.9y\";\"no\";\"yes\";\"no\";\"telephone\";\"may\";\"mon\";75;2;999;0;\"nonexistent\";1.1;93.994;-36.4;4.857;5191;\"no\"',\n",
              " '42;\"blue-collar\";\"divorced\";\"basic.9y\";\"no\";\"yes\";\"no\";\"telephone\";\"may\";\"mon\";189;2;999;0;\"nonexistent\";1.1;93.994;-36.4;4.857;5191;\"no\"',\n",
              " '44;\"blue-collar\";\"divorced\";\"basic.6y\";\"no\";\"no\";\"no\";\"telephone\";\"may\";\"mon\";55;2;999;0;\"nonexistent\";1.1;93.994;-36.4;4.857;5191;\"no\"',\n",
              " '39;\"housemaid\";\"married\";\"basic.9y\";\"no\";\"yes\";\"no\";\"telephone\";\"may\";\"mon\";935;3;999;0;\"nonexistent\";1.1;93.994;-36.4;4.857;5191;\"yes\"',\n",
              " '37;\"admin.\";\"single\";\"high.school\";\"no\";\"yes\";\"yes\";\"telephone\";\"may\";\"mon\";56;2;999;0;\"nonexistent\";1.1;93.994;-36.4;4.857;5191;\"no\"',\n",
              " '60;\"blue-collar\";\"married\";\"unknown\";\"unknown\";\"yes\";\"no\";\"telephone\";\"may\";\"mon\";5;2;999;0;\"nonexistent\";1.1;93.994;-36.4;4.857;5191;\"no\"',\n",
              " '36;\"services\";\"married\";\"high.school\";\"no\";\"no\";\"no\";\"telephone\";\"may\";\"mon\";225;2;999;0;\"nonexistent\";1.1;93.994;-36.4;4.857;5191;\"no\"',\n",
              " '42;\"management\";\"divorced\";\"university.degree\";\"no\";\"yes\";\"no\";\"telephone\";\"may\";\"mon\";125;2;999;0;\"nonexistent\";1.1;93.994;-36.4;4.857;5191;\"no\"',\n",
              " '31;\"admin.\";\"married\";\"high.school\";\"no\";\"yes\";\"yes\";\"telephone\";\"may\";\"mon\";286;2;999;0;\"nonexistent\";1.1;93.994;-36.4;4.857;5191;\"no\"',\n",
              " '53;\"technician\";\"divorced\";\"professional.course\";\"unknown\";\"no\";\"yes\";\"telephone\";\"may\";\"mon\";206;2;999;0;\"nonexistent\";1.1;93.994;-36.4;4.857;5191;\"no\"',\n",
              " '45;\"blue-collar\";\"married\";\"basic.4y\";\"no\";\"yes\";\"no\";\"telephone\";\"may\";\"mon\";164;2;999;0;\"nonexistent\";1.1;93.994;-36.4;4.857;5191;\"no\"',\n",
              " '37;\"technician\";\"single\";\"professional.course\";\"no\";\"yes\";\"no\";\"telephone\";\"may\";\"mon\";98;2;999;0;\"nonexistent\";1.1;93.994;-36.4;4.857;5191;\"no\"',\n",
              " '47;\"self-employed\";\"married\";\"professional.course\";\"no\";\"no\";\"no\";\"telephone\";\"may\";\"mon\";446;2;999;0;\"nonexistent\";1.1;93.994;-36.4;4.857;5191;\"no\"',\n",
              " '49;\"blue-collar\";\"divorced\";\"high.school\";\"no\";\"no\";\"yes\";\"telephone\";\"may\";\"mon\";742;2;999;0;\"nonexistent\";1.1;93.994;-36.4;4.857;5191;\"no\"',\n",
              " '36;\"admin.\";\"married\";\"university.degree\";\"no\";\"yes\";\"no\";\"telephone\";\"may\";\"mon\";120;2;999;0;\"nonexistent\";1.1;93.994;-36.4;4.857;5191;\"no\"',\n",
              " '35;\"services\";\"divorced\";\"high.school\";\"no\";\"no\";\"no\";\"telephone\";\"may\";\"mon\";122;3;999;0;\"nonexistent\";1.1;93.994;-36.4;4.857;5191;\"no\"',\n",
              " '38;\"unknown\";\"married\";\"unknown\";\"unknown\";\"no\";\"no\";\"telephone\";\"may\";\"mon\";362;4;999;0;\"nonexistent\";1.1;93.994;-36.4;4.857;5191;\"no\"',\n",
              " '38;\"services\";\"single\";\"high.school\";\"unknown\";\"no\";\"no\";\"telephone\";\"may\";\"mon\";357;2;999;0;\"nonexistent\";1.1;93.994;-36.4;4.857;5191;\"no\"',\n",
              " '50;\"blue-collar\";\"divorced\";\"high.school\";\"unknown\";\"no\";\"yes\";\"telephone\";\"may\";\"mon\";200;2;999;0;\"nonexistent\";1.1;93.994;-36.4;4.857;5191;\"no\"',\n",
              " '59;\"retired\";\"married\";\"professional.course\";\"unknown\";\"no\";\"no\";\"telephone\";\"may\";\"mon\";107;2;999;0;\"nonexistent\";1.1;93.994;-36.4;4.857;5191;\"no\"',\n",
              " '43;\"unknown\";\"married\";\"unknown\";\"no\";\"yes\";\"no\";\"telephone\";\"may\";\"mon\";267;2;999;0;\"nonexistent\";1.1;93.994;-36.4;4.857;5191;\"no\"',\n",
              " '42;\"admin.\";\"married\";\"high.school\";\"no\";\"yes\";\"no\";\"telephone\";\"may\";\"mon\";248;2;999;0;\"nonexistent\";1.1;93.994;-36.4;4.857;5191;\"no\"',\n",
              " '40;\"admin.\";\"married\";\"basic.6y\";\"unknown\";\"yes\";\"no\";\"telephone\";\"may\";\"mon\";215;2;999;0;\"nonexistent\";1.1;93.994;-36.4;4.857;5191;\"no\"',\n",
              " '46;\"blue-collar\";\"married\";\"unknown\";\"unknown\";\"no\";\"no\";\"telephone\";\"may\";\"mon\";209;2;999;0;\"nonexistent\";1.1;93.994;-36.4;4.857;5191;\"no\"',\n",
              " '57;\"housemaid\";\"divorced\";\"basic.4y\";\"no\";\"yes\";\"yes\";\"telephone\";\"may\";\"mon\";205;2;999;0;\"nonexistent\";1.1;93.994;-36.4;4.857;5191;\"no\"',\n",
              " '42;\"admin.\";\"married\";\"university.degree\";\"no\";\"yes\";\"no\";\"telephone\";\"may\";\"mon\";261;3;999;0;\"nonexistent\";1.1;93.994;-36.4;4.857;5191;\"no\"',\n",
              " '41;\"blue-collar\";\"married\";\"basic.4y\";\"no\";\"yes\";\"no\";\"telephone\";\"may\";\"mon\";83;2;999;0;\"nonexistent\";1.1;93.994;-36.4;4.857;5191;\"no\"',\n",
              " '54;\"management\";\"divorced\";\"university.degree\";\"no\";\"yes\";\"no\";\"telephone\";\"may\";\"mon\";106;3;999;0;\"nonexistent\";1.1;93.994;-36.4;4.857;5191;\"no\"',\n",
              " '27;\"admin.\";\"single\";\"university.degree\";\"no\";\"no\";\"no\";\"telephone\";\"may\";\"mon\";106;2;999;0;\"nonexistent\";1.1;93.994;-36.4;4.857;5191;\"no\"',\n",
              " '36;\"admin.\";\"married\";\"high.school\";\"no\";\"no\";\"no\";\"telephone\";\"may\";\"mon\";108;2;999;0;\"nonexistent\";1.1;93.994;-36.4;4.857;5191;\"no\"',\n",
              " '58;\"blue-collar\";\"married\";\"professional.course\";\"unknown\";\"yes\";\"no\";\"telephone\";\"may\";\"mon\";214;2;999;0;\"nonexistent\";1.1;93.994;-36.4;4.857;5191;\"no\"',\n",
              " '40;\"management\";\"married\";\"university.degree\";\"unknown\";\"yes\";\"no\";\"telephone\";\"may\";\"mon\";358;2;999;0;\"nonexistent\";1.1;93.994;-36.4;4.857;5191;\"no\"',\n",
              " '34;\"admin.\";\"single\";\"basic.9y\";\"unknown\";\"no\";\"no\";\"telephone\";\"may\";\"mon\";453;2;999;0;\"nonexistent\";1.1;93.994;-36.4;4.857;5191;\"no\"',\n",
              " '33;\"admin.\";\"divorced\";\"high.school\";\"no\";\"no\";\"no\";\"telephone\";\"may\";\"mon\";364;2;999;0;\"nonexistent\";1.1;93.994;-36.4;4.857;5191;\"no\"',\n",
              " '56;\"retired\";\"married\";\"basic.6y\";\"no\";\"no\";\"no\";\"telephone\";\"may\";\"mon\";136;2;999;0;\"nonexistent\";1.1;93.994;-36.4;4.857;5191;\"no\"',\n",
              " '42;\"blue-collar\";\"married\";\"basic.9y\";\"no\";\"no\";\"no\";\"telephone\";\"may\";\"mon\";173;2;999;0;\"nonexistent\";1.1;93.994;-36.4;4.857;5191;\"no\"',\n",
              " '43;\"services\";\"married\";\"high.school\";\"no\";\"yes\";\"no\";\"telephone\";\"may\";\"mon\";241;2;999;0;\"nonexistent\";1.1;93.994;-36.4;4.857;5191;\"no\"',\n",
              " '54;\"management\";\"single\";\"basic.9y\";\"no\";\"yes\";\"no\";\"telephone\";\"may\";\"mon\";224;3;999;0;\"nonexistent\";1.1;93.994;-36.4;4.857;5191;\"no\"',\n",
              " '53;\"admin.\";\"single\";\"basic.6y\";\"no\";\"yes\";\"yes\";\"telephone\";\"may\";\"mon\";148;2;999;0;\"nonexistent\";1.1;93.994;-36.4;4.857;5191;\"no\"',\n",
              " '42;\"technician\";\"single\";\"unknown\";\"no\";\"no\";\"no\";\"telephone\";\"may\";\"mon\";230;2;999;0;\"nonexistent\";1.1;93.994;-36.4;4.857;5191;\"no\"',\n",
              " '40;\"services\";\"married\";\"basic.6y\";\"unknown\";\"no\";\"no\";\"telephone\";\"may\";\"mon\";199;3;999;0;\"nonexistent\";1.1;93.994;-36.4;4.857;5191;\"no\"',\n",
              " '54;\"technician\";\"married\";\"professional.course\";\"no\";\"yes\";\"yes\";\"telephone\";\"may\";\"mon\";196;2;999;0;\"nonexistent\";1.1;93.994;-36.4;4.857;5191;\"no\"',\n",
              " '40;\"housemaid\";\"single\";\"professional.course\";\"no\";\"no\";\"no\";\"telephone\";\"may\";\"mon\";111;4;999;0;\"nonexistent\";1.1;93.994;-36.4;4.857;5191;\"no\"',\n",
              " '26;\"admin.\";\"single\";\"university.degree\";\"no\";\"yes\";\"no\";\"telephone\";\"may\";\"mon\";231;3;999;0;\"nonexistent\";1.1;93.994;-36.4;4.857;5191;\"no\"',\n",
              " '33;\"admin.\";\"married\";\"high.school\";\"no\";\"no\";\"no\";\"telephone\";\"may\";\"mon\";316;3;999;0;\"nonexistent\";1.1;93.994;-36.4;4.857;5191;\"no\"',\n",
              " '35;\"blue-collar\";\"married\";\"basic.9y\";\"unknown\";\"no\";\"no\";\"telephone\";\"may\";\"mon\";240;2;999;0;\"nonexistent\";1.1;93.994;-36.4;4.857;5191;\"no\"',\n",
              " '36;\"admin.\";\"married\";\"high.school\";\"no\";\"no\";\"no\";\"telephone\";\"may\";\"mon\";669;3;999;0;\"nonexistent\";1.1;93.994;-36.4;4.857;5191;\"no\"',\n",
              " '29;\"services\";\"single\";\"high.school\";\"no\";\"yes\";\"no\";\"telephone\";\"may\";\"mon\";425;2;999;0;\"nonexistent\";1.1;93.994;-36.4;4.857;5191;\"no\"',\n",
              " '36;\"blue-collar\";\"married\";\"basic.9y\";\"no\";\"yes\";\"no\";\"telephone\";\"may\";\"mon\";121;2;999;0;\"nonexistent\";1.1;93.994;-36.4;4.857;5191;\"no\"',\n",
              " '35;\"management\";\"married\";\"high.school\";\"no\";\"yes\";\"no\";\"telephone\";\"may\";\"mon\";174;5;999;0;\"nonexistent\";1.1;93.994;-36.4;4.857;5191;\"no\"',\n",
              " '50;\"self-employed\";\"single\";\"university.degree\";\"no\";\"no\";\"yes\";\"telephone\";\"may\";\"mon\";88;5;999;0;\"nonexistent\";1.1;93.994;-36.4;4.857;5191;\"no\"',\n",
              " '46;\"services\";\"married\";\"high.school\";\"unknown\";\"yes\";\"no\";\"telephone\";\"may\";\"mon\";313;3;999;0;\"nonexistent\";1.1;93.994;-36.4;4.857;5191;\"no\"',\n",
              " '49;\"entrepreneur\";\"married\";\"high.school\";\"no\";\"yes\";\"no\";\"telephone\";\"may\";\"mon\";135;4;999;0;\"nonexistent\";1.1;93.994;-36.4;4.857;5191;\"no\"',\n",
              " '42;\"technician\";\"single\";\"professional.course\";\"unknown\";\"yes\";\"no\";\"telephone\";\"may\";\"mon\";152;2;999;0;\"nonexistent\";1.1;93.994;-36.4;4.857;5191;\"no\"',\n",
              " '36;\"blue-collar\";\"single\";\"high.school\";\"no\";\"yes\";\"yes\";\"telephone\";\"may\";\"mon\";402;3;999;0;\"nonexistent\";1.1;93.994;-36.4;4.857;5191;\"no\"',\n",
              " '55;\"blue-collar\";\"married\";\"basic.9y\";\"unknown\";\"yes\";\"no\";\"telephone\";\"may\";\"mon\";221;2;999;0;\"nonexistent\";1.1;93.994;-36.4;4.857;5191;\"no\"',\n",
              " '41;\"management\";\"married\";\"university.degree\";\"unknown\";\"no\";\"no\";\"telephone\";\"may\";\"mon\";213;2;999;0;\"nonexistent\";1.1;93.994;-36.4;4.857;5191;\"no\"',\n",
              " '57;\"management\";\"married\";\"professional.course\";\"unknown\";\"yes\";\"no\";\"telephone\";\"may\";\"mon\";144;3;999;0;\"nonexistent\";1.1;93.994;-36.4;4.857;5191;\"no\"',\n",
              " '32;\"services\";\"single\";\"high.school\";\"no\";\"yes\";\"no\";\"telephone\";\"may\";\"mon\";158;3;999;0;\"nonexistent\";1.1;93.994;-36.4;4.857;5191;\"no\"',\n",
              " '49;\"admin.\";\"married\";\"basic.9y\";\"no\";\"no\";\"no\";\"telephone\";\"may\";\"mon\";220;3;999;0;\"nonexistent\";1.1;93.994;-36.4;4.857;5191;\"no\"',\n",
              " '57;\"unknown\";\"married\";\"unknown\";\"unknown\";\"yes\";\"no\";\"telephone\";\"may\";\"mon\";325;2;999;0;\"nonexistent\";1.1;93.994;-36.4;4.857;5191;\"no\"',\n",
              " '58;\"blue-collar\";\"divorced\";\"basic.4y\";\"no\";\"yes\";\"no\";\"telephone\";\"may\";\"mon\";254;2;999;0;\"nonexistent\";1.1;93.994;-36.4;4.857;5191;\"no\"',\n",
              " '52;\"technician\";\"married\";\"high.school\";\"no\";\"yes\";\"no\";\"telephone\";\"may\";\"mon\";503;2;999;0;\"nonexistent\";1.1;93.994;-36.4;4.857;5191;\"no\"',\n",
              " '50;\"services\";\"divorced\";\"professional.course\";\"no\";\"no\";\"no\";\"telephone\";\"may\";\"mon\";680;2;999;0;\"nonexistent\";1.1;93.994;-36.4;4.857;5191;\"no\"',\n",
              " '41;\"blue-collar\";\"single\";\"basic.9y\";\"unknown\";\"yes\";\"no\";\"telephone\";\"may\";\"mon\";421;4;999;0;\"nonexistent\";1.1;93.994;-36.4;4.857;5191;\"no\"',\n",
              " '33;\"entrepreneur\";\"married\";\"university.degree\";\"no\";\"yes\";\"no\";\"telephone\";\"may\";\"mon\";130;3;999;0;\"nonexistent\";1.1;93.994;-36.4;4.857;5191;\"no\"',\n",
              " '57;\"blue-collar\";\"married\";\"basic.4y\";\"no\";\"no\";\"no\";\"telephone\";\"may\";\"mon\";164;2;999;0;\"nonexistent\";1.1;93.994;-36.4;4.857;5191;\"no\"',\n",
              " '48;\"blue-collar\";\"married\";\"basic.6y\";\"unknown\";\"no\";\"no\";\"telephone\";\"may\";\"mon\";174;3;999;0;\"nonexistent\";1.1;93.994;-36.4;4.857;5191;\"no\"',\n",
              " '55;\"technician\";\"married\";\"professional.course\";\"no\";\"no\";\"no\";\"telephone\";\"may\";\"mon\";113;2;999;0;\"nonexistent\";1.1;93.994;-36.4;4.857;5191;\"no\"',\n",
              " '38;\"management\";\"married\";\"university.degree\";\"no\";\"no\";\"no\";\"telephone\";\"may\";\"mon\";195;2;999;0;\"nonexistent\";1.1;93.994;-36.4;4.857;5191;\"no\"',\n",
              " '38;\"services\";\"married\";\"high.school\";\"no\";\"yes\";\"no\";\"telephone\";\"may\";\"mon\";347;3;999;0;\"nonexistent\";1.1;93.994;-36.4;4.857;5191;\"no\"',\n",
              " '53;\"admin.\";\"married\";\"university.degree\";\"no\";\"yes\";\"no\";\"telephone\";\"may\";\"mon\";208;2;999;0;\"nonexistent\";1.1;93.994;-36.4;4.857;5191;\"no\"',\n",
              " '43;\"unemployed\";\"single\";\"university.degree\";\"no\";\"no\";\"no\";\"telephone\";\"may\";\"mon\";404;4;999;0;\"nonexistent\";1.1;93.994;-36.4;4.857;5191;\"no\"',\n",
              " '36;\"blue-collar\";\"single\";\"high.school\";\"no\";\"no\";\"no\";\"telephone\";\"may\";\"mon\";396;2;999;0;\"nonexistent\";1.1;93.994;-36.4;4.857;5191;\"no\"',\n",
              " '32;\"blue-collar\";\"married\";\"basic.9y\";\"no\";\"no\";\"no\";\"telephone\";\"may\";\"mon\";98;2;999;0;\"nonexistent\";1.1;93.994;-36.4;4.857;5191;\"no\"',\n",
              " '33;\"services\";\"married\";\"basic.4y\";\"no\";\"no\";\"no\";\"telephone\";\"may\";\"mon\";229;3;999;0;\"nonexistent\";1.1;93.994;-36.4;4.857;5191;\"no\"',\n",
              " '58;\"entrepreneur\";\"married\";\"basic.4y\";\"no\";\"yes\";\"no\";\"telephone\";\"may\";\"mon\";350;2;999;0;\"nonexistent\";1.1;93.994;-36.4;4.857;5191;\"no\"',\n",
              " '40;\"unemployed\";\"divorced\";\"high.school\";\"unknown\";\"no\";\"no\";\"telephone\";\"may\";\"tue\";88;3;999;0;\"nonexistent\";1.1;93.994;-36.4;4.857;5191;\"no\"',\n",
              " '57;\"management\";\"married\";\"university.degree\";\"no\";\"yes\";\"no\";\"telephone\";\"may\";\"tue\";379;2;999;0;\"nonexistent\";1.1;93.994;-36.4;4.857;5191;\"no\"',\n",
              " '45;\"technician\";\"married\";\"high.school\";\"no\";\"yes\";\"no\";\"telephone\";\"may\";\"tue\";168;3;999;0;\"nonexistent\";1.1;93.994;-36.4;4.857;5191;\"no\"',\n",
              " '42;\"blue-collar\";\"married\";\"basic.4y\";\"unknown\";\"yes\";\"no\";\"telephone\";\"may\";\"tue\";190;3;999;0;\"nonexistent\";1.1;93.994;-36.4;4.857;5191;\"no\"',\n",
              " '46;\"admin.\";\"married\";\"university.degree\";\"no\";\"yes\";\"no\";\"telephone\";\"may\";\"tue\";158;1;999;0;\"nonexistent\";1.1;93.994;-36.4;4.857;5191;\"no\"',\n",
              " '36;\"technician\";\"married\";\"university.degree\";\"no\";\"no\";\"no\";\"telephone\";\"may\";\"tue\";210;1;999;0;\"nonexistent\";1.1;93.994;-36.4;4.857;5191;\"no\"',\n",
              " '41;\"self-employed\";\"married\";\"high.school\";\"no\";\"yes\";\"no\";\"telephone\";\"may\";\"tue\";102;1;999;0;\"nonexistent\";1.1;93.994;-36.4;4.857;5191;\"no\"',\n",
              " '57;\"admin.\";\"divorced\";\"basic.9y\";\"no\";\"no\";\"no\";\"telephone\";\"may\";\"tue\";306;1;999;0;\"nonexistent\";1.1;93.994;-36.4;4.857;5191;\"no\"',\n",
              " '49;\"blue-collar\";\"married\";\"basic.9y\";\"unknown\";\"yes\";\"no\";\"telephone\";\"may\";\"tue\";64;1;999;0;\"nonexistent\";1.1;93.994;-36.4;4.857;5191;\"no\"',\n",
              " '56;\"management\";\"divorced\";\"high.school\";\"no\";\"no\";\"no\";\"telephone\";\"may\";\"tue\";218;1;999;0;\"nonexistent\";1.1;93.994;-36.4;4.857;5191;\"no\"',\n",
              " '37;\"blue-collar\";\"married\";\"basic.9y\";\"no\";\"no\";\"no\";\"telephone\";\"may\";\"tue\";77;1;999;0;\"nonexistent\";1.1;93.994;-36.4;4.857;5191;\"no\"',\n",
              " '37;\"blue-collar\";\"married\";\"basic.9y\";\"no\";\"no\";\"yes\";\"telephone\";\"may\";\"tue\";54;1;999;0;\"nonexistent\";1.1;93.994;-36.4;4.857;5191;\"no\"',\n",
              " '46;\"admin.\";\"single\";\"high.school\";\"no\";\"yes\";\"no\";\"telephone\";\"may\";\"tue\";344;1;999;0;\"nonexistent\";1.1;93.994;-36.4;4.857;5191;\"no\"',\n",
              " '22;\"blue-collar\";\"single\";\"basic.9y\";\"no\";\"yes\";\"no\";\"telephone\";\"may\";\"tue\";195;1;999;0;\"nonexistent\";1.1;93.994;-36.4;4.857;5191;\"no\"',\n",
              " '43;\"services\";\"married\";\"high.school\";\"no\";\"no\";\"no\";\"telephone\";\"may\";\"tue\";202;1;999;0;\"nonexistent\";1.1;93.994;-36.4;4.857;5191;\"no\"',\n",
              " '49;\"blue-collar\";\"married\";\"unknown\";\"no\";\"no\";\"no\";\"telephone\";\"may\";\"tue\";286;1;999;0;\"nonexistent\";1.1;93.994;-36.4;4.857;5191;\"no\"',\n",
              " '41;\"technician\";\"married\";\"basic.6y\";\"no\";\"yes\";\"no\";\"telephone\";\"may\";\"tue\";278;1;999;0;\"nonexistent\";1.1;93.994;-36.4;4.857;5191;\"no\"',\n",
              " '38;\"admin.\";\"single\";\"university.degree\";\"no\";\"no\";\"no\";\"telephone\";\"may\";\"tue\";189;1;999;0;\"nonexistent\";1.1;93.994;-36.4;4.857;5191;\"no\"',\n",
              " '33;\"admin.\";\"married\";\"basic.9y\";\"no\";\"no\";\"no\";\"telephone\";\"may\";\"tue\";83;1;999;0;\"nonexistent\";1.1;93.994;-36.4;4.857;5191;\"no\"',\n",
              " '49;\"admin.\";\"married\";\"university.degree\";\"no\";\"yes\";\"yes\";\"telephone\";\"may\";\"tue\";18;1;999;0;\"nonexistent\";1.1;93.994;-36.4;4.857;5191;\"no\"',\n",
              " '30;\"blue-collar\";\"single\";\"unknown\";\"no\";\"no\";\"no\";\"telephone\";\"may\";\"tue\";184;2;999;0;\"nonexistent\";1.1;93.994;-36.4;4.857;5191;\"no\"',\n",
              " '33;\"admin.\";\"married\";\"basic.9y\";\"no\";\"yes\";\"no\";\"telephone\";\"may\";\"tue\";235;1;999;0;\"nonexistent\";1.1;93.994;-36.4;4.857;5191;\"no\"',\n",
              " '34;\"management\";\"single\";\"university.degree\";\"no\";\"no\";\"no\";\"telephone\";\"may\";\"tue\";290;1;999;0;\"nonexistent\";1.1;93.994;-36.4;4.857;5191;\"no\"',\n",
              " '30;\"student\";\"single\";\"unknown\";\"unknown\";\"no\";\"no\";\"telephone\";\"may\";\"tue\";133;1;999;0;\"nonexistent\";1.1;93.994;-36.4;4.857;5191;\"no\"',\n",
              " '59;\"management\";\"married\";\"basic.4y\";\"unknown\";\"yes\";\"yes\";\"telephone\";\"may\";\"tue\";318;1;999;0;\"nonexistent\";1.1;93.994;-36.4;4.857;5191;\"no\"',\n",
              " '59;\"management\";\"married\";\"basic.4y\";\"unknown\";\"unknown\";\"unknown\";\"telephone\";\"may\";\"tue\";437;1;999;0;\"nonexistent\";1.1;93.994;-36.4;4.857;5191;\"no\"',\n",
              " '41;\"self-employed\";\"married\";\"university.degree\";\"no\";\"no\";\"no\";\"telephone\";\"may\";\"tue\";402;1;999;0;\"nonexistent\";1.1;93.994;-36.4;4.857;5191;\"no\"',\n",
              " '48;\"housemaid\";\"married\";\"basic.6y\";\"unknown\";\"yes\";\"yes\";\"telephone\";\"may\";\"tue\";501;4;999;0;\"nonexistent\";1.1;93.994;-36.4;4.857;5191;\"no\"',\n",
              " '28;\"unknown\";\"single\";\"unknown\";\"unknown\";\"yes\";\"yes\";\"telephone\";\"may\";\"tue\";1201;1;999;0;\"nonexistent\";1.1;93.994;-36.4;4.857;5191;\"yes\"',\n",
              " '44;\"services\";\"married\";\"high.school\";\"no\";\"yes\";\"no\";\"telephone\";\"may\";\"tue\";1030;1;999;0;\"nonexistent\";1.1;93.994;-36.4;4.857;5191;\"yes\"',\n",
              " '59;\"retired\";\"unknown\";\"university.degree\";\"unknown\";\"no\";\"no\";\"telephone\";\"may\";\"tue\";253;1;999;0;\"nonexistent\";1.1;93.994;-36.4;4.857;5191;\"no\"',\n",
              " '50;\"management\";\"married\";\"high.school\";\"unknown\";\"no\";\"no\";\"telephone\";\"may\";\"tue\";149;1;999;0;\"nonexistent\";1.1;93.994;-36.4;4.857;5191;\"no\"',\n",
              " '35;\"admin.\";\"married\";\"university.degree\";\"no\";\"no\";\"no\";\"telephone\";\"may\";\"tue\";144;1;999;0;\"nonexistent\";1.1;93.994;-36.4;4.857;5191;\"no\"',\n",
              " '42;\"admin.\";\"married\";\"high.school\";\"no\";\"no\";\"no\";\"telephone\";\"may\";\"tue\";69;1;999;0;\"nonexistent\";1.1;93.994;-36.4;4.857;5191;\"no\"',\n",
              " '45;\"admin.\";\"married\";\"basic.9y\";\"no\";\"no\";\"no\";\"telephone\";\"may\";\"tue\";243;1;999;0;\"nonexistent\";1.1;93.994;-36.4;4.857;5191;\"no\"',\n",
              " '36;\"technician\";\"married\";\"professional.course\";\"no\";\"no\";\"no\";\"telephone\";\"may\";\"tue\";769;2;999;0;\"nonexistent\";1.1;93.994;-36.4;4.857;5191;\"no\"',\n",
              " '56;\"services\";\"married\";\"high.school\";\"unknown\";\"no\";\"no\";\"telephone\";\"may\";\"tue\";135;3;999;0;\"nonexistent\";1.1;93.994;-36.4;4.857;5191;\"no\"',\n",
              " '29;\"blue-collar\";\"divorced\";\"basic.4y\";\"no\";\"no\";\"no\";\"telephone\";\"may\";\"tue\";231;1;999;0;\"nonexistent\";1.1;93.994;-36.4;4.857;5191;\"no\"',\n",
              " '41;\"self-employed\";\"married\";\"university.degree\";\"no\";\"yes\";\"yes\";\"telephone\";\"may\";\"tue\";442;2;999;0;\"nonexistent\";1.1;93.994;-36.4;4.857;5191;\"no\"',\n",
              " '42;\"blue-collar\";\"married\";\"basic.9y\";\"unknown\";\"no\";\"no\";\"telephone\";\"may\";\"tue\";199;1;999;0;\"nonexistent\";1.1;93.994;-36.4;4.857;5191;\"no\"',\n",
              " '52;\"services\";\"single\";\"high.school\";\"no\";\"no\";\"no\";\"telephone\";\"may\";\"tue\";455;1;999;0;\"nonexistent\";1.1;93.994;-36.4;4.857;5191;\"no\"',\n",
              " '48;\"services\";\"married\";\"high.school\";\"unknown\";\"unknown\";\"unknown\";\"telephone\";\"may\";\"tue\";152;1;999;0;\"nonexistent\";1.1;93.994;-36.4;4.857;5191;\"no\"',\n",
              " '31;\"blue-collar\";\"married\";\"high.school\";\"unknown\";\"yes\";\"no\";\"telephone\";\"may\";\"tue\";124;1;999;0;\"nonexistent\";1.1;93.994;-36.4;4.857;5191;\"no\"',\n",
              " '43;\"unemployed\";\"married\";\"university.degree\";\"unknown\";\"yes\";\"no\";\"telephone\";\"may\";\"tue\";424;1;999;0;\"nonexistent\";1.1;93.994;-36.4;4.857;5191;\"no\"',\n",
              " '36;\"blue-collar\";\"married\";\"basic.4y\";\"unknown\";\"no\";\"no\";\"telephone\";\"may\";\"tue\";43;1;999;0;\"nonexistent\";1.1;93.994;-36.4;4.857;5191;\"no\"',\n",
              " '42;\"entrepreneur\";\"married\";\"university.degree\";\"no\";\"yes\";\"no\";\"telephone\";\"may\";\"tue\";154;1;999;0;\"nonexistent\";1.1;93.994;-36.4;4.857;5191;\"no\"',\n",
              " '52;\"services\";\"divorced\";\"basic.6y\";\"no\";\"no\";\"no\";\"telephone\";\"may\";\"tue\";393;1;999;0;\"nonexistent\";1.1;93.994;-36.4;4.857;5191;\"no\"',\n",
              " '39;\"admin.\";\"married\";\"high.school\";\"no\";\"yes\";\"no\";\"telephone\";\"may\";\"tue\";203;2;999;0;\"nonexistent\";1.1;93.994;-36.4;4.857;5191;\"no\"',\n",
              " '36;\"services\";\"married\";\"high.school\";\"no\";\"no\";\"yes\";\"telephone\";\"may\";\"tue\";140;2;999;0;\"nonexistent\";1.1;93.994;-36.4;4.857;5191;\"no\"',\n",
              " '42;\"blue-collar\";\"married\";\"basic.9y\";\"unknown\";\"yes\";\"no\";\"telephone\";\"may\";\"tue\";326;1;999;0;\"nonexistent\";1.1;93.994;-36.4;4.857;5191;\"no\"',\n",
              " '41;\"admin.\";\"married\";\"high.school\";\"no\";\"no\";\"no\";\"telephone\";\"may\";\"tue\";483;1;999;0;\"nonexistent\";1.1;93.994;-36.4;4.857;5191;\"no\"',\n",
              " '55;\"technician\";\"married\";\"basic.4y\";\"no\";\"no\";\"yes\";\"telephone\";\"may\";\"tue\";259;1;999;0;\"nonexistent\";1.1;93.994;-36.4;4.857;5191;\"no\"',\n",
              " '30;\"blue-collar\";\"married\";\"basic.9y\";\"no\";\"no\";\"no\";\"telephone\";\"may\";\"tue\";227;1;999;0;\"nonexistent\";1.1;93.994;-36.4;4.857;5191;\"no\"',\n",
              " '57;\"retired\";\"unknown\";\"basic.4y\";\"no\";\"no\";\"no\";\"telephone\";\"may\";\"tue\";673;1;999;0;\"nonexistent\";1.1;93.994;-36.4;4.857;5191;\"no\"',\n",
              " '45;\"entrepreneur\";\"married\";\"basic.4y\";\"unknown\";\"yes\";\"no\";\"telephone\";\"may\";\"tue\";576;1;999;0;\"nonexistent\";1.1;93.994;-36.4;4.857;5191;\"no\"',\n",
              " '51;\"blue-collar\";\"married\";\"basic.4y\";\"unknown\";\"yes\";\"yes\";\"telephone\";\"may\";\"tue\";180;2;999;0;\"nonexistent\";1.1;93.994;-36.4;4.857;5191;\"no\"',\n",
              " '39;\"self-employed\";\"single\";\"basic.9y\";\"unknown\";\"yes\";\"yes\";\"telephone\";\"may\";\"tue\";90;1;999;0;\"nonexistent\";1.1;93.994;-36.4;4.857;5191;\"no\"',\n",
              " '47;\"admin.\";\"married\";\"high.school\";\"unknown\";\"no\";\"no\";\"telephone\";\"may\";\"tue\";505;1;999;0;\"nonexistent\";1.1;93.994;-36.4;4.857;5191;\"no\"',\n",
              " '27;\"services\";\"married\";\"high.school\";\"no\";\"yes\";\"no\";\"telephone\";\"may\";\"tue\";245;1;999;0;\"nonexistent\";1.1;93.994;-36.4;4.857;5191;\"no\"',\n",
              " '34;\"technician\";\"single\";\"university.degree\";\"no\";\"yes\";\"no\";\"telephone\";\"may\";\"tue\";186;1;999;0;\"nonexistent\";1.1;93.994;-36.4;4.857;5191;\"no\"',\n",
              " '57;\"blue-collar\";\"married\";\"basic.4y\";\"unknown\";\"yes\";\"no\";\"telephone\";\"may\";\"tue\";208;1;999;0;\"nonexistent\";1.1;93.994;-36.4;4.857;5191;\"no\"',\n",
              " '43;\"entrepreneur\";\"married\";\"basic.4y\";\"no\";\"no\";\"no\";\"telephone\";\"may\";\"tue\";623;1;999;0;\"nonexistent\";1.1;93.994;-36.4;4.857;5191;\"no\"',\n",
              " '49;\"blue-collar\";\"married\";\"basic.4y\";\"unknown\";\"no\";\"no\";\"telephone\";\"may\";\"tue\";180;1;999;0;\"nonexistent\";1.1;93.994;-36.4;4.857;5191;\"no\"',\n",
              " '39;\"management\";\"married\";\"university.degree\";\"unknown\";\"no\";\"no\";\"telephone\";\"may\";\"tue\";496;3;999;0;\"nonexistent\";1.1;93.994;-36.4;4.857;5191;\"no\"',\n",
              " '38;\"blue-collar\";\"married\";\"basic.4y\";\"unknown\";\"yes\";\"no\";\"telephone\";\"may\";\"tue\";118;1;999;0;\"nonexistent\";1.1;93.994;-36.4;4.857;5191;\"no\"',\n",
              " '49;\"blue-collar\";\"married\";\"basic.9y\";\"no\";\"no\";\"no\";\"telephone\";\"may\";\"tue\";102;2;999;0;\"nonexistent\";1.1;93.994;-36.4;4.857;5191;\"no\"',\n",
              " '58;\"management\";\"married\";\"basic.6y\";\"no\";\"no\";\"no\";\"telephone\";\"may\";\"tue\";342;1;999;0;\"nonexistent\";1.1;93.994;-36.4;4.857;5191;\"no\"',\n",
              " '43;\"technician\";\"married\";\"professional.course\";\"no\";\"yes\";\"no\";\"telephone\";\"may\";\"tue\";225;1;999;0;\"nonexistent\";1.1;93.994;-36.4;4.857;5191;\"no\"',\n",
              " '50;\"unknown\";\"married\";\"unknown\";\"unknown\";\"yes\";\"no\";\"telephone\";\"may\";\"tue\";185;3;999;0;\"nonexistent\";1.1;93.994;-36.4;4.857;5191;\"no\"',\n",
              " '31;\"services\";\"married\";\"high.school\";\"unknown\";\"no\";\"no\";\"telephone\";\"may\";\"tue\";276;1;999;0;\"nonexistent\";1.1;93.994;-36.4;4.857;5191;\"no\"',\n",
              " '43;\"self-employed\";\"divorced\";\"university.degree\";\"no\";\"no\";\"no\";\"telephone\";\"may\";\"tue\";87;1;999;0;\"nonexistent\";1.1;93.994;-36.4;4.857;5191;\"no\"',\n",
              " '43;\"self-employed\";\"married\";\"basic.9y\";\"unknown\";\"no\";\"no\";\"telephone\";\"may\";\"tue\";744;1;999;0;\"nonexistent\";1.1;93.994;-36.4;4.857;5191;\"no\"',\n",
              " '30;\"self-employed\";\"single\";\"university.degree\";\"no\";\"yes\";\"no\";\"telephone\";\"may\";\"tue\";262;1;999;0;\"nonexistent\";1.1;93.994;-36.4;4.857;5191;\"no\"',\n",
              " '27;\"services\";\"single\";\"professional.course\";\"no\";\"yes\";\"yes\";\"telephone\";\"may\";\"tue\";271;1;999;0;\"nonexistent\";1.1;93.994;-36.4;4.857;5191;\"no\"',\n",
              " '51;\"services\";\"married\";\"unknown\";\"unknown\";\"no\";\"no\";\"telephone\";\"may\";\"tue\";141;1;999;0;\"nonexistent\";1.1;93.994;-36.4;4.857;5191;\"no\"',\n",
              " '37;\"technician\";\"married\";\"professional.course\";\"no\";\"yes\";\"no\";\"telephone\";\"may\";\"tue\";198;2;999;0;\"nonexistent\";1.1;93.994;-36.4;4.857;5191;\"no\"',\n",
              " '46;\"housemaid\";\"married\";\"basic.9y\";\"no\";\"yes\";\"no\";\"telephone\";\"may\";\"tue\";150;1;999;0;\"nonexistent\";1.1;93.994;-36.4;4.857;5191;\"no\"',\n",
              " '35;\"blue-collar\";\"married\";\"professional.course\";\"no\";\"no\";\"no\";\"telephone\";\"may\";\"tue\";241;1;999;0;\"nonexistent\";1.1;93.994;-36.4;4.857;5191;\"no\"',\n",
              " '47;\"admin.\";\"divorced\";\"university.degree\";\"no\";\"no\";\"no\";\"telephone\";\"may\";\"tue\";196;1;999;0;\"nonexistent\";1.1;93.994;-36.4;4.857;5191;\"no\"',\n",
              " '46;\"management\";\"married\";\"unknown\";\"no\";\"yes\";\"no\";\"telephone\";\"may\";\"tue\";149;1;999;0;\"nonexistent\";1.1;93.994;-36.4;4.857;5191;\"no\"',\n",
              " '40;\"technician\";\"married\";\"professional.course\";\"unknown\";\"no\";\"yes\";\"telephone\";\"may\";\"tue\";264;1;999;0;\"nonexistent\";1.1;93.994;-36.4;4.857;5191;\"no\"',\n",
              " '26;\"housemaid\";\"married\";\"university.degree\";\"no\";\"no\";\"no\";\"telephone\";\"may\";\"tue\";246;1;999;0;\"nonexistent\";1.1;93.994;-36.4;4.857;5191;\"no\"',\n",
              " '32;\"blue-collar\";\"divorced\";\"basic.9y\";\"unknown\";\"no\";\"no\";\"telephone\";\"may\";\"tue\";309;2;999;0;\"nonexistent\";1.1;93.994;-36.4;4.857;5191;\"no\"',\n",
              " '45;\"management\";\"married\";\"university.degree\";\"no\";\"yes\";\"no\";\"telephone\";\"may\";\"tue\";140;1;999;0;\"nonexistent\";1.1;93.994;-36.4;4.857;5191;\"no\"',\n",
              " '34;\"admin.\";\"married\";\"basic.9y\";\"no\";\"no\";\"no\";\"telephone\";\"may\";\"tue\";175;1;999;0;\"nonexistent\";1.1;93.994;-36.4;4.857;5191;\"no\"',\n",
              " '47;\"blue-collar\";\"married\";\"unknown\";\"unknown\";\"no\";\"no\";\"telephone\";\"may\";\"tue\";136;1;999;0;\"nonexistent\";1.1;93.994;-36.4;4.857;5191;\"no\"',\n",
              " '42;\"technician\";\"married\";\"professional.course\";\"no\";\"no\";\"no\";\"telephone\";\"may\";\"tue\";1623;1;999;0;\"nonexistent\";1.1;93.994;-36.4;4.857;5191;\"yes\"',\n",
              " '57;\"technician\";\"married\";\"basic.4y\";\"unknown\";\"no\";\"yes\";\"telephone\";\"may\";\"tue\";50;1;999;0;\"nonexistent\";1.1;93.994;-36.4;4.857;5191;\"no\"',\n",
              " '57;\"technician\";\"married\";\"basic.4y\";\"unknown\";\"no\";\"no\";\"telephone\";\"may\";\"tue\";101;1;999;0;\"nonexistent\";1.1;93.994;-36.4;4.857;5191;\"no\"',\n",
              " '38;\"blue-collar\";\"married\";\"basic.4y\";\"no\";\"no\";\"yes\";\"telephone\";\"may\";\"tue\";144;1;999;0;\"nonexistent\";1.1;93.994;-36.4;4.857;5191;\"no\"',\n",
              " '57;\"technician\";\"married\";\"basic.4y\";\"unknown\";\"no\";\"no\";\"telephone\";\"may\";\"tue\";238;1;999;0;\"nonexistent\";1.1;93.994;-36.4;4.857;5191;\"no\"',\n",
              " '28;\"student\";\"single\";\"basic.9y\";\"unknown\";\"yes\";\"no\";\"telephone\";\"may\";\"tue\";354;1;999;0;\"nonexistent\";1.1;93.994;-36.4;4.857;5191;\"no\"',\n",
              " '60;\"management\";\"married\";\"university.degree\";\"no\";\"no\";\"no\";\"telephone\";\"may\";\"tue\";451;2;999;0;\"nonexistent\";1.1;93.994;-36.4;4.857;5191;\"no\"',\n",
              " '48;\"admin.\";\"married\";\"university.degree\";\"no\";\"yes\";\"no\";\"telephone\";\"may\";\"tue\";159;1;999;0;\"nonexistent\";1.1;93.994;-36.4;4.857;5191;\"no\"',\n",
              " '47;\"technician\";\"married\";\"professional.course\";\"no\";\"yes\";\"no\";\"telephone\";\"may\";\"tue\";170;1;999;0;\"nonexistent\";1.1;93.994;-36.4;4.857;5191;\"no\"',\n",
              " '40;\"admin.\";\"married\";\"high.school\";\"no\";\"no\";\"no\";\"telephone\";\"may\";\"tue\";243;1;999;0;\"nonexistent\";1.1;93.994;-36.4;4.857;5191;\"no\"',\n",
              " '51;\"management\";\"married\";\"professional.course\";\"unknown\";\"yes\";\"no\";\"telephone\";\"may\";\"tue\";141;2;999;0;\"nonexistent\";1.1;93.994;-36.4;4.857;5191;\"no\"',\n",
              " '48;\"unemployed\";\"single\";\"basic.4y\";\"no\";\"yes\";\"no\";\"telephone\";\"may\";\"tue\";112;1;999;0;\"nonexistent\";1.1;93.994;-36.4;4.857;5191;\"no\"',\n",
              " '54;\"housemaid\";\"married\";\"basic.4y\";\"no\";\"no\";\"no\";\"telephone\";\"may\";\"tue\";262;2;999;0;\"nonexistent\";1.1;93.994;-36.4;4.857;5191;\"no\"',\n",
              " '40;\"blue-collar\";\"married\";\"basic.6y\";\"no\";\"no\";\"yes\";\"telephone\";\"may\";\"tue\";53;1;999;0;\"nonexistent\";1.1;93.994;-36.4;4.857;5191;\"no\"',\n",
              " '44;\"admin.\";\"single\";\"basic.9y\";\"unknown\";\"no\";\"no\";\"telephone\";\"may\";\"tue\";134;1;999;0;\"nonexistent\";1.1;93.994;-36.4;4.857;5191;\"no\"',\n",
              " '42;\"technician\";\"divorced\";\"high.school\";\"no\";\"no\";\"no\";\"telephone\";\"may\";\"tue\";204;4;999;0;\"nonexistent\";1.1;93.994;-36.4;4.857;5191;\"no\"',\n",
              " '52;\"self-employed\";\"married\";\"university.degree\";\"no\";\"yes\";\"no\";\"telephone\";\"may\";\"tue\";678;1;999;0;\"nonexistent\";1.1;93.994;-36.4;4.857;5191;\"no\"',\n",
              " '31;\"blue-collar\";\"single\";\"basic.9y\";\"no\";\"yes\";\"no\";\"telephone\";\"may\";\"tue\";182;1;999;0;\"nonexistent\";1.1;93.994;-36.4;4.857;5191;\"no\"',\n",
              " '32;\"services\";\"married\";\"high.school\";\"no\";\"no\";\"no\";\"telephone\";\"may\";\"tue\";162;1;999;0;\"nonexistent\";1.1;93.994;-36.4;4.857;5191;\"no\"',\n",
              " '44;\"admin.\";\"married\";\"high.school\";\"no\";\"yes\";\"yes\";\"telephone\";\"may\";\"tue\";177;1;999;0;\"nonexistent\";1.1;93.994;-36.4;4.857;5191;\"no\"',\n",
              " '39;\"management\";\"married\";\"basic.6y\";\"unknown\";\"no\";\"no\";\"telephone\";\"may\";\"tue\";27;1;999;0;\"nonexistent\";1.1;93.994;-36.4;4.857;5191;\"no\"',\n",
              " '57;\"management\";\"married\";\"professional.course\";\"unknown\";\"yes\";\"no\";\"telephone\";\"may\";\"tue\";699;3;999;0;\"nonexistent\";1.1;93.994;-36.4;4.857;5191;\"no\"',\n",
              " '52;\"admin.\";\"married\";\"basic.4y\";\"no\";\"yes\";\"no\";\"telephone\";\"may\";\"tue\";358;1;999;0;\"nonexistent\";1.1;93.994;-36.4;4.857;5191;\"no\"',\n",
              " '42;\"management\";\"married\";\"university.degree\";\"no\";\"no\";\"no\";\"telephone\";\"may\";\"tue\";1677;1;999;0;\"nonexistent\";1.1;93.994;-36.4;4.857;5191;\"yes\"',\n",
              " '42;\"technician\";\"single\";\"professional.course\";\"unknown\";\"unknown\";\"unknown\";\"telephone\";\"may\";\"tue\";529;1;999;0;\"nonexistent\";1.1;93.994;-36.4;4.857;5191;\"no\"',\n",
              " '43;\"management\";\"married\";\"professional.course\";\"no\";\"yes\";\"no\";\"telephone\";\"may\";\"tue\";310;1;999;0;\"nonexistent\";1.1;93.994;-36.4;4.857;5191;\"no\"',\n",
              " '31;\"admin.\";\"divorced\";\"high.school\";\"no\";\"no\";\"no\";\"telephone\";\"may\";\"tue\";47;1;999;0;\"nonexistent\";1.1;93.994;-36.4;4.857;5191;\"no\"',\n",
              " '29;\"admin.\";\"married\";\"university.degree\";\"unknown\";\"yes\";\"no\";\"telephone\";\"may\";\"tue\";379;1;999;0;\"nonexistent\";1.1;93.994;-36.4;4.857;5191;\"no\"',\n",
              " '57;\"blue-collar\";\"divorced\";\"basic.4y\";\"no\";\"no\";\"no\";\"telephone\";\"may\";\"tue\";30;2;999;0;\"nonexistent\";1.1;93.994;-36.4;4.857;5191;\"no\"',\n",
              " '44;\"blue-collar\";\"married\";\"basic.9y\";\"unknown\";\"no\";\"no\";\"telephone\";\"may\";\"tue\";472;1;999;0;\"nonexistent\";1.1;93.994;-36.4;4.857;5191;\"no\"',\n",
              " '59;\"unknown\";\"married\";\"unknown\";\"unknown\";\"no\";\"no\";\"telephone\";\"may\";\"tue\";113;1;999;0;\"nonexistent\";1.1;93.994;-36.4;4.857;5191;\"no\"',\n",
              " '39;\"blue-collar\";\"married\";\"basic.4y\";\"unknown\";\"no\";\"no\";\"telephone\";\"may\";\"tue\";114;1;999;0;\"nonexistent\";1.1;93.994;-36.4;4.857;5191;\"no\"',\n",
              " '57;\"retired\";\"married\";\"university.degree\";\"no\";\"no\";\"no\";\"telephone\";\"may\";\"tue\";116;1;999;0;\"nonexistent\";1.1;93.994;-36.4;4.857;5191;\"no\"',\n",
              " '41;\"management\";\"married\";\"unknown\";\"unknown\";\"no\";\"no\";\"telephone\";\"may\";\"tue\";448;1;999;0;\"nonexistent\";1.1;93.994;-36.4;4.857;5191;\"no\"',\n",
              " '37;\"technician\";\"single\";\"high.school\";\"unknown\";\"no\";\"yes\";\"telephone\";\"may\";\"tue\";264;1;999;0;\"nonexistent\";1.1;93.994;-36.4;4.857;5191;\"no\"',\n",
              " '38;\"services\";\"married\";\"high.school\";\"no\";\"yes\";\"no\";\"telephone\";\"may\";\"tue\";169;1;999;0;\"nonexistent\";1.1;93.994;-36.4;4.857;5191;\"no\"',\n",
              " '42;\"retired\";\"married\";\"basic.4y\";\"no\";\"no\";\"no\";\"telephone\";\"may\";\"tue\";145;1;999;0;\"nonexistent\";1.1;93.994;-36.4;4.857;5191;\"no\"',\n",
              " '49;\"unknown\";\"married\";\"unknown\";\"unknown\";\"yes\";\"no\";\"telephone\";\"may\";\"tue\";288;1;999;0;\"nonexistent\";1.1;93.994;-36.4;4.857;5191;\"no\"',\n",
              " '54;\"management\";\"married\";\"basic.6y\";\"unknown\";\"yes\";\"yes\";\"telephone\";\"may\";\"tue\";381;1;999;0;\"nonexistent\";1.1;93.994;-36.4;4.857;5191;\"no\"',\n",
              " '36;\"admin.\";\"married\";\"university.degree\";\"no\";\"unknown\";\"unknown\";\"telephone\";\"may\";\"tue\";176;2;999;0;\"nonexistent\";1.1;93.994;-36.4;4.857;5191;\"no\"',\n",
              " '32;\"admin.\";\"single\";\"university.degree\";\"unknown\";\"no\";\"no\";\"telephone\";\"may\";\"tue\";215;1;999;0;\"nonexistent\";1.1;93.994;-36.4;4.857;5191;\"no\"',\n",
              " '35;\"technician\";\"married\";\"professional.course\";\"no\";\"yes\";\"no\";\"telephone\";\"may\";\"tue\";278;1;999;0;\"nonexistent\";1.1;93.994;-36.4;4.857;5191;\"no\"',\n",
              " '45;\"housemaid\";\"married\";\"professional.course\";\"unknown\";\"no\";\"no\";\"telephone\";\"may\";\"tue\";188;2;999;0;\"nonexistent\";1.1;93.994;-36.4;4.857;5191;\"no\"',\n",
              " '56;\"technician\";\"married\";\"unknown\";\"no\";\"yes\";\"no\";\"telephone\";\"may\";\"tue\";174;2;999;0;\"nonexistent\";1.1;93.994;-36.4;4.857;5191;\"no\"',\n",
              " '34;\"technician\";\"married\";\"university.degree\";\"no\";\"yes\";\"no\";\"telephone\";\"may\";\"tue\";226;2;999;0;\"nonexistent\";1.1;93.994;-36.4;4.857;5191;\"no\"',\n",
              " '41;\"unemployed\";\"married\";\"basic.9y\";\"unknown\";\"no\";\"no\";\"telephone\";\"may\";\"tue\";111;2;999;0;\"nonexistent\";1.1;93.994;-36.4;4.857;5191;\"no\"',\n",
              " '41;\"services\";\"married\";\"basic.9y\";\"no\";\"no\";\"no\";\"telephone\";\"may\";\"tue\";157;2;999;0;\"nonexistent\";1.1;93.994;-36.4;4.857;5191;\"no\"',\n",
              " '36;\"blue-collar\";\"married\";\"basic.9y\";\"unknown\";\"no\";\"no\";\"telephone\";\"may\";\"tue\";46;1;999;0;\"nonexistent\";1.1;93.994;-36.4;4.857;5191;\"no\"',\n",
              " '32;\"admin.\";\"single\";\"university.degree\";\"unknown\";\"unknown\";\"unknown\";\"telephone\";\"may\";\"tue\";49;1;999;0;\"nonexistent\";1.1;93.994;-36.4;4.857;5191;\"no\"',\n",
              " '31;\"services\";\"married\";\"high.school\";\"unknown\";\"unknown\";\"unknown\";\"telephone\";\"may\";\"tue\";374;1;999;0;\"nonexistent\";1.1;93.994;-36.4;4.857;5191;\"no\"',\n",
              " '38;\"technician\";\"married\";\"professional.course\";\"no\";\"yes\";\"no\";\"telephone\";\"may\";\"tue\";349;1;999;0;\"nonexistent\";1.1;93.994;-36.4;4.857;5191;\"no\"',\n",
              " '35;\"admin.\";\"divorced\";\"university.degree\";\"unknown\";\"yes\";\"no\";\"telephone\";\"may\";\"tue\";325;1;999;0;\"nonexistent\";1.1;93.994;-36.4;4.857;5191;\"no\"',\n",
              " '53;\"admin.\";\"married\";\"professional.course\";\"no\";\"yes\";\"no\";\"telephone\";\"may\";\"tue\";233;2;999;0;\"nonexistent\";1.1;93.994;-36.4;4.857;5191;\"no\"',\n",
              " '51;\"admin.\";\"married\";\"basic.6y\";\"unknown\";\"yes\";\"no\";\"telephone\";\"may\";\"tue\";531;1;999;0;\"nonexistent\";1.1;93.994;-36.4;4.857;5191;\"no\"',\n",
              " '56;\"entrepreneur\";\"married\";\"university.degree\";\"unknown\";\"no\";\"no\";\"telephone\";\"may\";\"tue\";153;1;999;0;\"nonexistent\";1.1;93.994;-36.4;4.857;5191;\"no\"',\n",
              " '33;\"admin.\";\"married\";\"basic.9y\";\"no\";\"unknown\";\"unknown\";\"telephone\";\"may\";\"tue\";80;1;999;0;\"nonexistent\";1.1;93.994;-36.4;4.857;5191;\"no\"',\n",
              " '33;\"admin.\";\"married\";\"basic.9y\";\"no\";\"no\";\"no\";\"telephone\";\"may\";\"tue\";198;1;999;0;\"nonexistent\";1.1;93.994;-36.4;4.857;5191;\"no\"',\n",
              " '51;\"services\";\"divorced\";\"high.school\";\"unknown\";\"yes\";\"no\";\"telephone\";\"may\";\"tue\";568;1;999;0;\"nonexistent\";1.1;93.994;-36.4;4.857;5191;\"no\"',\n",
              " '39;\"services\";\"married\";\"high.school\";\"unknown\";\"yes\";\"no\";\"telephone\";\"may\";\"tue\";918;1;999;0;\"nonexistent\";1.1;93.994;-36.4;4.857;5191;\"yes\"',\n",
              " '45;\"entrepreneur\";\"married\";\"university.degree\";\"no\";\"no\";\"no\";\"telephone\";\"may\";\"tue\";82;1;999;0;\"nonexistent\";1.1;93.994;-36.4;4.857;5191;\"no\"',\n",
              " '40;\"technician\";\"single\";\"university.degree\";\"no\";\"no\";\"no\";\"telephone\";\"may\";\"tue\";198;3;999;0;\"nonexistent\";1.1;93.994;-36.4;4.857;5191;\"no\"',\n",
              " '60;\"unknown\";\"single\";\"unknown\";\"unknown\";\"yes\";\"no\";\"telephone\";\"may\";\"tue\";211;1;999;0;\"nonexistent\";1.1;93.994;-36.4;4.857;5191;\"no\"',\n",
              " '33;\"technician\";\"married\";\"university.degree\";\"no\";\"yes\";\"no\";\"telephone\";\"may\";\"tue\";120;1;999;0;\"nonexistent\";1.1;93.994;-36.4;4.857;5191;\"no\"',\n",
              " '47;\"blue-collar\";\"married\";\"high.school\";\"unknown\";\"yes\";\"no\";\"telephone\";\"may\";\"tue\";269;1;999;0;\"nonexistent\";1.1;93.994;-36.4;4.857;5191;\"no\"',\n",
              " '48;\"blue-collar\";\"married\";\"basic.4y\";\"no\";\"no\";\"no\";\"telephone\";\"may\";\"tue\";128;1;999;0;\"nonexistent\";1.1;93.994;-36.4;4.857;5191;\"no\"',\n",
              " '43;\"entrepreneur\";\"married\";\"high.school\";\"no\";\"no\";\"no\";\"telephone\";\"may\";\"tue\";166;2;999;0;\"nonexistent\";1.1;93.994;-36.4;4.857;5191;\"no\"',\n",
              " '37;\"management\";\"married\";\"university.degree\";\"no\";\"yes\";\"no\";\"telephone\";\"may\";\"tue\";211;1;999;0;\"nonexistent\";1.1;93.994;-36.4;4.857;5191;\"no\"',\n",
              " '50;\"services\";\"married\";\"basic.9y\";\"no\";\"yes\";\"yes\";\"telephone\";\"may\";\"tue\";369;1;999;0;\"nonexistent\";1.1;93.994;-36.4;4.857;5191;\"no\"',\n",
              " '59;\"entrepreneur\";\"married\";\"high.school\";\"no\";\"yes\";\"no\";\"telephone\";\"may\";\"tue\";91;1;999;0;\"nonexistent\";1.1;93.994;-36.4;4.857;5191;\"no\"',\n",
              " '32;\"technician\";\"married\";\"unknown\";\"unknown\";\"yes\";\"no\";\"telephone\";\"may\";\"tue\";267;2;999;0;\"nonexistent\";1.1;93.994;-36.4;4.857;5191;\"no\"',\n",
              " '42;\"housemaid\";\"single\";\"basic.4y\";\"unknown\";\"yes\";\"no\";\"telephone\";\"may\";\"tue\";198;1;999;0;\"nonexistent\";1.1;93.994;-36.4;4.857;5191;\"no\"',\n",
              " '52;\"blue-collar\";\"married\";\"basic.4y\";\"no\";\"no\";\"no\";\"telephone\";\"may\";\"tue\";371;2;999;0;\"nonexistent\";1.1;93.994;-36.4;4.857;5191;\"no\"',\n",
              " '42;\"blue-collar\";\"married\";\"unknown\";\"unknown\";\"no\";\"no\";\"telephone\";\"may\";\"tue\";288;2;999;0;\"nonexistent\";1.1;93.994;-36.4;4.857;5191;\"no\"',\n",
              " '42;\"admin.\";\"married\";\"unknown\";\"no\";\"no\";\"no\";\"telephone\";\"may\";\"tue\";221;1;999;0;\"nonexistent\";1.1;93.994;-36.4;4.857;5191;\"no\"',\n",
              " '40;\"management\";\"married\";\"basic.9y\";\"unknown\";\"unknown\";\"unknown\";\"telephone\";\"may\";\"tue\";427;1;999;0;\"nonexistent\";1.1;93.994;-36.4;4.857;5191;\"no\"',\n",
              " '38;\"blue-collar\";\"married\";\"basic.9y\";\"no\";\"no\";\"no\";\"telephone\";\"may\";\"tue\";310;1;999;0;\"nonexistent\";1.1;93.994;-36.4;4.857;5191;\"no\"',\n",
              " '39;\"blue-collar\";\"married\";\"basic.6y\";\"no\";\"yes\";\"no\";\"telephone\";\"may\";\"tue\";158;1;999;0;\"nonexistent\";1.1;93.994;-36.4;4.857;5191;\"no\"',\n",
              " '39;\"blue-collar\";\"married\";\"basic.6y\";\"no\";\"no\";\"no\";\"telephone\";\"may\";\"tue\";198;1;999;0;\"nonexistent\";1.1;93.994;-36.4;4.857;5191;\"no\"',\n",
              " '38;\"admin.\";\"married\";\"high.school\";\"no\";\"no\";\"no\";\"telephone\";\"may\";\"tue\";145;1;999;0;\"nonexistent\";1.1;93.994;-36.4;4.857;5191;\"no\"',\n",
              " '47;\"admin.\";\"single\";\"unknown\";\"unknown\";\"yes\";\"no\";\"telephone\";\"may\";\"tue\";247;1;999;0;\"nonexistent\";1.1;93.994;-36.4;4.857;5191;\"no\"',\n",
              " '30;\"services\";\"single\";\"high.school\";\"no\";\"no\";\"no\";\"telephone\";\"may\";\"tue\";102;1;999;0;\"nonexistent\";1.1;93.994;-36.4;4.857;5191;\"no\"',\n",
              " '38;\"admin.\";\"divorced\";\"high.school\";\"no\";\"yes\";\"yes\";\"telephone\";\"may\";\"tue\";179;2;999;0;\"nonexistent\";1.1;93.994;-36.4;4.857;5191;\"no\"',\n",
              " '39;\"technician\";\"divorced\";\"university.degree\";\"no\";\"no\";\"no\";\"telephone\";\"may\";\"tue\";73;1;999;0;\"nonexistent\";1.1;93.994;-36.4;4.857;5191;\"no\"',\n",
              " '44;\"admin.\";\"married\";\"high.school\";\"no\";\"no\";\"no\";\"telephone\";\"may\";\"tue\";263;2;999;0;\"nonexistent\";1.1;93.994;-36.4;4.857;5191;\"no\"',\n",
              " '36;\"admin.\";\"married\";\"high.school\";\"no\";\"no\";\"no\";\"telephone\";\"may\";\"tue\";342;2;999;0;\"nonexistent\";1.1;93.994;-36.4;4.857;5191;\"no\"',\n",
              " '41;\"services\";\"married\";\"high.school\";\"unknown\";\"yes\";\"yes\";\"telephone\";\"may\";\"tue\";41;1;999;0;\"nonexistent\";1.1;93.994;-36.4;4.857;5191;\"no\"',\n",
              " '41;\"blue-collar\";\"married\";\"basic.6y\";\"no\";\"no\";\"no\";\"telephone\";\"may\";\"tue\";13;1;999;0;\"nonexistent\";1.1;93.994;-36.4;4.857;5191;\"no\"',\n",
              " '35;\"blue-collar\";\"married\";\"basic.9y\";\"no\";\"no\";\"no\";\"telephone\";\"may\";\"tue\";79;2;999;0;\"nonexistent\";1.1;93.994;-36.4;4.857;5191;\"no\"',\n",
              " '41;\"technician\";\"married\";\"high.school\";\"no\";\"no\";\"no\";\"telephone\";\"may\";\"tue\";358;1;999;0;\"nonexistent\";1.1;93.994;-36.4;4.857;5191;\"no\"',\n",
              " '36;\"services\";\"married\";\"high.school\";\"unknown\";\"no\";\"no\";\"telephone\";\"may\";\"tue\";162;1;999;0;\"nonexistent\";1.1;93.994;-36.4;4.857;5191;\"no\"',\n",
              " '35;\"admin.\";\"single\";\"high.school\";\"no\";\"yes\";\"yes\";\"telephone\";\"may\";\"tue\";150;1;999;0;\"nonexistent\";1.1;93.994;-36.4;4.857;5191;\"no\"',\n",
              " '33;\"blue-collar\";\"single\";\"basic.4y\";\"unknown\";\"no\";\"no\";\"telephone\";\"may\";\"tue\";26;1;999;0;\"nonexistent\";1.1;93.994;-36.4;4.857;5191;\"no\"',\n",
              " '38;\"admin.\";\"single\";\"basic.6y\";\"unknown\";\"no\";\"no\";\"telephone\";\"may\";\"tue\";250;1;999;0;\"nonexistent\";1.1;93.994;-36.4;4.857;5191;\"no\"',\n",
              " '33;\"self-employed\";\"married\";\"university.degree\";\"no\";\"no\";\"no\";\"telephone\";\"may\";\"tue\";792;1;999;0;\"nonexistent\";1.1;93.994;-36.4;4.857;5191;\"no\"',\n",
              " '55;\"self-employed\";\"married\";\"unknown\";\"unknown\";\"no\";\"no\";\"telephone\";\"may\";\"tue\";146;1;999;0;\"nonexistent\";1.1;93.994;-36.4;4.857;5191;\"no\"',\n",
              " '36;\"blue-collar\";\"single\";\"basic.9y\";\"unknown\";\"no\";\"no\";\"telephone\";\"may\";\"tue\";440;1;999;0;\"nonexistent\";1.1;93.994;-36.4;4.857;5191;\"no\"',\n",
              " '57;\"technician\";\"married\";\"professional.course\";\"unknown\";\"no\";\"yes\";\"telephone\";\"may\";\"tue\";289;1;999;0;\"nonexistent\";1.1;93.994;-36.4;4.857;5191;\"no\"',\n",
              " '32;\"entrepreneur\";\"single\";\"university.degree\";\"no\";\"yes\";\"no\";\"telephone\";\"may\";\"tue\";242;2;999;0;\"nonexistent\";1.1;93.994;-36.4;4.857;5191;\"no\"',\n",
              " '30;\"self-employed\";\"single\";\"high.school\";\"no\";\"yes\";\"no\";\"telephone\";\"may\";\"tue\";123;1;999;0;\"nonexistent\";1.1;93.994;-36.4;4.857;5191;\"no\"',\n",
              " '43;\"admin.\";\"married\";\"professional.course\";\"no\";\"yes\";\"yes\";\"telephone\";\"may\";\"tue\";161;2;999;0;\"nonexistent\";1.1;93.994;-36.4;4.857;5191;\"no\"',\n",
              " '46;\"admin.\";\"married\";\"university.degree\";\"no\";\"no\";\"no\";\"telephone\";\"may\";\"tue\";268;2;999;0;\"nonexistent\";1.1;93.994;-36.4;4.857;5191;\"no\"',\n",
              " '35;\"admin.\";\"divorced\";\"high.school\";\"no\";\"no\";\"yes\";\"telephone\";\"may\";\"tue\";259;2;999;0;\"nonexistent\";1.1;93.994;-36.4;4.857;5191;\"no\"',\n",
              " '34;\"admin.\";\"single\";\"university.degree\";\"no\";\"yes\";\"yes\";\"telephone\";\"may\";\"tue\";26;1;999;0;\"nonexistent\";1.1;93.994;-36.4;4.857;5191;\"no\"',\n",
              " '50;\"blue-collar\";\"married\";\"basic.4y\";\"unknown\";\"unknown\";\"unknown\";\"telephone\";\"may\";\"tue\";153;1;999;0;\"nonexistent\";1.1;93.994;-36.4;4.857;5191;\"no\"',\n",
              " '39;\"admin.\";\"single\";\"university.degree\";\"no\";\"no\";\"no\";\"telephone\";\"may\";\"tue\";424;2;999;0;\"nonexistent\";1.1;93.994;-36.4;4.857;5191;\"no\"',\n",
              " '39;\"blue-collar\";\"married\";\"basic.9y\";\"unknown\";\"no\";\"no\";\"telephone\";\"may\";\"tue\";375;1;999;0;\"nonexistent\";1.1;93.994;-36.4;4.857;5191;\"no\"',\n",
              " '42;\"entrepreneur\";\"married\";\"basic.6y\";\"no\";\"no\";\"no\";\"telephone\";\"may\";\"tue\";179;2;999;0;\"nonexistent\";1.1;93.994;-36.4;4.857;5191;\"no\"',\n",
              " '57;\"retired\";\"married\";\"university.degree\";\"no\";\"yes\";\"no\";\"telephone\";\"may\";\"tue\";383;1;999;0;\"nonexistent\";1.1;93.994;-36.4;4.857;5191;\"no\"',\n",
              " '45;\"blue-collar\";\"married\";\"basic.4y\";\"unknown\";\"no\";\"no\";\"telephone\";\"may\";\"tue\";440;1;999;0;\"nonexistent\";1.1;93.994;-36.4;4.857;5191;\"no\"',\n",
              " '40;\"technician\";\"married\";\"basic.4y\";\"no\";\"no\";\"yes\";\"telephone\";\"may\";\"tue\";195;1;999;0;\"nonexistent\";1.1;93.994;-36.4;4.857;5191;\"no\"',\n",
              " '42;\"blue-collar\";\"married\";\"high.school\";\"no\";\"no\";\"yes\";\"telephone\";\"may\";\"tue\";1297;3;999;0;\"nonexistent\";1.1;93.994;-36.4;4.857;5191;\"yes\"',\n",
              " '40;\"technician\";\"married\";\"basic.4y\";\"no\";\"no\";\"no\";\"telephone\";\"may\";\"tue\";217;1;999;0;\"nonexistent\";1.1;93.994;-36.4;4.857;5191;\"no\"',\n",
              " '38;\"blue-collar\";\"single\";\"basic.4y\";\"unknown\";\"no\";\"no\";\"telephone\";\"may\";\"tue\";87;1;999;0;\"nonexistent\";1.1;93.994;-36.4;4.857;5191;\"no\"',\n",
              " '39;\"blue-collar\";\"married\";\"basic.6y\";\"unknown\";\"yes\";\"yes\";\"telephone\";\"may\";\"tue\";427;1;999;0;\"nonexistent\";1.1;93.994;-36.4;4.857;5191;\"no\"',\n",
              " '41;\"blue-collar\";\"married\";\"basic.4y\";\"no\";\"no\";\"no\";\"telephone\";\"may\";\"tue\";189;1;999;0;\"nonexistent\";1.1;93.994;-36.4;4.857;5191;\"no\"',\n",
              " '39;\"blue-collar\";\"married\";\"basic.6y\";\"unknown\";\"yes\";\"no\";\"telephone\";\"may\";\"tue\";502;1;999;0;\"nonexistent\";1.1;93.994;-36.4;4.857;5191;\"no\"',\n",
              " '41;\"blue-collar\";\"married\";\"basic.4y\";\"no\";\"yes\";\"yes\";\"telephone\";\"may\";\"tue\";260;1;999;0;\"nonexistent\";1.1;93.994;-36.4;4.857;5191;\"no\"',\n",
              " '45;\"admin.\";\"married\";\"university.degree\";\"unknown\";\"no\";\"no\";\"telephone\";\"may\";\"tue\";209;1;999;0;\"nonexistent\";1.1;93.994;-36.4;4.857;5191;\"no\"',\n",
              " '35;\"admin.\";\"divorced\";\"university.degree\";\"no\";\"unknown\";\"unknown\";\"telephone\";\"may\";\"tue\";179;1;999;0;\"nonexistent\";1.1;93.994;-36.4;4.857;5191;\"no\"',\n",
              " '35;\"admin.\";\"married\";\"basic.6y\";\"no\";\"yes\";\"no\";\"telephone\";\"may\";\"tue\";179;1;999;0;\"nonexistent\";1.1;93.994;-36.4;4.857;5191;\"no\"',\n",
              " '49;\"blue-collar\";\"married\";\"high.school\";\"unknown\";\"no\";\"no\";\"telephone\";\"may\";\"tue\";69;1;999;0;\"nonexistent\";1.1;93.994;-36.4;4.857;5191;\"no\"',\n",
              " '36;\"technician\";\"married\";\"unknown\";\"no\";\"no\";\"no\";\"telephone\";\"may\";\"tue\";105;2;999;0;\"nonexistent\";1.1;93.994;-36.4;4.857;5191;\"no\"',\n",
              " '23;\"admin.\";\"single\";\"university.degree\";\"no\";\"no\";\"no\";\"telephone\";\"may\";\"tue\";266;3;999;0;\"nonexistent\";1.1;93.994;-36.4;4.857;5191;\"no\"',\n",
              " '43;\"unemployed\";\"married\";\"university.degree\";\"unknown\";\"unknown\";\"unknown\";\"telephone\";\"may\";\"tue\";87;2;999;0;\"nonexistent\";1.1;93.994;-36.4;4.857;5191;\"no\"',\n",
              " '49;\"entrepreneur\";\"married\";\"professional.course\";\"no\";\"unknown\";\"unknown\";\"telephone\";\"may\";\"tue\";524;2;999;0;\"nonexistent\";1.1;93.994;-36.4;4.857;5191;\"no\"',\n",
              " '36;\"technician\";\"married\";\"professional.course\";\"no\";\"unknown\";\"unknown\";\"telephone\";\"may\";\"tue\";155;2;999;0;\"nonexistent\";1.1;93.994;-36.4;4.857;5191;\"no\"',\n",
              " '51;\"blue-collar\";\"married\";\"basic.9y\";\"unknown\";\"yes\";\"no\";\"telephone\";\"may\";\"tue\";162;2;999;0;\"nonexistent\";1.1;93.994;-36.4;4.857;5191;\"no\"',\n",
              " '56;\"retired\";\"married\";\"basic.4y\";\"unknown\";\"yes\";\"yes\";\"telephone\";\"may\";\"tue\";316;4;999;0;\"nonexistent\";1.1;93.994;-36.4;4.857;5191;\"no\"',\n",
              " '45;\"housemaid\";\"married\";\"high.school\";\"no\";\"no\";\"no\";\"telephone\";\"may\";\"tue\";352;2;999;0;\"nonexistent\";1.1;93.994;-36.4;4.857;5191;\"no\"',\n",
              " '42;\"admin.\";\"married\";\"high.school\";\"no\";\"no\";\"no\";\"telephone\";\"may\";\"tue\";695;3;999;0;\"nonexistent\";1.1;93.994;-36.4;4.857;5191;\"no\"',\n",
              " '41;\"admin.\";\"divorced\";\"high.school\";\"no\";\"no\";\"no\";\"telephone\";\"may\";\"tue\";76;4;999;0;\"nonexistent\";1.1;93.994;-36.4;4.857;5191;\"no\"',\n",
              " '32;\"services\";\"married\";\"high.school\";\"unknown\";\"no\";\"yes\";\"telephone\";\"may\";\"tue\";535;2;999;0;\"nonexistent\";1.1;93.994;-36.4;4.857;5191;\"no\"',\n",
              " '46;\"management\";\"married\";\"university.degree\";\"no\";\"no\";\"no\";\"telephone\";\"may\";\"tue\";310;2;999;0;\"nonexistent\";1.1;93.994;-36.4;4.857;5191;\"no\"',\n",
              " '37;\"blue-collar\";\"married\";\"unknown\";\"no\";\"no\";\"no\";\"telephone\";\"may\";\"tue\";390;3;999;0;\"nonexistent\";1.1;93.994;-36.4;4.857;5191;\"no\"',\n",
              " '53;\"management\";\"married\";\"university.degree\";\"unknown\";\"no\";\"no\";\"telephone\";\"may\";\"tue\";369;1;999;0;\"nonexistent\";1.1;93.994;-36.4;4.857;5191;\"no\"',\n",
              " '30;\"blue-collar\";\"married\";\"basic.4y\";\"no\";\"no\";\"no\";\"telephone\";\"may\";\"tue\";112;2;999;0;\"nonexistent\";1.1;93.994;-36.4;4.857;5191;\"no\"',\n",
              " '45;\"unknown\";\"married\";\"unknown\";\"unknown\";\"no\";\"no\";\"telephone\";\"may\";\"tue\";79;1;999;0;\"nonexistent\";1.1;93.994;-36.4;4.857;5191;\"no\"',\n",
              " '24;\"technician\";\"single\";\"professional.course\";\"no\";\"no\";\"yes\";\"telephone\";\"may\";\"tue\";140;2;999;0;\"nonexistent\";1.1;93.994;-36.4;4.857;5191;\"no\"',\n",
              " '45;\"unknown\";\"married\";\"unknown\";\"unknown\";\"no\";\"no\";\"telephone\";\"may\";\"tue\";315;1;999;0;\"nonexistent\";1.1;93.994;-36.4;4.857;5191;\"no\"',\n",
              " '34;\"admin.\";\"single\";\"university.degree\";\"no\";\"no\";\"yes\";\"telephone\";\"may\";\"tue\";262;2;999;0;\"nonexistent\";1.1;93.994;-36.4;4.857;5191;\"no\"',\n",
              " '41;\"management\";\"married\";\"university.degree\";\"unknown\";\"no\";\"no\";\"telephone\";\"may\";\"tue\";174;2;999;0;\"nonexistent\";1.1;93.994;-36.4;4.857;5191;\"no\"',\n",
              " '59;\"blue-collar\";\"married\";\"basic.4y\";\"no\";\"yes\";\"no\";\"telephone\";\"may\";\"tue\";424;2;999;0;\"nonexistent\";1.1;93.994;-36.4;4.857;5191;\"no\"',\n",
              " '45;\"blue-collar\";\"married\";\"basic.4y\";\"unknown\";\"no\";\"no\";\"telephone\";\"may\";\"tue\";135;1;999;0;\"nonexistent\";1.1;93.994;-36.4;4.857;5191;\"no\"',\n",
              " '54;\"blue-collar\";\"married\";\"basic.6y\";\"unknown\";\"no\";\"no\";\"telephone\";\"may\";\"tue\";36;5;999;0;\"nonexistent\";1.1;93.994;-36.4;4.857;5191;\"no\"',\n",
              " '32;\"technician\";\"married\";\"professional.course\";\"no\";\"no\";\"no\";\"telephone\";\"may\";\"tue\";1906;3;999;0;\"nonexistent\";1.1;93.994;-36.4;4.857;5191;\"no\"',\n",
              " '33;\"technician\";\"married\";\"professional.course\";\"no\";\"yes\";\"no\";\"telephone\";\"may\";\"tue\";219;2;999;0;\"nonexistent\";1.1;93.994;-36.4;4.857;5191;\"no\"',\n",
              " '32;\"admin.\";\"married\";\"university.degree\";\"no\";\"no\";\"no\";\"telephone\";\"may\";\"tue\";135;1;999;0;\"nonexistent\";1.1;93.994;-36.4;4.857;5191;\"no\"',\n",
              " '34;\"services\";\"single\";\"high.school\";\"no\";\"unknown\";\"unknown\";\"telephone\";\"may\";\"tue\";147;2;999;0;\"nonexistent\";1.1;93.994;-36.4;4.857;5191;\"no\"',\n",
              " '46;\"management\";\"married\";\"university.degree\";\"no\";\"no\";\"no\";\"telephone\";\"may\";\"tue\";407;2;999;0;\"nonexistent\";1.1;93.994;-36.4;4.857;5191;\"no\"',\n",
              " '57;\"technician\";\"married\";\"professional.course\";\"no\";\"yes\";\"no\";\"telephone\";\"may\";\"tue\";402;4;999;0;\"nonexistent\";1.1;93.994;-36.4;4.857;5191;\"no\"',\n",
              " '42;\"technician\";\"married\";\"basic.9y\";\"no\";\"no\";\"no\";\"telephone\";\"may\";\"tue\";209;1;999;0;\"nonexistent\";1.1;93.994;-36.4;4.857;5191;\"no\"',\n",
              " '48;\"admin.\";\"married\";\"professional.course\";\"no\";\"yes\";\"no\";\"telephone\";\"may\";\"tue\";92;2;999;0;\"nonexistent\";1.1;93.994;-36.4;4.857;5191;\"no\"',\n",
              " '58;\"admin.\";\"divorced\";\"university.degree\";\"unknown\";\"yes\";\"no\";\"telephone\";\"may\";\"tue\";208;1;999;0;\"nonexistent\";1.1;93.994;-36.4;4.857;5191;\"no\"',\n",
              " '34;\"services\";\"married\";\"high.school\";\"no\";\"no\";\"no\";\"telephone\";\"may\";\"tue\";193;1;999;0;\"nonexistent\";1.1;93.994;-36.4;4.857;5191;\"no\"',\n",
              " '32;\"admin.\";\"single\";\"university.degree\";\"no\";\"yes\";\"yes\";\"telephone\";\"may\";\"tue\";65;1;999;0;\"nonexistent\";1.1;93.994;-36.4;4.857;5191;\"no\"',\n",
              " '48;\"blue-collar\";\"married\";\"basic.9y\";\"no\";\"no\";\"no\";\"telephone\";\"may\";\"tue\";284;2;999;0;\"nonexistent\";1.1;93.994;-36.4;4.857;5191;\"no\"',\n",
              " '47;\"blue-collar\";\"married\";\"basic.9y\";\"no\";\"no\";\"no\";\"telephone\";\"may\";\"tue\";285;1;999;0;\"nonexistent\";1.1;93.994;-36.4;4.857;5191;\"no\"',\n",
              " '31;\"services\";\"married\";\"high.school\";\"unknown\";\"no\";\"no\";\"telephone\";\"may\";\"tue\";231;1;999;0;\"nonexistent\";1.1;93.994;-36.4;4.857;5191;\"no\"',\n",
              " '32;\"admin.\";\"single\";\"university.degree\";\"no\";\"yes\";\"no\";\"telephone\";\"may\";\"tue\";278;1;999;0;\"nonexistent\";1.1;93.994;-36.4;4.857;5191;\"no\"',\n",
              " '32;\"admin.\";\"single\";\"university.degree\";\"no\";\"no\";\"no\";\"telephone\";\"may\";\"tue\";389;1;999;0;\"nonexistent\";1.1;93.994;-36.4;4.857;5191;\"no\"',\n",
              " '36;\"services\";\"married\";\"high.school\";\"no\";\"no\";\"no\";\"telephone\";\"may\";\"tue\";158;1;999;0;\"nonexistent\";1.1;93.994;-36.4;4.857;5191;\"no\"',\n",
              " '53;\"blue-collar\";\"married\";\"basic.4y\";\"unknown\";\"no\";\"yes\";\"telephone\";\"may\";\"tue\";78;2;999;0;\"nonexistent\";1.1;93.994;-36.4;4.857;5191;\"no\"',\n",
              " '37;\"blue-collar\";\"married\";\"basic.9y\";\"unknown\";\"no\";\"no\";\"telephone\";\"may\";\"tue\";258;5;999;0;\"nonexistent\";1.1;93.994;-36.4;4.857;5191;\"no\"',\n",
              " '50;\"services\";\"married\";\"high.school\";\"no\";\"no\";\"no\";\"telephone\";\"may\";\"tue\";87;1;999;0;\"nonexistent\";1.1;93.994;-36.4;4.857;5191;\"no\"',\n",
              " '46;\"blue-collar\";\"married\";\"basic.6y\";\"no\";\"yes\";\"no\";\"telephone\";\"may\";\"tue\";147;2;999;0;\"nonexistent\";1.1;93.994;-36.4;4.857;5191;\"no\"',\n",
              " '41;\"admin.\";\"married\";\"high.school\";\"no\";\"no\";\"no\";\"telephone\";\"may\";\"tue\";635;1;999;0;\"nonexistent\";1.1;93.994;-36.4;4.857;5191;\"no\"',\n",
              " '43;\"blue-collar\";\"single\";\"basic.4y\";\"no\";\"no\";\"no\";\"telephone\";\"may\";\"tue\";289;1;999;0;\"nonexistent\";1.1;93.994;-36.4;4.857;5191;\"no\"',\n",
              " '51;\"management\";\"married\";\"university.degree\";\"no\";\"yes\";\"no\";\"telephone\";\"may\";\"tue\";170;3;999;0;\"nonexistent\";1.1;93.994;-36.4;4.857;5191;\"no\"',\n",
              " '38;\"admin.\";\"married\";\"university.degree\";\"no\";\"yes\";\"no\";\"telephone\";\"may\";\"tue\";802;1;999;0;\"nonexistent\";1.1;93.994;-36.4;4.857;5191;\"no\"',\n",
              " '41;\"technician\";\"married\";\"basic.6y\";\"no\";\"yes\";\"no\";\"telephone\";\"may\";\"tue\";381;2;999;0;\"nonexistent\";1.1;93.994;-36.4;4.857;5191;\"no\"',\n",
              " '39;\"services\";\"married\";\"high.school\";\"unknown\";\"no\";\"no\";\"telephone\";\"may\";\"tue\";218;4;999;0;\"nonexistent\";1.1;93.994;-36.4;4.857;5191;\"no\"',\n",
              " '52;\"blue-collar\";\"married\";\"basic.4y\";\"no\";\"no\";\"no\";\"telephone\";\"may\";\"tue\";57;2;999;0;\"nonexistent\";1.1;93.994;-36.4;4.857;5191;\"no\"',\n",
              " '37;\"technician\";\"married\";\"professional.course\";\"no\";\"yes\";\"no\";\"telephone\";\"may\";\"tue\";304;2;999;0;\"nonexistent\";1.1;93.994;-36.4;4.857;5191;\"no\"',\n",
              " '41;\"admin.\";\"married\";\"basic.9y\";\"no\";\"yes\";\"no\";\"telephone\";\"may\";\"tue\";241;3;999;0;\"nonexistent\";1.1;93.994;-36.4;4.857;5191;\"no\"',\n",
              " '46;\"admin.\";\"divorced\";\"university.degree\";\"no\";\"yes\";\"yes\";\"telephone\";\"may\";\"tue\";230;1;999;0;\"nonexistent\";1.1;93.994;-36.4;4.857;5191;\"no\"',\n",
              " '47;\"technician\";\"married\";\"professional.course\";\"no\";\"no\";\"no\";\"telephone\";\"may\";\"tue\";79;4;999;0;\"nonexistent\";1.1;93.994;-36.4;4.857;5191;\"no\"',\n",
              " '35;\"technician\";\"married\";\"professional.course\";\"no\";\"no\";\"no\";\"telephone\";\"may\";\"tue\";262;3;999;0;\"nonexistent\";1.1;93.994;-36.4;4.857;5191;\"no\"',\n",
              " '38;\"services\";\"married\";\"high.school\";\"unknown\";\"no\";\"no\";\"telephone\";\"may\";\"tue\";392;2;999;0;\"nonexistent\";1.1;93.994;-36.4;4.857;5191;\"no\"',\n",
              " '30;\"blue-collar\";\"single\";\"unknown\";\"no\";\"yes\";\"yes\";\"telephone\";\"may\";\"tue\";201;2;999;0;\"nonexistent\";1.1;93.994;-36.4;4.857;5191;\"no\"',\n",
              " '46;\"blue-collar\";\"married\";\"basic.9y\";\"no\";\"yes\";\"no\";\"telephone\";\"may\";\"tue\";145;1;999;0;\"nonexistent\";1.1;93.994;-36.4;4.857;5191;\"no\"',\n",
              " '30;\"technician\";\"married\";\"professional.course\";\"no\";\"no\";\"no\";\"telephone\";\"may\";\"tue\";252;1;999;0;\"nonexistent\";1.1;93.994;-36.4;4.857;5191;\"no\"',\n",
              " '35;\"services\";\"single\";\"basic.4y\";\"no\";\"no\";\"no\";\"telephone\";\"may\";\"tue\";329;1;999;0;\"nonexistent\";1.1;93.994;-36.4;4.857;5191;\"no\"',\n",
              " '58;\"admin.\";\"married\";\"unknown\";\"unknown\";\"yes\";\"no\";\"telephone\";\"may\";\"tue\";328;2;999;0;\"nonexistent\";1.1;93.994;-36.4;4.857;5191;\"no\"',\n",
              " '40;\"technician\";\"married\";\"professional.course\";\"no\";\"no\";\"no\";\"telephone\";\"may\";\"tue\";191;2;999;0;\"nonexistent\";1.1;93.994;-36.4;4.857;5191;\"no\"',\n",
              " '34;\"technician\";\"married\";\"university.degree\";\"no\";\"no\";\"no\";\"telephone\";\"may\";\"tue\";116;2;999;0;\"nonexistent\";1.1;93.994;-36.4;4.857;5191;\"no\"',\n",
              " '30;\"admin.\";\"single\";\"university.degree\";\"no\";\"no\";\"no\";\"telephone\";\"may\";\"tue\";246;1;999;0;\"nonexistent\";1.1;93.994;-36.4;4.857;5191;\"no\"',\n",
              " '38;\"services\";\"married\";\"basic.6y\";\"no\";\"no\";\"no\";\"telephone\";\"may\";\"tue\";532;2;999;0;\"nonexistent\";1.1;93.994;-36.4;4.857;5191;\"no\"',\n",
              " '55;\"management\";\"single\";\"basic.4y\";\"no\";\"no\";\"no\";\"telephone\";\"may\";\"tue\";293;1;999;0;\"nonexistent\";1.1;93.994;-36.4;4.857;5191;\"no\"',\n",
              " '55;\"management\";\"married\";\"university.degree\";\"unknown\";\"yes\";\"no\";\"telephone\";\"may\";\"tue\";416;3;999;0;\"nonexistent\";1.1;93.994;-36.4;4.857;5191;\"no\"',\n",
              " '45;\"technician\";\"single\";\"professional.course\";\"no\";\"yes\";\"no\";\"telephone\";\"may\";\"tue\";37;2;999;0;\"nonexistent\";1.1;93.994;-36.4;4.857;5191;\"no\"',\n",
              " '36;\"admin.\";\"married\";\"university.degree\";\"no\";\"yes\";\"yes\";\"telephone\";\"may\";\"tue\";132;2;999;0;\"nonexistent\";1.1;93.994;-36.4;4.857;5191;\"no\"',\n",
              " '32;\"admin.\";\"single\";\"university.degree\";\"no\";\"no\";\"no\";\"telephone\";\"may\";\"tue\";530;2;999;0;\"nonexistent\";1.1;93.994;-36.4;4.857;5191;\"no\"',\n",
              " '35;\"technician\";\"married\";\"unknown\";\"unknown\";\"yes\";\"no\";\"telephone\";\"may\";\"tue\";175;3;999;0;\"nonexistent\";1.1;93.994;-36.4;4.857;5191;\"no\"',\n",
              " '55;\"management\";\"divorced\";\"university.degree\";\"no\";\"yes\";\"no\";\"telephone\";\"may\";\"tue\";90;5;999;0;\"nonexistent\";1.1;93.994;-36.4;4.857;5191;\"no\"',\n",
              " '49;\"housemaid\";\"married\";\"basic.4y\";\"unknown\";\"unknown\";\"unknown\";\"telephone\";\"may\";\"tue\";524;2;999;0;\"nonexistent\";1.1;93.994;-36.4;4.857;5191;\"no\"',\n",
              " '29;\"admin.\";\"married\";\"high.school\";\"no\";\"yes\";\"no\";\"telephone\";\"may\";\"tue\";29;3;999;0;\"nonexistent\";1.1;93.994;-36.4;4.857;5191;\"no\"',\n",
              " '34;\"blue-collar\";\"married\";\"basic.4y\";\"no\";\"yes\";\"no\";\"telephone\";\"may\";\"tue\";311;2;999;0;\"nonexistent\";1.1;93.994;-36.4;4.857;5191;\"no\"',\n",
              " '54;\"retired\";\"married\";\"high.school\";\"unknown\";\"yes\";\"no\";\"telephone\";\"may\";\"tue\";412;1;999;0;\"nonexistent\";1.1;93.994;-36.4;4.857;5191;\"no\"',\n",
              " '36;\"technician\";\"single\";\"professional.course\";\"no\";\"no\";\"no\";\"telephone\";\"may\";\"tue\";211;2;999;0;\"nonexistent\";1.1;93.994;-36.4;4.857;5191;\"no\"',\n",
              " '30;\"management\";\"single\";\"university.degree\";\"no\";\"yes\";\"no\";\"telephone\";\"may\";\"tue\";312;3;999;0;\"nonexistent\";1.1;93.994;-36.4;4.857;5191;\"no\"',\n",
              " '33;\"housemaid\";\"divorced\";\"university.degree\";\"no\";\"no\";\"no\";\"telephone\";\"may\";\"tue\";392;1;999;0;\"nonexistent\";1.1;93.994;-36.4;4.857;5191;\"no\"',\n",
              " '37;\"blue-collar\";\"married\";\"high.school\";\"no\";\"no\";\"no\";\"telephone\";\"may\";\"tue\";191;1;999;0;\"nonexistent\";1.1;93.994;-36.4;4.857;5191;\"no\"',\n",
              " '36;\"technician\";\"married\";\"basic.9y\";\"unknown\";\"yes\";\"no\";\"telephone\";\"may\";\"tue\";284;2;999;0;\"nonexistent\";1.1;93.994;-36.4;4.857;5191;\"no\"',\n",
              " '33;\"blue-collar\";\"married\";\"high.school\";\"no\";\"no\";\"no\";\"telephone\";\"may\";\"tue\";328;1;999;0;\"nonexistent\";1.1;93.994;-36.4;4.857;5191;\"no\"',\n",
              " '32;\"housemaid\";\"married\";\"high.school\";\"no\";\"yes\";\"no\";\"telephone\";\"may\";\"tue\";100;1;999;0;\"nonexistent\";1.1;93.994;-36.4;4.857;5191;\"no\"',\n",
              " '32;\"housemaid\";\"married\";\"high.school\";\"no\";\"no\";\"no\";\"telephone\";\"may\";\"tue\";226;1;999;0;\"nonexistent\";1.1;93.994;-36.4;4.857;5191;\"no\"',\n",
              " '50;\"blue-collar\";\"married\";\"basic.4y\";\"unknown\";\"yes\";\"no\";\"telephone\";\"may\";\"tue\";507;1;999;0;\"nonexistent\";1.1;93.994;-36.4;4.857;5191;\"no\"',\n",
              " '39;\"blue-collar\";\"married\";\"basic.9y\";\"no\";\"no\";\"yes\";\"telephone\";\"may\";\"tue\";333;2;999;0;\"nonexistent\";1.1;93.994;-36.4;4.857;5191;\"no\"',\n",
              " '51;\"blue-collar\";\"divorced\";\"unknown\";\"unknown\";\"yes\";\"yes\";\"telephone\";\"may\";\"tue\";128;2;999;0;\"nonexistent\";1.1;93.994;-36.4;4.857;5191;\"no\"',\n",
              " '33;\"services\";\"married\";\"high.school\";\"no\";\"no\";\"no\";\"telephone\";\"may\";\"tue\";322;2;999;0;\"nonexistent\";1.1;93.994;-36.4;4.857;5191;\"no\"',\n",
              " '33;\"services\";\"married\";\"basic.4y\";\"no\";\"no\";\"no\";\"telephone\";\"may\";\"tue\";202;4;999;0;\"nonexistent\";1.1;93.994;-36.4;4.857;5191;\"no\"',\n",
              " '56;\"management\";\"married\";\"university.degree\";\"unknown\";\"no\";\"yes\";\"telephone\";\"may\";\"tue\";92;2;999;0;\"nonexistent\";1.1;93.994;-36.4;4.857;5191;\"no\"',\n",
              " '39;\"management\";\"divorced\";\"university.degree\";\"unknown\";\"yes\";\"no\";\"telephone\";\"may\";\"tue\";205;2;999;0;\"nonexistent\";1.1;93.994;-36.4;4.857;5191;\"no\"',\n",
              " '33;\"self-employed\";\"single\";\"university.degree\";\"no\";\"no\";\"no\";\"telephone\";\"may\";\"tue\";739;3;999;0;\"nonexistent\";1.1;93.994;-36.4;4.857;5191;\"no\"',\n",
              " '59;\"retired\";\"divorced\";\"basic.4y\";\"unknown\";\"no\";\"no\";\"telephone\";\"may\";\"tue\";273;2;999;0;\"nonexistent\";1.1;93.994;-36.4;4.857;5191;\"no\"',\n",
              " '42;\"admin.\";\"single\";\"unknown\";\"no\";\"yes\";\"no\";\"telephone\";\"may\";\"tue\";339;3;999;0;\"nonexistent\";1.1;93.994;-36.4;4.857;5191;\"no\"',\n",
              " '43;\"services\";\"married\";\"high.school\";\"no\";\"no\";\"yes\";\"telephone\";\"may\";\"tue\";262;1;999;0;\"nonexistent\";1.1;93.994;-36.4;4.857;5191;\"no\"',\n",
              " '35;\"admin.\";\"married\";\"university.degree\";\"no\";\"unknown\";\"unknown\";\"telephone\";\"may\";\"tue\";308;3;999;0;\"nonexistent\";1.1;93.994;-36.4;4.857;5191;\"no\"',\n",
              " '46;\"blue-collar\";\"married\";\"basic.6y\";\"unknown\";\"yes\";\"no\";\"telephone\";\"may\";\"tue\";467;2;999;0;\"nonexistent\";1.1;93.994;-36.4;4.857;5191;\"no\"',\n",
              " '27;\"technician\";\"married\";\"basic.9y\";\"no\";\"no\";\"yes\";\"telephone\";\"may\";\"tue\";245;2;999;0;\"nonexistent\";1.1;93.994;-36.4;4.857;5191;\"no\"',\n",
              " '47;\"admin.\";\"divorced\";\"university.degree\";\"no\";\"yes\";\"no\";\"telephone\";\"may\";\"tue\";160;3;999;0;\"nonexistent\";1.1;93.994;-36.4;4.857;5191;\"no\"',\n",
              " '31;\"admin.\";\"single\";\"university.degree\";\"no\";\"no\";\"no\";\"telephone\";\"may\";\"tue\";189;2;999;0;\"nonexistent\";1.1;93.994;-36.4;4.857;5191;\"no\"',\n",
              " '32;\"blue-collar\";\"married\";\"basic.9y\";\"no\";\"yes\";\"no\";\"telephone\";\"may\";\"tue\";477;1;999;0;\"nonexistent\";1.1;93.994;-36.4;4.857;5191;\"no\"',\n",
              " '54;\"admin.\";\"married\";\"high.school\";\"no\";\"no\";\"no\";\"telephone\";\"may\";\"tue\";65;3;999;0;\"nonexistent\";1.1;93.994;-36.4;4.857;5191;\"no\"',\n",
              " '56;\"management\";\"married\";\"university.degree\";\"unknown\";\"no\";\"no\";\"telephone\";\"may\";\"tue\";191;1;999;0;\"nonexistent\";1.1;93.994;-36.4;4.857;5191;\"no\"',\n",
              " '48;\"services\";\"single\";\"high.school\";\"unknown\";\"yes\";\"no\";\"telephone\";\"may\";\"tue\";196;2;999;0;\"nonexistent\";1.1;93.994;-36.4;4.857;5191;\"no\"',\n",
              " '44;\"admin.\";\"married\";\"high.school\";\"no\";\"yes\";\"no\";\"telephone\";\"may\";\"tue\";221;2;999;0;\"nonexistent\";1.1;93.994;-36.4;4.857;5191;\"no\"',\n",
              " '46;\"admin.\";\"married\";\"high.school\";\"no\";\"no\";\"yes\";\"telephone\";\"may\";\"tue\";197;2;999;0;\"nonexistent\";1.1;93.994;-36.4;4.857;5191;\"no\"',\n",
              " '45;\"services\";\"married\";\"high.school\";\"no\";\"yes\";\"no\";\"telephone\";\"may\";\"tue\";178;2;999;0;\"nonexistent\";1.1;93.994;-36.4;4.857;5191;\"no\"',\n",
              " '43;\"admin.\";\"married\";\"professional.course\";\"no\";\"no\";\"yes\";\"telephone\";\"may\";\"tue\";221;2;999;0;\"nonexistent\";1.1;93.994;-36.4;4.857;5191;\"no\"',\n",
              " '40;\"admin.\";\"single\";\"high.school\";\"unknown\";\"no\";\"no\";\"telephone\";\"may\";\"tue\";64;2;999;0;\"nonexistent\";1.1;93.994;-36.4;4.857;5191;\"no\"',\n",
              " '56;\"management\";\"married\";\"university.degree\";\"no\";\"yes\";\"no\";\"telephone\";\"may\";\"tue\";75;2;999;0;\"nonexistent\";1.1;93.994;-36.4;4.857;5191;\"no\"',\n",
              " '47;\"entrepreneur\";\"married\";\"professional.course\";\"no\";\"no\";\"no\";\"telephone\";\"may\";\"tue\";400;2;999;0;\"nonexistent\";1.1;93.994;-36.4;4.857;5191;\"no\"',\n",
              " '39;\"management\";\"divorced\";\"university.degree\";\"unknown\";\"yes\";\"no\";\"telephone\";\"may\";\"tue\";378;3;999;0;\"nonexistent\";1.1;93.994;-36.4;4.857;5191;\"no\"',\n",
              " '48;\"technician\";\"married\";\"basic.4y\";\"unknown\";\"no\";\"no\";\"telephone\";\"may\";\"tue\";118;2;999;0;\"nonexistent\";1.1;93.994;-36.4;4.857;5191;\"no\"',\n",
              " '45;\"housemaid\";\"married\";\"professional.course\";\"unknown\";\"yes\";\"no\";\"telephone\";\"may\";\"tue\";1597;2;999;0;\"nonexistent\";1.1;93.994;-36.4;4.857;5191;\"yes\"',\n",
              " '36;\"self-employed\";\"married\";\"university.degree\";\"no\";\"no\";\"no\";\"telephone\";\"may\";\"tue\";346;2;999;0;\"nonexistent\";1.1;93.994;-36.4;4.857;5191;\"no\"',\n",
              " '49;\"management\";\"married\";\"professional.course\";\"unknown\";\"yes\";\"no\";\"telephone\";\"may\";\"tue\";107;2;999;0;\"nonexistent\";1.1;93.994;-36.4;4.857;5191;\"no\"',\n",
              " '46;\"services\";\"married\";\"high.school\";\"no\";\"no\";\"no\";\"telephone\";\"may\";\"tue\";60;3;999;0;\"nonexistent\";1.1;93.994;-36.4;4.857;5191;\"no\"',\n",
              " '38;\"blue-collar\";\"married\";\"basic.9y\";\"no\";\"yes\";\"no\";\"telephone\";\"may\";\"tue\";276;2;999;0;\"nonexistent\";1.1;93.994;-36.4;4.857;5191;\"no\"',\n",
              " '50;\"housemaid\";\"married\";\"basic.4y\";\"unknown\";\"yes\";\"no\";\"telephone\";\"may\";\"tue\";176;2;999;0;\"nonexistent\";1.1;93.994;-36.4;4.857;5191;\"no\"',\n",
              " '27;\"admin.\";\"single\";\"high.school\";\"no\";\"yes\";\"no\";\"telephone\";\"may\";\"tue\";390;2;999;0;\"nonexistent\";1.1;93.994;-36.4;4.857;5191;\"no\"',\n",
              " '40;\"technician\";\"married\";\"professional.course\";\"unknown\";\"yes\";\"no\";\"telephone\";\"may\";\"tue\";251;3;999;0;\"nonexistent\";1.1;93.994;-36.4;4.857;5191;\"no\"',\n",
              " '46;\"management\";\"married\";\"university.degree\";\"no\";\"yes\";\"no\";\"telephone\";\"may\";\"tue\";716;2;999;0;\"nonexistent\";1.1;93.994;-36.4;4.857;5191;\"no\"',\n",
              " '40;\"admin.\";\"divorced\";\"university.degree\";\"no\";\"yes\";\"no\";\"telephone\";\"may\";\"tue\";189;3;999;0;\"nonexistent\";1.1;93.994;-36.4;4.857;5191;\"no\"',\n",
              " '33;\"management\";\"single\";\"university.degree\";\"no\";\"no\";\"no\";\"telephone\";\"may\";\"tue\";125;2;999;0;\"nonexistent\";1.1;93.994;-36.4;4.857;5191;\"no\"',\n",
              " '54;\"retired\";\"married\";\"high.school\";\"no\";\"yes\";\"no\";\"telephone\";\"may\";\"tue\";234;2;999;0;\"nonexistent\";1.1;93.994;-36.4;4.857;5191;\"no\"',\n",
              " '52;\"blue-collar\";\"married\";\"basic.4y\";\"unknown\";\"yes\";\"no\";\"telephone\";\"may\";\"tue\";79;2;999;0;\"nonexistent\";1.1;93.994;-36.4;4.857;5191;\"no\"',\n",
              " '53;\"admin.\";\"married\";\"university.degree\";\"unknown\";\"yes\";\"no\";\"telephone\";\"may\";\"tue\";13;6;999;0;\"nonexistent\";1.1;93.994;-36.4;4.857;5191;\"no\"',\n",
              " '49;\"services\";\"married\";\"high.school\";\"unknown\";\"no\";\"no\";\"telephone\";\"may\";\"tue\";296;3;999;0;\"nonexistent\";1.1;93.994;-36.4;4.857;5191;\"no\"',\n",
              " '42;\"blue-collar\";\"married\";\"basic.4y\";\"unknown\";\"no\";\"no\";\"telephone\";\"may\";\"tue\";114;2;999;0;\"nonexistent\";1.1;93.994;-36.4;4.857;5191;\"no\"',\n",
              " '49;\"housemaid\";\"married\";\"basic.4y\";\"no\";\"no\";\"no\";\"telephone\";\"may\";\"tue\";283;3;999;0;\"nonexistent\";1.1;93.994;-36.4;4.857;5191;\"no\"',\n",
              " '40;\"entrepreneur\";\"married\";\"basic.9y\";\"no\";\"no\";\"no\";\"telephone\";\"may\";\"tue\";109;2;999;0;\"nonexistent\";1.1;93.994;-36.4;4.857;5191;\"no\"',\n",
              " '59;\"admin.\";\"married\";\"university.degree\";\"unknown\";\"no\";\"no\";\"telephone\";\"may\";\"tue\";132;2;999;0;\"nonexistent\";1.1;93.994;-36.4;4.857;5191;\"no\"',\n",
              " '51;\"self-employed\";\"married\";\"basic.9y\";\"no\";\"yes\";\"no\";\"telephone\";\"may\";\"tue\";144;2;999;0;\"nonexistent\";1.1;93.994;-36.4;4.857;5191;\"no\"',\n",
              " '57;\"housemaid\";\"married\";\"basic.6y\";\"unknown\";\"yes\";\"no\";\"telephone\";\"may\";\"tue\";121;2;999;0;\"nonexistent\";1.1;93.994;-36.4;4.857;5191;\"no\"',\n",
              " '38;\"self-employed\";\"divorced\";\"basic.9y\";\"no\";\"yes\";\"no\";\"telephone\";\"may\";\"tue\";95;3;999;0;\"nonexistent\";1.1;93.994;-36.4;4.857;5191;\"no\"',\n",
              " '52;\"self-employed\";\"married\";\"university.degree\";\"no\";\"no\";\"no\";\"telephone\";\"may\";\"tue\";31;3;999;0;\"nonexistent\";1.1;93.994;-36.4;4.857;5191;\"no\"',\n",
              " '26;\"unemployed\";\"single\";\"basic.9y\";\"no\";\"yes\";\"no\";\"telephone\";\"may\";\"tue\";112;3;999;0;\"nonexistent\";1.1;93.994;-36.4;4.857;5191;\"no\"',\n",
              " '35;\"admin.\";\"married\";\"university.degree\";\"no\";\"yes\";\"yes\";\"telephone\";\"may\";\"tue\";161;2;999;0;\"nonexistent\";1.1;93.994;-36.4;4.857;5191;\"no\"',\n",
              " '51;\"admin.\";\"married\";\"university.degree\";\"no\";\"no\";\"no\";\"telephone\";\"may\";\"tue\";87;4;999;0;\"nonexistent\";1.1;93.994;-36.4;4.857;5191;\"no\"',\n",
              " '43;\"blue-collar\";\"married\";\"basic.4y\";\"unknown\";\"yes\";\"yes\";\"telephone\";\"may\";\"tue\";593;2;999;0;\"nonexistent\";1.1;93.994;-36.4;4.857;5191;\"no\"',\n",
              " '42;\"admin.\";\"married\";\"high.school\";\"unknown\";\"yes\";\"no\";\"telephone\";\"may\";\"tue\";99;2;999;0;\"nonexistent\";1.1;93.994;-36.4;4.857;5191;\"no\"',\n",
              " '60;\"retired\";\"divorced\";\"university.degree\";\"unknown\";\"yes\";\"no\";\"telephone\";\"may\";\"tue\";198;2;999;0;\"nonexistent\";1.1;93.994;-36.4;4.857;5191;\"no\"',\n",
              " '36;\"blue-collar\";\"married\";\"basic.9y\";\"no\";\"yes\";\"no\";\"telephone\";\"may\";\"tue\";285;2;999;0;\"nonexistent\";1.1;93.994;-36.4;4.857;5191;\"no\"',\n",
              " '57;\"management\";\"married\";\"university.degree\";\"unknown\";\"no\";\"no\";\"telephone\";\"may\";\"tue\";190;3;999;0;\"nonexistent\";1.1;93.994;-36.4;4.857;5191;\"no\"',\n",
              " '35;\"student\";\"single\";\"university.degree\";\"unknown\";\"no\";\"no\";\"telephone\";\"may\";\"tue\";172;5;999;0;\"nonexistent\";1.1;93.994;-36.4;4.857;5191;\"no\"',\n",
              " '30;\"admin.\";\"married\";\"university.degree\";\"no\";\"no\";\"no\";\"telephone\";\"may\";\"tue\";178;2;999;0;\"nonexistent\";1.1;93.994;-36.4;4.857;5191;\"no\"',\n",
              " '43;\"services\";\"married\";\"high.school\";\"no\";\"no\";\"no\";\"telephone\";\"may\";\"tue\";174;2;999;0;\"nonexistent\";1.1;93.994;-36.4;4.857;5191;\"no\"',\n",
              " '40;\"technician\";\"married\";\"basic.9y\";\"no\";\"no\";\"no\";\"telephone\";\"may\";\"tue\";631;2;999;0;\"nonexistent\";1.1;93.994;-36.4;4.857;5191;\"no\"',\n",
              " '45;\"technician\";\"married\";\"university.degree\";\"no\";\"no\";\"no\";\"telephone\";\"may\";\"tue\";152;3;999;0;\"nonexistent\";1.1;93.994;-36.4;4.857;5191;\"no\"',\n",
              " '56;\"retired\";\"married\";\"high.school\";\"no\";\"no\";\"no\";\"telephone\";\"may\";\"tue\";176;5;999;0;\"nonexistent\";1.1;93.994;-36.4;4.857;5191;\"no\"',\n",
              " '46;\"services\";\"married\";\"basic.6y\";\"no\";\"no\";\"no\";\"telephone\";\"may\";\"tue\";32;3;999;0;\"nonexistent\";1.1;93.994;-36.4;4.857;5191;\"no\"',\n",
              " '41;\"blue-collar\";\"married\";\"basic.4y\";\"no\";\"yes\";\"no\";\"telephone\";\"may\";\"tue\";1529;2;999;0;\"nonexistent\";1.1;93.994;-36.4;4.857;5191;\"no\"',\n",
              " '42;\"admin.\";\"married\";\"university.degree\";\"no\";\"yes\";\"no\";\"telephone\";\"may\";\"tue\";254;2;999;0;\"nonexistent\";1.1;93.994;-36.4;4.857;5191;\"no\"',\n",
              " '56;\"blue-collar\";\"married\";\"basic.4y\";\"no\";\"no\";\"no\";\"telephone\";\"may\";\"tue\";214;2;999;0;\"nonexistent\";1.1;93.994;-36.4;4.857;5191;\"no\"',\n",
              " '43;\"entrepreneur\";\"married\";\"basic.4y\";\"no\";\"yes\";\"no\";\"telephone\";\"may\";\"tue\";147;3;999;0;\"nonexistent\";1.1;93.994;-36.4;4.857;5191;\"no\"',\n",
              " '34;\"blue-collar\";\"married\";\"basic.4y\";\"no\";\"no\";\"no\";\"telephone\";\"may\";\"tue\";800;4;999;0;\"nonexistent\";1.1;93.994;-36.4;4.857;5191;\"no\"',\n",
              " '38;\"services\";\"married\";\"high.school\";\"no\";\"yes\";\"no\";\"telephone\";\"may\";\"tue\";106;2;999;0;\"nonexistent\";1.1;93.994;-36.4;4.857;5191;\"no\"',\n",
              " '40;\"technician\";\"married\";\"basic.9y\";\"no\";\"no\";\"no\";\"telephone\";\"may\";\"tue\";135;2;999;0;\"nonexistent\";1.1;93.994;-36.4;4.857;5191;\"no\"',\n",
              " '38;\"admin.\";\"married\";\"high.school\";\"no\";\"no\";\"no\";\"telephone\";\"may\";\"tue\";112;4;999;0;\"nonexistent\";1.1;93.994;-36.4;4.857;5191;\"no\"',\n",
              " '48;\"entrepreneur\";\"married\";\"university.degree\";\"no\";\"yes\";\"no\";\"telephone\";\"may\";\"tue\";222;2;999;0;\"nonexistent\";1.1;93.994;-36.4;4.857;5191;\"no\"',\n",
              " '27;\"blue-collar\";\"married\";\"basic.9y\";\"unknown\";\"yes\";\"no\";\"telephone\";\"may\";\"tue\";314;3;999;0;\"nonexistent\";1.1;93.994;-36.4;4.857;5191;\"no\"',\n",
              " '24;\"technician\";\"single\";\"professional.course\";\"no\";\"no\";\"no\";\"telephone\";\"may\";\"tue\";421;2;999;0;\"nonexistent\";1.1;93.994;-36.4;4.857;5191;\"no\"',\n",
              " '47;\"admin.\";\"single\";\"unknown\";\"unknown\";\"yes\";\"yes\";\"telephone\";\"may\";\"tue\";410;2;999;0;\"nonexistent\";1.1;93.994;-36.4;4.857;5191;\"no\"',\n",
              " '48;\"blue-collar\";\"married\";\"professional.course\";\"unknown\";\"no\";\"no\";\"telephone\";\"may\";\"tue\";207;3;999;0;\"nonexistent\";1.1;93.994;-36.4;4.857;5191;\"no\"',\n",
              " '31;\"admin.\";\"single\";\"high.school\";\"no\";\"yes\";\"yes\";\"telephone\";\"may\";\"tue\";239;2;999;0;\"nonexistent\";1.1;93.994;-36.4;4.857;5191;\"no\"',\n",
              " '39;\"self-employed\";\"single\";\"basic.4y\";\"unknown\";\"yes\";\"no\";\"telephone\";\"may\";\"tue\";83;4;999;0;\"nonexistent\";1.1;93.994;-36.4;4.857;5191;\"no\"',\n",
              " '41;\"technician\";\"single\";\"university.degree\";\"unknown\";\"no\";\"no\";\"telephone\";\"may\";\"tue\";160;3;999;0;\"nonexistent\";1.1;93.994;-36.4;4.857;5191;\"no\"',\n",
              " '49;\"blue-collar\";\"married\";\"basic.4y\";\"unknown\";\"yes\";\"no\";\"telephone\";\"may\";\"tue\";42;3;999;0;\"nonexistent\";1.1;93.994;-36.4;4.857;5191;\"no\"',\n",
              " '56;\"retired\";\"married\";\"basic.4y\";\"no\";\"no\";\"no\";\"telephone\";\"may\";\"tue\";55;2;999;0;\"nonexistent\";1.1;93.994;-36.4;4.857;5191;\"no\"',\n",
              " '49;\"admin.\";\"married\";\"high.school\";\"no\";\"no\";\"no\";\"telephone\";\"may\";\"tue\";157;2;999;0;\"nonexistent\";1.1;93.994;-36.4;4.857;5191;\"no\"',\n",
              " '47;\"unemployed\";\"divorced\";\"university.degree\";\"no\";\"no\";\"no\";\"telephone\";\"may\";\"tue\";303;3;999;0;\"nonexistent\";1.1;93.994;-36.4;4.857;5191;\"no\"',\n",
              " '44;\"blue-collar\";\"married\";\"unknown\";\"unknown\";\"yes\";\"no\";\"telephone\";\"may\";\"tue\";336;3;999;0;\"nonexistent\";1.1;93.994;-36.4;4.857;5191;\"no\"',\n",
              " '48;\"admin.\";\"divorced\";\"high.school\";\"no\";\"no\";\"no\";\"telephone\";\"may\";\"tue\";233;2;999;0;\"nonexistent\";1.1;93.994;-36.4;4.857;5191;\"no\"',\n",
              " '55;\"housemaid\";\"married\";\"basic.4y\";\"no\";\"yes\";\"yes\";\"telephone\";\"may\";\"tue\";211;2;999;0;\"nonexistent\";1.1;93.994;-36.4;4.857;5191;\"no\"',\n",
              " '59;\"management\";\"married\";\"basic.4y\";\"unknown\";\"yes\";\"no\";\"telephone\";\"may\";\"tue\";88;5;999;0;\"nonexistent\";1.1;93.994;-36.4;4.857;5191;\"no\"',\n",
              " '44;\"technician\";\"single\";\"professional.course\";\"no\";\"yes\";\"yes\";\"telephone\";\"may\";\"tue\";139;2;999;0;\"nonexistent\";1.1;93.994;-36.4;4.857;5191;\"no\"',\n",
              " '46;\"blue-collar\";\"married\";\"basic.9y\";\"no\";\"no\";\"yes\";\"telephone\";\"may\";\"tue\";329;3;999;0;\"nonexistent\";1.1;93.994;-36.4;4.857;5191;\"no\"',\n",
              " '39;\"blue-collar\";\"divorced\";\"basic.6y\";\"unknown\";\"yes\";\"no\";\"telephone\";\"may\";\"tue\";305;2;999;0;\"nonexistent\";1.1;93.994;-36.4;4.857;5191;\"no\"',\n",
              " '38;\"unemployed\";\"married\";\"basic.4y\";\"unknown\";\"yes\";\"yes\";\"telephone\";\"may\";\"tue\";206;2;999;0;\"nonexistent\";1.1;93.994;-36.4;4.857;5191;\"no\"',\n",
              " '36;\"services\";\"married\";\"high.school\";\"no\";\"yes\";\"no\";\"telephone\";\"may\";\"tue\";128;2;999;0;\"nonexistent\";1.1;93.994;-36.4;4.857;5191;\"no\"',\n",
              " '29;\"admin.\";\"single\";\"university.degree\";\"no\";\"no\";\"no\";\"telephone\";\"may\";\"tue\";122;3;999;0;\"nonexistent\";1.1;93.994;-36.4;4.857;5191;\"no\"',\n",
              " '31;\"technician\";\"single\";\"professional.course\";\"no\";\"yes\";\"no\";\"telephone\";\"may\";\"tue\";343;3;999;0;\"nonexistent\";1.1;93.994;-36.4;4.857;5191;\"no\"',\n",
              " '30;\"services\";\"divorced\";\"basic.9y\";\"no\";\"no\";\"yes\";\"telephone\";\"may\";\"tue\";126;2;999;0;\"nonexistent\";1.1;93.994;-36.4;4.857;5191;\"no\"',\n",
              " '36;\"blue-collar\";\"married\";\"basic.4y\";\"no\";\"yes\";\"no\";\"telephone\";\"may\";\"tue\";249;3;999;0;\"nonexistent\";1.1;93.994;-36.4;4.857;5191;\"no\"',\n",
              " '60;\"blue-collar\";\"married\";\"professional.course\";\"no\";\"no\";\"no\";\"telephone\";\"may\";\"tue\";59;3;999;0;\"nonexistent\";1.1;93.994;-36.4;4.857;5191;\"no\"',\n",
              " '36;\"admin.\";\"married\";\"university.degree\";\"no\";\"yes\";\"no\";\"telephone\";\"may\";\"tue\";166;3;999;0;\"nonexistent\";1.1;93.994;-36.4;4.857;5191;\"no\"',\n",
              " '32;\"services\";\"married\";\"high.school\";\"no\";\"no\";\"no\";\"telephone\";\"may\";\"tue\";190;3;999;0;\"nonexistent\";1.1;93.994;-36.4;4.857;5191;\"no\"',\n",
              " '39;\"blue-collar\";\"married\";\"basic.9y\";\"unknown\";\"yes\";\"no\";\"telephone\";\"may\";\"tue\";216;2;999;0;\"nonexistent\";1.1;93.994;-36.4;4.857;5191;\"no\"',\n",
              " '30;\"services\";\"married\";\"university.degree\";\"no\";\"yes\";\"no\";\"telephone\";\"may\";\"wed\";51;3;999;0;\"nonexistent\";1.1;93.994;-36.4;4.856;5191;\"no\"',\n",
              " '39;\"blue-collar\";\"married\";\"basic.4y\";\"unknown\";\"no\";\"no\";\"telephone\";\"may\";\"wed\";169;3;999;0;\"nonexistent\";1.1;93.994;-36.4;4.856;5191;\"no\"',\n",
              " '37;\"blue-collar\";\"married\";\"basic.9y\";\"unknown\";\"yes\";\"no\";\"telephone\";\"may\";\"wed\";148;3;999;0;\"nonexistent\";1.1;93.994;-36.4;4.856;5191;\"no\"',\n",
              " '39;\"blue-collar\";\"married\";\"professional.course\";\"unknown\";\"yes\";\"no\";\"telephone\";\"may\";\"wed\";132;3;999;0;\"nonexistent\";1.1;93.994;-36.4;4.856;5191;\"no\"',\n",
              " '46;\"blue-collar\";\"married\";\"basic.4y\";\"no\";\"no\";\"no\";\"telephone\";\"may\";\"wed\";117;3;999;0;\"nonexistent\";1.1;93.994;-36.4;4.856;5191;\"no\"',\n",
              " '43;\"unemployed\";\"married\";\"basic.4y\";\"no\";\"no\";\"no\";\"telephone\";\"may\";\"wed\";275;4;999;0;\"nonexistent\";1.1;93.994;-36.4;4.856;5191;\"no\"',\n",
              " '37;\"services\";\"married\";\"high.school\";\"no\";\"yes\";\"no\";\"telephone\";\"may\";\"wed\";124;2;999;0;\"nonexistent\";1.1;93.994;-36.4;4.856;5191;\"no\"',\n",
              " '30;\"technician\";\"married\";\"university.degree\";\"unknown\";\"no\";\"no\";\"telephone\";\"may\";\"wed\";118;3;999;0;\"nonexistent\";1.1;93.994;-36.4;4.856;5191;\"no\"',\n",
              " '38;\"technician\";\"married\";\"professional.course\";\"no\";\"no\";\"no\";\"telephone\";\"may\";\"wed\";479;2;999;0;\"nonexistent\";1.1;93.994;-36.4;4.856;5191;\"no\"',\n",
              " '31;\"technician\";\"married\";\"university.degree\";\"no\";\"yes\";\"no\";\"telephone\";\"may\";\"wed\";285;3;999;0;\"nonexistent\";1.1;93.994;-36.4;4.856;5191;\"no\"',\n",
              " '44;\"admin.\";\"married\";\"university.degree\";\"no\";\"no\";\"no\";\"telephone\";\"may\";\"wed\";322;2;999;0;\"nonexistent\";1.1;93.994;-36.4;4.856;5191;\"no\"',\n",
              " '44;\"self-employed\";\"married\";\"university.degree\";\"unknown\";\"no\";\"no\";\"telephone\";\"may\";\"wed\";202;2;999;0;\"nonexistent\";1.1;93.994;-36.4;4.856;5191;\"no\"',\n",
              " '38;\"technician\";\"married\";\"unknown\";\"unknown\";\"unknown\";\"unknown\";\"telephone\";\"may\";\"wed\";162;2;999;0;\"nonexistent\";1.1;93.994;-36.4;4.856;5191;\"no\"',\n",
              " '30;\"student\";\"single\";\"high.school\";\"unknown\";\"no\";\"no\";\"telephone\";\"may\";\"wed\";216;3;999;0;\"nonexistent\";1.1;93.994;-36.4;4.856;5191;\"no\"',\n",
              " '37;\"blue-collar\";\"married\";\"basic.4y\";\"unknown\";\"unknown\";\"unknown\";\"telephone\";\"may\";\"wed\";195;2;999;0;\"nonexistent\";1.1;93.994;-36.4;4.856;5191;\"no\"',\n",
              " '54;\"housemaid\";\"divorced\";\"unknown\";\"no\";\"yes\";\"no\";\"telephone\";\"may\";\"wed\";96;2;999;0;\"nonexistent\";1.1;93.994;-36.4;4.856;5191;\"no\"',\n",
              " '41;\"management\";\"married\";\"unknown\";\"unknown\";\"yes\";\"no\";\"telephone\";\"may\";\"wed\";149;2;999;0;\"nonexistent\";1.1;93.994;-36.4;4.856;5191;\"no\"',\n",
              " '43;\"technician\";\"married\";\"professional.course\";\"no\";\"no\";\"no\";\"telephone\";\"may\";\"wed\";720;2;999;0;\"nonexistent\";1.1;93.994;-36.4;4.856;5191;\"no\"',\n",
              " '38;\"housemaid\";\"married\";\"basic.9y\";\"no\";\"no\";\"no\";\"telephone\";\"may\";\"wed\";92;2;999;0;\"nonexistent\";1.1;93.994;-36.4;4.856;5191;\"no\"',\n",
              " '41;\"blue-collar\";\"married\";\"basic.4y\";\"no\";\"yes\";\"no\";\"telephone\";\"may\";\"wed\";188;2;999;0;\"nonexistent\";1.1;93.994;-36.4;4.856;5191;\"no\"',\n",
              " '38;\"blue-collar\";\"single\";\"unknown\";\"unknown\";\"no\";\"yes\";\"telephone\";\"may\";\"wed\";70;2;999;0;\"nonexistent\";1.1;93.994;-36.4;4.856;5191;\"no\"',\n",
              " '33;\"blue-collar\";\"married\";\"basic.9y\";\"no\";\"unknown\";\"unknown\";\"telephone\";\"may\";\"wed\";141;3;999;0;\"nonexistent\";1.1;93.994;-36.4;4.856;5191;\"no\"',\n",
              " '32;\"admin.\";\"married\";\"high.school\";\"no\";\"yes\";\"no\";\"telephone\";\"may\";\"wed\";395;2;999;0;\"nonexistent\";1.1;93.994;-36.4;4.856;5191;\"no\"',\n",
              " '30;\"services\";\"married\";\"high.school\";\"unknown\";\"no\";\"no\";\"telephone\";\"may\";\"wed\";629;2;999;0;\"nonexistent\";1.1;93.994;-36.4;4.856;5191;\"no\"',\n",
              " '43;\"technician\";\"married\";\"basic.6y\";\"no\";\"yes\";\"no\";\"telephone\";\"may\";\"wed\";261;3;999;0;\"nonexistent\";1.1;93.994;-36.4;4.856;5191;\"no\"',\n",
              " '30;\"services\";\"married\";\"high.school\";\"unknown\";\"yes\";\"no\";\"telephone\";\"may\";\"wed\";502;1;999;0;\"nonexistent\";1.1;93.994;-36.4;4.856;5191;\"no\"',\n",
              " '36;\"technician\";\"divorced\";\"professional.course\";\"no\";\"no\";\"no\";\"telephone\";\"may\";\"wed\";446;1;999;0;\"nonexistent\";1.1;93.994;-36.4;4.856;5191;\"no\"',\n",
              " '38;\"blue-collar\";\"married\";\"basic.6y\";\"no\";\"unknown\";\"unknown\";\"telephone\";\"may\";\"wed\";131;3;999;0;\"nonexistent\";1.1;93.994;-36.4;4.856;5191;\"no\"',\n",
              " '35;\"blue-collar\";\"single\";\"basic.6y\";\"no\";\"yes\";\"no\";\"telephone\";\"may\";\"wed\";198;3;999;0;\"nonexistent\";1.1;93.994;-36.4;4.856;5191;\"no\"',\n",
              " '50;\"self-employed\";\"married\";\"university.degree\";\"no\";\"no\";\"no\";\"telephone\";\"may\";\"wed\";312;1;999;0;\"nonexistent\";1.1;93.994;-36.4;4.856;5191;\"no\"',\n",
              " '38;\"blue-collar\";\"married\";\"basic.9y\";\"no\";\"yes\";\"no\";\"telephone\";\"may\";\"wed\";275;6;999;0;\"nonexistent\";1.1;93.994;-36.4;4.856;5191;\"no\"',\n",
              " '58;\"admin.\";\"married\";\"basic.4y\";\"unknown\";\"no\";\"yes\";\"telephone\";\"may\";\"wed\";120;2;999;0;\"nonexistent\";1.1;93.994;-36.4;4.856;5191;\"no\"',\n",
              " '50;\"technician\";\"married\";\"professional.course\";\"no\";\"yes\";\"no\";\"telephone\";\"may\";\"wed\";333;4;999;0;\"nonexistent\";1.1;93.994;-36.4;4.856;5191;\"no\"',\n",
              " '33;\"blue-collar\";\"single\";\"basic.9y\";\"unknown\";\"no\";\"no\";\"telephone\";\"may\";\"wed\";113;1;999;0;\"nonexistent\";1.1;93.994;-36.4;4.856;5191;\"no\"',\n",
              " '33;\"blue-collar\";\"single\";\"basic.9y\";\"unknown\";\"unknown\";\"unknown\";\"telephone\";\"may\";\"wed\";150;1;999;0;\"nonexistent\";1.1;93.994;-36.4;4.856;5191;\"no\"',\n",
              " '44;\"management\";\"single\";\"university.degree\";\"unknown\";\"yes\";\"yes\";\"telephone\";\"may\";\"wed\";91;1;999;0;\"nonexistent\";1.1;93.994;-36.4;4.856;5191;\"no\"',\n",
              " '31;\"management\";\"married\";\"high.school\";\"no\";\"no\";\"no\";\"telephone\";\"may\";\"wed\";296;1;999;0;\"nonexistent\";1.1;93.994;-36.4;4.856;5191;\"no\"',\n",
              " '40;\"entrepreneur\";\"married\";\"basic.9y\";\"no\";\"no\";\"no\";\"telephone\";\"may\";\"wed\";128;3;999;0;\"nonexistent\";1.1;93.994;-36.4;4.856;5191;\"no\"',\n",
              " '28;\"unknown\";\"single\";\"basic.9y\";\"unknown\";\"no\";\"no\";\"telephone\";\"may\";\"wed\";298;1;999;0;\"nonexistent\";1.1;93.994;-36.4;4.856;5191;\"no\"',\n",
              " '36;\"services\";\"single\";\"unknown\";\"no\";\"yes\";\"no\";\"telephone\";\"may\";\"wed\";326;1;999;0;\"nonexistent\";1.1;93.994;-36.4;4.856;5191;\"no\"',\n",
              " '44;\"blue-collar\";\"single\";\"high.school\";\"no\";\"no\";\"no\";\"telephone\";\"may\";\"wed\";292;1;999;0;\"nonexistent\";1.1;93.994;-36.4;4.856;5191;\"no\"',\n",
              " '38;\"blue-collar\";\"divorced\";\"unknown\";\"no\";\"yes\";\"no\";\"telephone\";\"may\";\"wed\";215;1;999;0;\"nonexistent\";1.1;93.994;-36.4;4.856;5191;\"no\"',\n",
              " '33;\"blue-collar\";\"married\";\"basic.9y\";\"no\";\"unknown\";\"unknown\";\"telephone\";\"may\";\"wed\";97;1;999;0;\"nonexistent\";1.1;93.994;-36.4;4.856;5191;\"no\"',\n",
              " '39;\"blue-collar\";\"divorced\";\"basic.6y\";\"unknown\";\"yes\";\"yes\";\"telephone\";\"may\";\"wed\";32;1;999;0;\"nonexistent\";1.1;93.994;-36.4;4.856;5191;\"no\"',\n",
              " '47;\"blue-collar\";\"single\";\"basic.4y\";\"unknown\";\"yes\";\"no\";\"telephone\";\"may\";\"wed\";162;1;999;0;\"nonexistent\";1.1;93.994;-36.4;4.856;5191;\"no\"',\n",
              " '47;\"services\";\"divorced\";\"high.school\";\"no\";\"no\";\"no\";\"telephone\";\"may\";\"wed\";421;1;999;0;\"nonexistent\";1.1;93.994;-36.4;4.856;5191;\"no\"',\n",
              " '35;\"entrepreneur\";\"single\";\"professional.course\";\"no\";\"no\";\"no\";\"telephone\";\"may\";\"wed\";268;1;999;0;\"nonexistent\";1.1;93.994;-36.4;4.856;5191;\"no\"',\n",
              " '42;\"admin.\";\"divorced\";\"university.degree\";\"no\";\"no\";\"no\";\"telephone\";\"may\";\"wed\";232;1;999;0;\"nonexistent\";1.1;93.994;-36.4;4.856;5191;\"no\"',\n",
              " '36;\"admin.\";\"married\";\"high.school\";\"no\";\"no\";\"no\";\"telephone\";\"may\";\"wed\";152;3;999;0;\"nonexistent\";1.1;93.994;-36.4;4.856;5191;\"no\"',\n",
              " '35;\"technician\";\"married\";\"basic.6y\";\"no\";\"no\";\"no\";\"telephone\";\"may\";\"wed\";104;2;999;0;\"nonexistent\";1.1;93.994;-36.4;4.856;5191;\"no\"',\n",
              " '36;\"services\";\"single\";\"unknown\";\"no\";\"yes\";\"no\";\"telephone\";\"may\";\"wed\";852;1;999;0;\"nonexistent\";1.1;93.994;-36.4;4.856;5191;\"no\"',\n",
              " '56;\"entrepreneur\";\"married\";\"university.degree\";\"unknown\";\"yes\";\"no\";\"telephone\";\"may\";\"wed\";159;2;999;0;\"nonexistent\";1.1;93.994;-36.4;4.856;5191;\"no\"',\n",
              " '26;\"admin.\";\"single\";\"high.school\";\"no\";\"no\";\"no\";\"telephone\";\"may\";\"wed\";416;2;999;0;\"nonexistent\";1.1;93.994;-36.4;4.856;5191;\"no\"',\n",
              " '31;\"admin.\";\"single\";\"university.degree\";\"no\";\"yes\";\"yes\";\"telephone\";\"may\";\"wed\";174;1;999;0;\"nonexistent\";1.1;93.994;-36.4;4.856;5191;\"no\"',\n",
              " '57;\"self-employed\";\"single\";\"high.school\";\"unknown\";\"no\";\"no\";\"telephone\";\"may\";\"wed\";139;1;999;0;\"nonexistent\";1.1;93.994;-36.4;4.856;5191;\"no\"',\n",
              " '39;\"services\";\"married\";\"high.school\";\"no\";\"no\";\"no\";\"telephone\";\"may\";\"wed\";193;1;999;0;\"nonexistent\";1.1;93.994;-36.4;4.856;5191;\"no\"',\n",
              " '43;\"blue-collar\";\"married\";\"high.school\";\"no\";\"yes\";\"no\";\"telephone\";\"may\";\"wed\";294;1;999;0;\"nonexistent\";1.1;93.994;-36.4;4.856;5191;\"no\"',\n",
              " '50;\"admin.\";\"married\";\"university.degree\";\"no\";\"no\";\"no\";\"telephone\";\"may\";\"wed\";102;1;999;0;\"nonexistent\";1.1;93.994;-36.4;4.856;5191;\"no\"',\n",
              " '52;\"blue-collar\";\"single\";\"high.school\";\"unknown\";\"unknown\";\"unknown\";\"telephone\";\"may\";\"wed\";124;1;999;0;\"nonexistent\";1.1;93.994;-36.4;4.856;5191;\"no\"',\n",
              " '39;\"blue-collar\";\"divorced\";\"basic.9y\";\"no\";\"no\";\"no\";\"telephone\";\"may\";\"wed\";143;1;999;0;\"nonexistent\";1.1;93.994;-36.4;4.856;5191;\"no\"',\n",
              " '44;\"technician\";\"single\";\"unknown\";\"unknown\";\"yes\";\"no\";\"telephone\";\"may\";\"wed\";231;1;999;0;\"nonexistent\";1.1;93.994;-36.4;4.856;5191;\"no\"',\n",
              " '36;\"housemaid\";\"married\";\"basic.4y\";\"no\";\"yes\";\"no\";\"telephone\";\"may\";\"wed\";128;1;999;0;\"nonexistent\";1.1;93.994;-36.4;4.856;5191;\"no\"',\n",
              " '54;\"management\";\"married\";\"high.school\";\"unknown\";\"yes\";\"no\";\"telephone\";\"may\";\"wed\";74;1;999;0;\"nonexistent\";1.1;93.994;-36.4;4.856;5191;\"no\"',\n",
              " '27;\"admin.\";\"single\";\"basic.9y\";\"no\";\"yes\";\"no\";\"telephone\";\"may\";\"wed\";105;2;999;0;\"nonexistent\";1.1;93.994;-36.4;4.856;5191;\"no\"',\n",
              " '31;\"admin.\";\"single\";\"university.degree\";\"no\";\"no\";\"no\";\"telephone\";\"may\";\"wed\";992;1;999;0;\"nonexistent\";1.1;93.994;-36.4;4.856;5191;\"yes\"',\n",
              " '31;\"admin.\";\"married\";\"university.degree\";\"unknown\";\"no\";\"no\";\"telephone\";\"may\";\"wed\";168;1;999;0;\"nonexistent\";1.1;93.994;-36.4;4.856;5191;\"no\"',\n",
              " '28;\"blue-collar\";\"married\";\"basic.6y\";\"no\";\"no\";\"no\";\"telephone\";\"may\";\"wed\";250;1;999;0;\"nonexistent\";1.1;93.994;-36.4;4.856;5191;\"no\"',\n",
              " '31;\"management\";\"single\";\"university.degree\";\"no\";\"yes\";\"no\";\"telephone\";\"may\";\"wed\";254;1;999;0;\"nonexistent\";1.1;93.994;-36.4;4.856;5191;\"no\"',\n",
              " '30;\"management\";\"divorced\";\"high.school\";\"no\";\"no\";\"yes\";\"telephone\";\"may\";\"wed\";149;1;999;0;\"nonexistent\";1.1;93.994;-36.4;4.856;5191;\"no\"',\n",
              " '52;\"technician\";\"married\";\"professional.course\";\"no\";\"yes\";\"no\";\"telephone\";\"may\";\"wed\";133;2;999;0;\"nonexistent\";1.1;93.994;-36.4;4.856;5191;\"no\"',\n",
              " '37;\"technician\";\"divorced\";\"professional.course\";\"no\";\"no\";\"no\";\"telephone\";\"may\";\"wed\";374;1;999;0;\"nonexistent\";1.1;93.994;-36.4;4.856;5191;\"no\"',\n",
              " '30;\"services\";\"married\";\"university.degree\";\"no\";\"yes\";\"no\";\"telephone\";\"may\";\"wed\";425;6;999;0;\"nonexistent\";1.1;93.994;-36.4;4.856;5191;\"no\"',\n",
              " '45;\"blue-collar\";\"married\";\"basic.9y\";\"unknown\";\"yes\";\"yes\";\"telephone\";\"may\";\"wed\";207;1;999;0;\"nonexistent\";1.1;93.994;-36.4;4.856;5191;\"no\"',\n",
              " '54;\"technician\";\"married\";\"university.degree\";\"no\";\"yes\";\"no\";\"telephone\";\"may\";\"wed\";464;1;999;0;\"nonexistent\";1.1;93.994;-36.4;4.856;5191;\"no\"',\n",
              " '49;\"entrepreneur\";\"married\";\"basic.9y\";\"no\";\"yes\";\"no\";\"telephone\";\"may\";\"wed\";439;1;999;0;\"nonexistent\";1.1;93.994;-36.4;4.856;5191;\"no\"',\n",
              " '44;\"admin.\";\"married\";\"high.school\";\"no\";\"no\";\"no\";\"telephone\";\"may\";\"wed\";83;3;999;0;\"nonexistent\";1.1;93.994;-36.4;4.856;5191;\"no\"',\n",
              " '28;\"student\";\"single\";\"basic.9y\";\"unknown\";\"yes\";\"yes\";\"telephone\";\"may\";\"wed\";732;2;999;0;\"nonexistent\";1.1;93.994;-36.4;4.856;5191;\"yes\"',\n",
              " '53;\"technician\";\"married\";\"high.school\";\"no\";\"yes\";\"no\";\"telephone\";\"may\";\"wed\";149;1;999;0;\"nonexistent\";1.1;93.994;-36.4;4.856;5191;\"no\"',\n",
              " '45;\"blue-collar\";\"married\";\"basic.9y\";\"unknown\";\"yes\";\"no\";\"telephone\";\"may\";\"wed\";142;1;999;0;\"nonexistent\";1.1;93.994;-36.4;4.856;5191;\"no\"',\n",
              " '45;\"blue-collar\";\"married\";\"basic.9y\";\"unknown\";\"no\";\"no\";\"telephone\";\"may\";\"wed\";121;1;999;0;\"nonexistent\";1.1;93.994;-36.4;4.856;5191;\"no\"',\n",
              " '51;\"admin.\";\"married\";\"high.school\";\"unknown\";\"yes\";\"no\";\"telephone\";\"may\";\"wed\";359;1;999;0;\"nonexistent\";1.1;93.994;-36.4;4.856;5191;\"no\"',\n",
              " '41;\"blue-collar\";\"married\";\"basic.9y\";\"unknown\";\"yes\";\"no\";\"telephone\";\"may\";\"wed\";112;1;999;0;\"nonexistent\";1.1;93.994;-36.4;4.856;5191;\"no\"',\n",
              " '43;\"technician\";\"married\";\"professional.course\";\"no\";\"yes\";\"no\";\"telephone\";\"may\";\"wed\";274;4;999;0;\"nonexistent\";1.1;93.994;-36.4;4.856;5191;\"no\"',\n",
              " '31;\"admin.\";\"single\";\"university.degree\";\"no\";\"yes\";\"no\";\"telephone\";\"may\";\"wed\";325;2;999;0;\"nonexistent\";1.1;93.994;-36.4;4.856;5191;\"no\"',\n",
              " '39;\"admin.\";\"single\";\"unknown\";\"no\";\"yes\";\"no\";\"telephone\";\"may\";\"wed\";1521;1;999;0;\"nonexistent\";1.1;93.994;-36.4;4.856;5191;\"no\"',\n",
              " '38;\"technician\";\"married\";\"professional.course\";\"no\";\"no\";\"no\";\"telephone\";\"may\";\"wed\";216;1;999;0;\"nonexistent\";1.1;93.994;-36.4;4.856;5191;\"no\"',\n",
              " '50;\"entrepreneur\";\"married\";\"basic.9y\";\"no\";\"yes\";\"yes\";\"telephone\";\"may\";\"wed\";161;1;999;0;\"nonexistent\";1.1;93.994;-36.4;4.856;5191;\"no\"',\n",
              " '53;\"admin.\";\"single\";\"university.degree\";\"unknown\";\"yes\";\"no\";\"telephone\";\"may\";\"wed\";122;2;999;0;\"nonexistent\";1.1;93.994;-36.4;4.856;5191;\"no\"',\n",
              " '44;\"admin.\";\"divorced\";\"high.school\";\"unknown\";\"yes\";\"no\";\"telephone\";\"may\";\"wed\";800;1;999;0;\"nonexistent\";1.1;93.994;-36.4;4.856;5191;\"no\"',\n",
              " '53;\"blue-collar\";\"married\";\"basic.9y\";\"unknown\";\"yes\";\"yes\";\"telephone\";\"may\";\"wed\";615;1;999;0;\"nonexistent\";1.1;93.994;-36.4;4.856;5191;\"no\"',\n",
              " '24;\"services\";\"single\";\"high.school\";\"no\";\"no\";\"no\";\"telephone\";\"may\";\"wed\";111;1;999;0;\"nonexistent\";1.1;93.994;-36.4;4.856;5191;\"no\"',\n",
              " '34;\"admin.\";\"single\";\"high.school\";\"no\";\"yes\";\"no\";\"telephone\";\"may\";\"wed\";359;1;999;0;\"nonexistent\";1.1;93.994;-36.4;4.856;5191;\"no\"',\n",
              " '40;\"technician\";\"married\";\"professional.course\";\"no\";\"yes\";\"no\";\"telephone\";\"may\";\"wed\";327;3;999;0;\"nonexistent\";1.1;93.994;-36.4;4.856;5191;\"no\"',\n",
              " '57;\"management\";\"divorced\";\"university.degree\";\"no\";\"yes\";\"no\";\"telephone\";\"may\";\"wed\";236;1;999;0;\"nonexistent\";1.1;93.994;-36.4;4.856;5191;\"no\"',\n",
              " '43;\"blue-collar\";\"married\";\"basic.4y\";\"unknown\";\"yes\";\"no\";\"telephone\";\"may\";\"wed\";227;1;999;0;\"nonexistent\";1.1;93.994;-36.4;4.856;5191;\"no\"',\n",
              " '31;\"blue-collar\";\"married\";\"basic.6y\";\"unknown\";\"no\";\"no\";\"telephone\";\"may\";\"wed\";109;1;999;0;\"nonexistent\";1.1;93.994;-36.4;4.856;5191;\"no\"',\n",
              " '31;\"services\";\"married\";\"basic.6y\";\"no\";\"yes\";\"no\";\"telephone\";\"may\";\"wed\";492;2;999;0;\"nonexistent\";1.1;93.994;-36.4;4.856;5191;\"no\"',\n",
              " '31;\"blue-collar\";\"married\";\"basic.6y\";\"unknown\";\"yes\";\"no\";\"telephone\";\"may\";\"wed\";298;1;999;0;\"nonexistent\";1.1;93.994;-36.4;4.856;5191;\"no\"',\n",
              " '45;\"housemaid\";\"married\";\"basic.4y\";\"unknown\";\"yes\";\"no\";\"telephone\";\"may\";\"wed\";83;2;999;0;\"nonexistent\";1.1;93.994;-36.4;4.856;5191;\"no\"',\n",
              " '38;\"admin.\";\"married\";\"university.degree\";\"no\";\"no\";\"no\";\"telephone\";\"may\";\"wed\";241;2;999;0;\"nonexistent\";1.1;93.994;-36.4;4.856;5191;\"no\"',\n",
              " '41;\"entrepreneur\";\"married\";\"university.degree\";\"no\";\"yes\";\"no\";\"telephone\";\"may\";\"wed\";1138;1;999;0;\"nonexistent\";1.1;93.994;-36.4;4.856;5191;\"yes\"',\n",
              " '47;\"blue-collar\";\"married\";\"professional.course\";\"unknown\";\"yes\";\"no\";\"telephone\";\"may\";\"wed\";131;1;999;0;\"nonexistent\";1.1;93.994;-36.4;4.856;5191;\"no\"',\n",
              " '42;\"blue-collar\";\"married\";\"basic.6y\";\"no\";\"no\";\"no\";\"telephone\";\"may\";\"wed\";123;1;999;0;\"nonexistent\";1.1;93.994;-36.4;4.856;5191;\"no\"',\n",
              " '35;\"blue-collar\";\"single\";\"unknown\";\"no\";\"yes\";\"no\";\"telephone\";\"may\";\"wed\";125;1;999;0;\"nonexistent\";1.1;93.994;-36.4;4.856;5191;\"no\"',\n",
              " '40;\"management\";\"married\";\"university.degree\";\"no\";\"yes\";\"no\";\"telephone\";\"may\";\"wed\";295;2;999;0;\"nonexistent\";1.1;93.994;-36.4;4.856;5191;\"no\"',\n",
              " '42;\"blue-collar\";\"married\";\"basic.6y\";\"no\";\"no\";\"no\";\"telephone\";\"may\";\"wed\";287;1;999;0;\"nonexistent\";1.1;93.994;-36.4;4.856;5191;\"no\"',\n",
              " '34;\"technician\";\"married\";\"professional.course\";\"unknown\";\"yes\";\"no\";\"telephone\";\"may\";\"wed\";109;1;999;0;\"nonexistent\";1.1;93.994;-36.4;4.856;5191;\"no\"',\n",
              " '48;\"admin.\";\"single\";\"university.degree\";\"no\";\"yes\";\"no\";\"telephone\";\"may\";\"wed\";140;2;999;0;\"nonexistent\";1.1;93.994;-36.4;4.856;5191;\"no\"',\n",
              " '35;\"blue-collar\";\"married\";\"unknown\";\"no\";\"yes\";\"yes\";\"telephone\";\"may\";\"wed\";52;1;999;0;\"nonexistent\";1.1;93.994;-36.4;4.856;5191;\"no\"',\n",
              " '33;\"blue-collar\";\"married\";\"high.school\";\"no\";\"yes\";\"no\";\"telephone\";\"may\";\"wed\";233;1;999;0;\"nonexistent\";1.1;93.994;-36.4;4.856;5191;\"no\"',\n",
              " '37;\"technician\";\"married\";\"professional.course\";\"no\";\"yes\";\"no\";\"telephone\";\"may\";\"wed\";254;1;999;0;\"nonexistent\";1.1;93.994;-36.4;4.856;5191;\"no\"',\n",
              " '43;\"technician\";\"married\";\"professional.course\";\"no\";\"yes\";\"no\";\"telephone\";\"may\";\"wed\";255;1;999;0;\"nonexistent\";1.1;93.994;-36.4;4.856;5191;\"no\"',\n",
              " '42;\"admin.\";\"single\";\"unknown\";\"unknown\";\"no\";\"no\";\"telephone\";\"may\";\"wed\";126;1;999;0;\"nonexistent\";1.1;93.994;-36.4;4.856;5191;\"no\"',\n",
              " '46;\"admin.\";\"divorced\";\"university.degree\";\"no\";\"yes\";\"no\";\"telephone\";\"may\";\"wed\";184;2;999;0;\"nonexistent\";1.1;93.994;-36.4;4.856;5191;\"no\"',\n",
              " '37;\"blue-collar\";\"single\";\"basic.9y\";\"unknown\";\"yes\";\"no\";\"telephone\";\"may\";\"wed\";591;1;999;0;\"nonexistent\";1.1;93.994;-36.4;4.856;5191;\"yes\"',\n",
              " '40;\"blue-collar\";\"married\";\"high.school\";\"no\";\"yes\";\"no\";\"telephone\";\"may\";\"wed\";294;1;999;0;\"nonexistent\";1.1;93.994;-36.4;4.856;5191;\"no\"',\n",
              " '40;\"blue-collar\";\"married\";\"high.school\";\"no\";\"yes\";\"no\";\"telephone\";\"may\";\"wed\";285;1;999;0;\"nonexistent\";1.1;93.994;-36.4;4.856;5191;\"no\"',\n",
              " '59;\"entrepreneur\";\"divorced\";\"high.school\";\"unknown\";\"yes\";\"no\";\"telephone\";\"may\";\"wed\";173;1;999;0;\"nonexistent\";1.1;93.994;-36.4;4.856;5191;\"no\"',\n",
              " '43;\"technician\";\"single\";\"university.degree\";\"no\";\"no\";\"no\";\"telephone\";\"may\";\"wed\";336;1;999;0;\"nonexistent\";1.1;93.994;-36.4;4.856;5191;\"no\"',\n",
              " '44;\"blue-collar\";\"married\";\"basic.6y\";\"no\";\"yes\";\"yes\";\"telephone\";\"may\";\"wed\";344;1;999;0;\"nonexistent\";1.1;93.994;-36.4;4.856;5191;\"no\"',\n",
              " '44;\"blue-collar\";\"married\";\"basic.4y\";\"no\";\"yes\";\"no\";\"telephone\";\"may\";\"wed\";786;1;999;0;\"nonexistent\";1.1;93.994;-36.4;4.856;5191;\"yes\"',\n",
              " '41;\"admin.\";\"married\";\"university.degree\";\"no\";\"yes\";\"no\";\"telephone\";\"may\";\"wed\";153;1;999;0;\"nonexistent\";1.1;93.994;-36.4;4.856;5191;\"no\"',\n",
              " '28;\"unknown\";\"single\";\"basic.9y\";\"unknown\";\"yes\";\"no\";\"telephone\";\"may\";\"wed\";99;2;999;0;\"nonexistent\";1.1;93.994;-36.4;4.856;5191;\"no\"',\n",
              " '48;\"services\";\"married\";\"high.school\";\"unknown\";\"yes\";\"no\";\"telephone\";\"may\";\"wed\";243;1;999;0;\"nonexistent\";1.1;93.994;-36.4;4.856;5191;\"no\"',\n",
              " '31;\"admin.\";\"single\";\"high.school\";\"no\";\"yes\";\"no\";\"telephone\";\"may\";\"wed\";260;1;999;0;\"nonexistent\";1.1;93.994;-36.4;4.856;5191;\"no\"',\n",
              " '27;\"blue-collar\";\"married\";\"basic.9y\";\"no\";\"yes\";\"no\";\"telephone\";\"may\";\"wed\";164;2;999;0;\"nonexistent\";1.1;93.994;-36.4;4.856;5191;\"no\"',\n",
              " '43;\"technician\";\"single\";\"university.degree\";\"no\";\"yes\";\"no\";\"telephone\";\"may\";\"wed\";255;2;999;0;\"nonexistent\";1.1;93.994;-36.4;4.856;5191;\"no\"',\n",
              " '47;\"retired\";\"married\";\"basic.4y\";\"unknown\";\"yes\";\"no\";\"telephone\";\"may\";\"wed\";47;1;999;0;\"nonexistent\";1.1;93.994;-36.4;4.856;5191;\"no\"',\n",
              " '40;\"blue-collar\";\"divorced\";\"unknown\";\"no\";\"yes\";\"no\";\"telephone\";\"may\";\"wed\";110;2;999;0;\"nonexistent\";1.1;93.994;-36.4;4.856;5191;\"no\"',\n",
              " '43;\"unknown\";\"married\";\"high.school\";\"unknown\";\"no\";\"no\";\"telephone\";\"may\";\"wed\";463;1;999;0;\"nonexistent\";1.1;93.994;-36.4;4.856;5191;\"no\"',\n",
              " '29;\"technician\";\"married\";\"professional.course\";\"no\";\"yes\";\"no\";\"telephone\";\"may\";\"wed\";192;1;999;0;\"nonexistent\";1.1;93.994;-36.4;4.856;5191;\"no\"',\n",
              " '54;\"admin.\";\"married\";\"university.degree\";\"no\";\"no\";\"no\";\"telephone\";\"may\";\"wed\";388;7;999;0;\"nonexistent\";1.1;93.994;-36.4;4.856;5191;\"no\"',\n",
              " '36;\"technician\";\"married\";\"professional.course\";\"no\";\"no\";\"no\";\"telephone\";\"may\";\"wed\";221;1;999;0;\"nonexistent\";1.1;93.994;-36.4;4.856;5191;\"no\"',\n",
              " '30;\"admin.\";\"single\";\"university.degree\";\"no\";\"no\";\"no\";\"telephone\";\"may\";\"wed\";25;1;999;0;\"nonexistent\";1.1;93.994;-36.4;4.856;5191;\"no\"',\n",
              " '38;\"services\";\"single\";\"unknown\";\"unknown\";\"yes\";\"no\";\"telephone\";\"may\";\"wed\";256;6;999;0;\"nonexistent\";1.1;93.994;-36.4;4.856;5191;\"no\"',\n",
              " '39;\"blue-collar\";\"married\";\"basic.6y\";\"no\";\"no\";\"no\";\"telephone\";\"may\";\"wed\";104;1;999;0;\"nonexistent\";1.1;93.994;-36.4;4.856;5191;\"no\"',\n",
              " '33;\"blue-collar\";\"married\";\"basic.9y\";\"no\";\"no\";\"no\";\"telephone\";\"may\";\"wed\";283;2;999;0;\"nonexistent\";1.1;93.994;-36.4;4.856;5191;\"no\"',\n",
              " '39;\"retired\";\"single\";\"high.school\";\"no\";\"yes\";\"no\";\"telephone\";\"may\";\"wed\";448;1;999;0;\"nonexistent\";1.1;93.994;-36.4;4.856;5191;\"no\"',\n",
              " '38;\"technician\";\"single\";\"professional.course\";\"no\";\"no\";\"no\";\"telephone\";\"may\";\"wed\";127;1;999;0;\"nonexistent\";1.1;93.994;-36.4;4.856;5191;\"no\"',\n",
              " '44;\"admin.\";\"married\";\"high.school\";\"no\";\"yes\";\"no\";\"telephone\";\"may\";\"wed\";378;1;999;0;\"nonexistent\";1.1;93.994;-36.4;4.856;5191;\"no\"',\n",
              " '33;\"blue-collar\";\"married\";\"basic.9y\";\"no\";\"yes\";\"no\";\"telephone\";\"may\";\"wed\";67;1;999;0;\"nonexistent\";1.1;93.994;-36.4;4.856;5191;\"no\"',\n",
              " '37;\"blue-collar\";\"married\";\"basic.6y\";\"no\";\"no\";\"no\";\"telephone\";\"may\";\"wed\";221;2;999;0;\"nonexistent\";1.1;93.994;-36.4;4.856;5191;\"no\"',\n",
              " '32;\"management\";\"married\";\"basic.6y\";\"no\";\"no\";\"no\";\"telephone\";\"may\";\"wed\";150;1;999;0;\"nonexistent\";1.1;93.994;-36.4;4.856;5191;\"no\"',\n",
              " '46;\"technician\";\"married\";\"professional.course\";\"no\";\"yes\";\"no\";\"telephone\";\"may\";\"wed\";144;2;999;0;\"nonexistent\";1.1;93.994;-36.4;4.856;5191;\"no\"',\n",
              " '34;\"technician\";\"divorced\";\"professional.course\";\"no\";\"yes\";\"no\";\"telephone\";\"may\";\"wed\";296;2;999;0;\"nonexistent\";1.1;93.994;-36.4;4.856;5191;\"no\"',\n",
              " '52;\"technician\";\"married\";\"basic.4y\";\"unknown\";\"no\";\"no\";\"telephone\";\"may\";\"wed\";161;1;999;0;\"nonexistent\";1.1;93.994;-36.4;4.856;5191;\"no\"',\n",
              " '46;\"blue-collar\";\"married\";\"basic.6y\";\"unknown\";\"no\";\"no\";\"telephone\";\"may\";\"wed\";401;2;999;0;\"nonexistent\";1.1;93.994;-36.4;4.856;5191;\"no\"',\n",
              " '57;\"management\";\"divorced\";\"university.degree\";\"no\";\"unknown\";\"unknown\";\"telephone\";\"may\";\"wed\";435;2;999;0;\"nonexistent\";1.1;93.994;-36.4;4.856;5191;\"no\"',\n",
              " '52;\"technician\";\"married\";\"basic.4y\";\"unknown\";\"no\";\"yes\";\"telephone\";\"may\";\"wed\";388;1;999;0;\"nonexistent\";1.1;93.994;-36.4;4.856;5191;\"no\"',\n",
              " '32;\"technician\";\"single\";\"professional.course\";\"no\";\"no\";\"no\";\"telephone\";\"may\";\"wed\";245;1;999;0;\"nonexistent\";1.1;93.994;-36.4;4.856;5191;\"no\"',\n",
              " '31;\"blue-collar\";\"single\";\"basic.9y\";\"no\";\"no\";\"no\";\"telephone\";\"may\";\"wed\";143;1;999;0;\"nonexistent\";1.1;93.994;-36.4;4.856;5191;\"no\"',\n",
              " '46;\"admin.\";\"divorced\";\"basic.9y\";\"unknown\";\"no\";\"no\";\"telephone\";\"may\";\"wed\";423;1;999;0;\"nonexistent\";1.1;93.994;-36.4;4.856;5191;\"no\"',\n",
              " '59;\"services\";\"divorced\";\"high.school\";\"no\";\"no\";\"no\";\"telephone\";\"may\";\"wed\";231;1;999;0;\"nonexistent\";1.1;93.994;-36.4;4.856;5191;\"no\"',\n",
              " '38;\"blue-collar\";\"married\";\"unknown\";\"unknown\";\"no\";\"yes\";\"telephone\";\"may\";\"wed\";181;1;999;0;\"nonexistent\";1.1;93.994;-36.4;4.856;5191;\"no\"',\n",
              " '42;\"blue-collar\";\"divorced\";\"basic.6y\";\"unknown\";\"yes\";\"no\";\"telephone\";\"may\";\"wed\";107;1;999;0;\"nonexistent\";1.1;93.994;-36.4;4.856;5191;\"no\"',\n",
              " '40;\"blue-collar\";\"married\";\"basic.4y\";\"no\";\"no\";\"no\";\"telephone\";\"may\";\"wed\";227;1;999;0;\"nonexistent\";1.1;93.994;-36.4;4.856;5191;\"no\"',\n",
              " '46;\"admin.\";\"married\";\"professional.course\";\"no\";\"no\";\"no\";\"telephone\";\"may\";\"wed\";69;1;999;0;\"nonexistent\";1.1;93.994;-36.4;4.856;5191;\"no\"',\n",
              " '35;\"admin.\";\"single\";\"high.school\";\"no\";\"no\";\"no\";\"telephone\";\"may\";\"wed\";799;1;999;0;\"nonexistent\";1.1;93.994;-36.4;4.856;5191;\"no\"',\n",
              " '28;\"blue-collar\";\"married\";\"basic.9y\";\"no\";\"no\";\"yes\";\"telephone\";\"may\";\"wed\";109;1;999;0;\"nonexistent\";1.1;93.994;-36.4;4.856;5191;\"no\"',\n",
              " '47;\"services\";\"married\";\"high.school\";\"unknown\";\"yes\";\"no\";\"telephone\";\"may\";\"wed\";127;1;999;0;\"nonexistent\";1.1;93.994;-36.4;4.856;5191;\"no\"',\n",
              " '35;\"blue-collar\";\"married\";\"basic.4y\";\"no\";\"yes\";\"no\";\"telephone\";\"may\";\"wed\";45;1;999;0;\"nonexistent\";1.1;93.994;-36.4;4.856;5191;\"no\"',\n",
              " '48;\"retired\";\"married\";\"basic.9y\";\"no\";\"yes\";\"no\";\"telephone\";\"may\";\"wed\";120;1;999;0;\"nonexistent\";1.1;93.994;-36.4;4.856;5191;\"no\"',\n",
              " '40;\"blue-collar\";\"married\";\"basic.6y\";\"unknown\";\"yes\";\"no\";\"telephone\";\"may\";\"wed\";68;3;999;0;\"nonexistent\";1.1;93.994;-36.4;4.856;5191;\"no\"',\n",
              " '32;\"services\";\"single\";\"high.school\";\"no\";\"yes\";\"no\";\"telephone\";\"may\";\"wed\";180;2;999;0;\"nonexistent\";1.1;93.994;-36.4;4.856;5191;\"no\"',\n",
              " '59;\"retired\";\"divorced\";\"basic.4y\";\"no\";\"yes\";\"no\";\"telephone\";\"may\";\"wed\";112;3;999;0;\"nonexistent\";1.1;93.994;-36.4;4.856;5191;\"no\"',\n",
              " '48;\"entrepreneur\";\"married\";\"basic.9y\";\"unknown\";\"no\";\"no\";\"telephone\";\"may\";\"wed\";444;1;999;0;\"nonexistent\";1.1;93.994;-36.4;4.856;5191;\"no\"',\n",
              " '45;\"blue-collar\";\"married\";\"basic.9y\";\"unknown\";\"yes\";\"no\";\"telephone\";\"may\";\"wed\";246;2;999;0;\"nonexistent\";1.1;93.994;-36.4;4.856;5191;\"no\"',\n",
              " '49;\"blue-collar\";\"single\";\"basic.6y\";\"no\";\"yes\";\"no\";\"telephone\";\"may\";\"wed\";148;4;999;0;\"nonexistent\";1.1;93.994;-36.4;4.856;5191;\"no\"',\n",
              " '51;\"admin.\";\"married\";\"university.degree\";\"no\";\"yes\";\"no\";\"telephone\";\"may\";\"wed\";223;3;999;0;\"nonexistent\";1.1;93.994;-36.4;4.856;5191;\"no\"',\n",
              " '38;\"technician\";\"single\";\"university.degree\";\"no\";\"yes\";\"no\";\"telephone\";\"may\";\"wed\";566;2;999;0;\"nonexistent\";1.1;93.994;-36.4;4.856;5191;\"no\"',\n",
              " '53;\"technician\";\"married\";\"high.school\";\"no\";\"yes\";\"no\";\"telephone\";\"may\";\"wed\";274;2;999;0;\"nonexistent\";1.1;93.994;-36.4;4.856;5191;\"no\"',\n",
              " '49;\"blue-collar\";\"married\";\"basic.9y\";\"no\";\"yes\";\"no\";\"telephone\";\"may\";\"wed\";49;3;999;0;\"nonexistent\";1.1;93.994;-36.4;4.856;5191;\"no\"',\n",
              " '31;\"blue-collar\";\"married\";\"basic.9y\";\"no\";\"yes\";\"yes\";\"telephone\";\"may\";\"wed\";97;2;999;0;\"nonexistent\";1.1;93.994;-36.4;4.856;5191;\"no\"',\n",
              " '36;\"services\";\"married\";\"high.school\";\"unknown\";\"yes\";\"no\";\"telephone\";\"may\";\"wed\";376;2;999;0;\"nonexistent\";1.1;93.994;-36.4;4.856;5191;\"no\"',\n",
              " '54;\"retired\";\"married\";\"basic.4y\";\"unknown\";\"yes\";\"no\";\"telephone\";\"may\";\"wed\";421;2;999;0;\"nonexistent\";1.1;93.994;-36.4;4.856;5191;\"no\"',\n",
              " '29;\"admin.\";\"single\";\"high.school\";\"no\";\"yes\";\"no\";\"telephone\";\"may\";\"wed\";511;2;999;0;\"nonexistent\";1.1;93.994;-36.4;4.856;5191;\"no\"',\n",
              " '31;\"blue-collar\";\"married\";\"basic.6y\";\"unknown\";\"yes\";\"no\";\"telephone\";\"may\";\"wed\";121;2;999;0;\"nonexistent\";1.1;93.994;-36.4;4.856;5191;\"no\"',\n",
              " '35;\"admin.\";\"married\";\"high.school\";\"no\";\"yes\";\"no\";\"telephone\";\"may\";\"wed\";157;2;999;0;\"nonexistent\";1.1;93.994;-36.4;4.856;5191;\"no\"',\n",
              " '38;\"blue-collar\";\"married\";\"basic.9y\";\"no\";\"no\";\"no\";\"telephone\";\"may\";\"wed\";101;1;999;0;\"nonexistent\";1.1;93.994;-36.4;4.856;5191;\"no\"',\n",
              " '54;\"management\";\"married\";\"high.school\";\"unknown\";\"yes\";\"yes\";\"telephone\";\"may\";\"wed\";328;2;999;0;\"nonexistent\";1.1;93.994;-36.4;4.856;5191;\"no\"',\n",
              " '48;\"admin.\";\"married\";\"basic.9y\";\"unknown\";\"no\";\"no\";\"telephone\";\"may\";\"wed\";19;1;999;0;\"nonexistent\";1.1;93.994;-36.4;4.856;5191;\"no\"',\n",
              " '48;\"management\";\"divorced\";\"university.degree\";\"no\";\"yes\";\"no\";\"telephone\";\"may\";\"wed\";866;2;999;0;\"nonexistent\";1.1;93.994;-36.4;4.856;5191;\"no\"',\n",
              " '32;\"admin.\";\"single\";\"university.degree\";\"unknown\";\"yes\";\"no\";\"telephone\";\"may\";\"wed\";229;3;999;0;\"nonexistent\";1.1;93.994;-36.4;4.856;5191;\"no\"',\n",
              " '34;\"technician\";\"married\";\"professional.course\";\"unknown\";\"yes\";\"no\";\"telephone\";\"may\";\"wed\";154;2;999;0;\"nonexistent\";1.1;93.994;-36.4;4.856;5191;\"no\"',\n",
              " '49;\"technician\";\"single\";\"university.degree\";\"unknown\";\"yes\";\"no\";\"telephone\";\"may\";\"wed\";56;1;999;0;\"nonexistent\";1.1;93.994;-36.4;4.856;5191;\"no\"',\n",
              " '44;\"blue-collar\";\"married\";\"basic.9y\";\"unknown\";\"unknown\";\"unknown\";\"telephone\";\"may\";\"wed\";199;1;999;0;\"nonexistent\";1.1;93.994;-36.4;4.856;5191;\"no\"',\n",
              " '42;\"services\";\"divorced\";\"high.school\";\"unknown\";\"no\";\"no\";\"telephone\";\"may\";\"wed\";117;1;999;0;\"nonexistent\";1.1;93.994;-36.4;4.856;5191;\"no\"',\n",
              " '55;\"blue-collar\";\"married\";\"basic.4y\";\"unknown\";\"no\";\"no\";\"telephone\";\"may\";\"wed\";1581;2;999;0;\"nonexistent\";1.1;93.994;-36.4;4.856;5191;\"no\"',\n",
              " '42;\"services\";\"divorced\";\"high.school\";\"unknown\";\"no\";\"no\";\"telephone\";\"may\";\"wed\";185;1;999;0;\"nonexistent\";1.1;93.994;-36.4;4.856;5191;\"no\"',\n",
              " '44;\"admin.\";\"married\";\"university.degree\";\"unknown\";\"no\";\"no\";\"telephone\";\"may\";\"wed\";202;1;999;0;\"nonexistent\";1.1;93.994;-36.4;4.856;5191;\"no\"',\n",
              " '51;\"blue-collar\";\"married\";\"basic.9y\";\"no\";\"no\";\"no\";\"telephone\";\"may\";\"wed\";279;1;999;0;\"nonexistent\";1.1;93.994;-36.4;4.856;5191;\"no\"',\n",
              " '43;\"blue-collar\";\"married\";\"basic.4y\";\"unknown\";\"yes\";\"no\";\"telephone\";\"may\";\"wed\";180;5;999;0;\"nonexistent\";1.1;93.994;-36.4;4.856;5191;\"no\"',\n",
              " '52;\"technician\";\"married\";\"high.school\";\"no\";\"yes\";\"no\";\"telephone\";\"may\";\"wed\";530;2;999;0;\"nonexistent\";1.1;93.994;-36.4;4.856;5191;\"no\"',\n",
              " '45;\"blue-collar\";\"single\";\"basic.6y\";\"no\";\"yes\";\"no\";\"telephone\";\"may\";\"wed\";129;5;999;0;\"nonexistent\";1.1;93.994;-36.4;4.856;5191;\"no\"',\n",
              " '41;\"services\";\"divorced\";\"high.school\";\"no\";\"yes\";\"yes\";\"telephone\";\"may\";\"wed\";60;1;999;0;\"nonexistent\";1.1;93.994;-36.4;4.856;5191;\"no\"',\n",
              " '35;\"technician\";\"divorced\";\"unknown\";\"no\";\"yes\";\"yes\";\"telephone\";\"may\";\"wed\";432;1;999;0;\"nonexistent\";1.1;93.994;-36.4;4.856;5191;\"no\"',\n",
              " '41;\"services\";\"divorced\";\"high.school\";\"no\";\"no\";\"yes\";\"telephone\";\"may\";\"wed\";516;1;999;0;\"nonexistent\";1.1;93.994;-36.4;4.856;5191;\"no\"',\n",
              " '46;\"management\";\"married\";\"basic.9y\";\"no\";\"no\";\"no\";\"telephone\";\"may\";\"wed\";617;1;999;0;\"nonexistent\";1.1;93.994;-36.4;4.856;5191;\"no\"',\n",
              " '36;\"housemaid\";\"divorced\";\"basic.9y\";\"unknown\";\"no\";\"no\";\"telephone\";\"may\";\"wed\";179;2;999;0;\"nonexistent\";1.1;93.994;-36.4;4.856;5191;\"no\"',\n",
              " '29;\"technician\";\"married\";\"professional.course\";\"no\";\"no\";\"no\";\"telephone\";\"may\";\"wed\";125;2;999;0;\"nonexistent\";1.1;93.994;-36.4;4.856;5191;\"no\"',\n",
              " '47;\"services\";\"married\";\"unknown\";\"no\";\"no\";\"no\";\"telephone\";\"may\";\"wed\";262;2;999;0;\"nonexistent\";1.1;93.994;-36.4;4.856;5191;\"no\"',\n",
              " '43;\"blue-collar\";\"married\";\"basic.4y\";\"unknown\";\"yes\";\"no\";\"telephone\";\"may\";\"wed\";396;2;999;0;\"nonexistent\";1.1;93.994;-36.4;4.856;5191;\"no\"',\n",
              " '38;\"blue-collar\";\"single\";\"basic.9y\";\"unknown\";\"no\";\"no\";\"telephone\";\"may\";\"wed\";294;2;999;0;\"nonexistent\";1.1;93.994;-36.4;4.856;5191;\"no\"',\n",
              " '44;\"blue-collar\";\"married\";\"basic.4y\";\"no\";\"yes\";\"no\";\"telephone\";\"may\";\"wed\";171;2;999;0;\"nonexistent\";1.1;93.994;-36.4;4.856;5191;\"no\"',\n",
              " '29;\"services\";\"married\";\"high.school\";\"no\";\"no\";\"no\";\"telephone\";\"may\";\"wed\";614;2;999;0;\"nonexistent\";1.1;93.994;-36.4;4.856;5191;\"no\"',\n",
              " '58;\"unknown\";\"married\";\"unknown\";\"unknown\";\"no\";\"no\";\"telephone\";\"may\";\"wed\";118;3;999;0;\"nonexistent\";1.1;93.994;-36.4;4.856;5191;\"no\"',\n",
              " '48;\"blue-collar\";\"married\";\"professional.course\";\"no\";\"no\";\"yes\";\"telephone\";\"may\";\"wed\";485;4;999;0;\"nonexistent\";1.1;93.994;-36.4;4.856;5191;\"no\"',\n",
              " '46;\"blue-collar\";\"married\";\"basic.9y\";\"unknown\";\"no\";\"no\";\"telephone\";\"may\";\"wed\";406;2;999;0;\"nonexistent\";1.1;93.994;-36.4;4.856;5191;\"no\"',\n",
              " '31;\"blue-collar\";\"married\";\"basic.4y\";\"no\";\"yes\";\"no\";\"telephone\";\"may\";\"wed\";287;1;999;0;\"nonexistent\";1.1;93.994;-36.4;4.856;5191;\"no\"',\n",
              " '47;\"services\";\"married\";\"unknown\";\"no\";\"no\";\"no\";\"telephone\";\"may\";\"wed\";216;2;999;0;\"nonexistent\";1.1;93.994;-36.4;4.856;5191;\"no\"',\n",
              " '44;\"admin.\";\"married\";\"university.degree\";\"no\";\"yes\";\"no\";\"telephone\";\"may\";\"wed\";37;2;999;0;\"nonexistent\";1.1;93.994;-36.4;4.856;5191;\"no\"',\n",
              " '31;\"blue-collar\";\"married\";\"basic.4y\";\"no\";\"yes\";\"no\";\"telephone\";\"may\";\"wed\";650;1;999;0;\"nonexistent\";1.1;93.994;-36.4;4.856;5191;\"no\"',\n",
              " '38;\"unemployed\";\"divorced\";\"professional.course\";\"no\";\"no\";\"no\";\"telephone\";\"may\";\"wed\";590;3;999;0;\"nonexistent\";1.1;93.994;-36.4;4.856;5191;\"no\"',\n",
              " '33;\"admin.\";\"married\";\"university.degree\";\"no\";\"no\";\"no\";\"telephone\";\"may\";\"wed\";55;1;999;0;\"nonexistent\";1.1;93.994;-36.4;4.856;5191;\"no\"',\n",
              " '53;\"blue-collar\";\"married\";\"basic.9y\";\"no\";\"yes\";\"no\";\"telephone\";\"may\";\"wed\";166;1;999;0;\"nonexistent\";1.1;93.994;-36.4;4.856;5191;\"no\"',\n",
              " '33;\"management\";\"single\";\"unknown\";\"no\";\"yes\";\"no\";\"telephone\";\"may\";\"wed\";371;2;999;0;\"nonexistent\";1.1;93.994;-36.4;4.856;5191;\"no\"',\n",
              " '33;\"self-employed\";\"married\";\"basic.9y\";\"no\";\"yes\";\"no\";\"telephone\";\"may\";\"wed\";48;1;999;0;\"nonexistent\";1.1;93.994;-36.4;4.856;5191;\"no\"',\n",
              " '37;\"admin.\";\"divorced\";\"university.degree\";\"no\";\"yes\";\"no\";\"telephone\";\"may\";\"wed\";72;1;999;0;\"nonexistent\";1.1;93.994;-36.4;4.856;5191;\"no\"',\n",
              " '55;\"blue-collar\";\"married\";\"basic.9y\";\"no\";\"yes\";\"no\";\"telephone\";\"may\";\"wed\";55;1;999;0;\"nonexistent\";1.1;93.994;-36.4;4.856;5191;\"no\"',\n",
              " '41;\"admin.\";\"single\";\"basic.6y\";\"no\";\"unknown\";\"unknown\";\"telephone\";\"may\";\"wed\";92;1;999;0;\"nonexistent\";1.1;93.994;-36.4;4.856;5191;\"no\"',\n",
              " '46;\"blue-collar\";\"married\";\"basic.6y\";\"unknown\";\"yes\";\"no\";\"telephone\";\"may\";\"wed\";196;2;999;0;\"nonexistent\";1.1;93.994;-36.4;4.856;5191;\"no\"',\n",
              " '32;\"entrepreneur\";\"divorced\";\"university.degree\";\"no\";\"no\";\"no\";\"telephone\";\"may\";\"wed\";96;1;999;0;\"nonexistent\";1.1;93.994;-36.4;4.856;5191;\"no\"',\n",
              " '48;\"blue-collar\";\"married\";\"high.school\";\"no\";\"no\";\"no\";\"telephone\";\"may\";\"wed\";144;1;999;0;\"nonexistent\";1.1;93.994;-36.4;4.856;5191;\"no\"',\n",
              " '34;\"entrepreneur\";\"married\";\"basic.4y\";\"no\";\"yes\";\"no\";\"telephone\";\"may\";\"wed\";474;1;999;0;\"nonexistent\";1.1;93.994;-36.4;4.856;5191;\"no\"',\n",
              " '35;\"admin.\";\"single\";\"university.degree\";\"no\";\"no\";\"no\";\"telephone\";\"may\";\"wed\";559;1;999;0;\"nonexistent\";1.1;93.994;-36.4;4.856;5191;\"no\"',\n",
              " '55;\"blue-collar\";\"married\";\"basic.4y\";\"no\";\"yes\";\"yes\";\"telephone\";\"may\";\"wed\";1101;1;999;0;\"nonexistent\";1.1;93.994;-36.4;4.856;5191;\"no\"',\n",
              " '45;\"entrepreneur\";\"single\";\"university.degree\";\"no\";\"unknown\";\"unknown\";\"telephone\";\"may\";\"wed\";229;3;999;0;\"nonexistent\";1.1;93.994;-36.4;4.856;5191;\"no\"',\n",
              " '48;\"management\";\"divorced\";\"university.degree\";\"no\";\"no\";\"no\";\"telephone\";\"may\";\"wed\";236;2;999;0;\"nonexistent\";1.1;93.994;-36.4;4.856;5191;\"no\"',\n",
              " '34;\"blue-collar\";\"married\";\"basic.6y\";\"no\";\"yes\";\"no\";\"telephone\";\"may\";\"wed\";164;1;999;0;\"nonexistent\";1.1;93.994;-36.4;4.856;5191;\"no\"',\n",
              " '46;\"admin.\";\"divorced\";\"university.degree\";\"unknown\";\"no\";\"no\";\"telephone\";\"may\";\"wed\";93;1;999;0;\"nonexistent\";1.1;93.994;-36.4;4.856;5191;\"no\"',\n",
              " '34;\"blue-collar\";\"married\";\"basic.6y\";\"no\";\"yes\";\"no\";\"telephone\";\"may\";\"wed\";123;1;999;0;\"nonexistent\";1.1;93.994;-36.4;4.856;5191;\"no\"',\n",
              " '51;\"unemployed\";\"married\";\"professional.course\";\"unknown\";\"no\";\"no\";\"telephone\";\"may\";\"wed\";912;2;999;0;\"nonexistent\";1.1;93.994;-36.4;4.856;5191;\"no\"',\n",
              " '37;\"admin.\";\"married\";\"university.degree\";\"no\";\"no\";\"no\";\"telephone\";\"may\";\"wed\";209;2;999;0;\"nonexistent\";1.1;93.994;-36.4;4.856;5191;\"no\"',\n",
              " '54;\"housemaid\";\"divorced\";\"basic.4y\";\"no\";\"no\";\"no\";\"telephone\";\"may\";\"wed\";485;1;999;0;\"nonexistent\";1.1;93.994;-36.4;4.856;5191;\"no\"',\n",
              " '45;\"services\";\"married\";\"high.school\";\"unknown\";\"yes\";\"no\";\"telephone\";\"may\";\"wed\";206;2;999;0;\"nonexistent\";1.1;93.994;-36.4;4.856;5191;\"no\"',\n",
              " '39;\"services\";\"single\";\"high.school\";\"no\";\"unknown\";\"unknown\";\"telephone\";\"may\";\"wed\";239;2;999;0;\"nonexistent\";1.1;93.994;-36.4;4.856;5191;\"no\"',\n",
              " '39;\"blue-collar\";\"married\";\"basic.9y\";\"no\";\"no\";\"no\";\"telephone\";\"may\";\"wed\";311;1;999;0;\"nonexistent\";1.1;93.994;-36.4;4.856;5191;\"no\"',\n",
              " '39;\"technician\";\"single\";\"basic.6y\";\"unknown\";\"no\";\"no\";\"telephone\";\"may\";\"wed\";362;1;999;0;\"nonexistent\";1.1;93.994;-36.4;4.856;5191;\"no\"',\n",
              " '39;\"services\";\"married\";\"basic.9y\";\"no\";\"no\";\"no\";\"telephone\";\"may\";\"wed\";274;1;999;0;\"nonexistent\";1.1;93.994;-36.4;4.856;5191;\"no\"',\n",
              " '32;\"entrepreneur\";\"married\";\"basic.6y\";\"no\";\"yes\";\"no\";\"telephone\";\"may\";\"wed\";163;1;999;0;\"nonexistent\";1.1;93.994;-36.4;4.856;5191;\"no\"',\n",
              " '41;\"services\";\"single\";\"high.school\";\"no\";\"yes\";\"yes\";\"telephone\";\"may\";\"wed\";345;1;999;0;\"nonexistent\";1.1;93.994;-36.4;4.856;5191;\"no\"',\n",
              " '59;\"housemaid\";\"married\";\"basic.6y\";\"no\";\"yes\";\"no\";\"telephone\";\"may\";\"wed\";329;1;999;0;\"nonexistent\";1.1;93.994;-36.4;4.856;5191;\"no\"',\n",
              " '57;\"technician\";\"married\";\"basic.9y\";\"no\";\"yes\";\"no\";\"telephone\";\"may\";\"wed\";68;1;999;0;\"nonexistent\";1.1;93.994;-36.4;4.856;5191;\"no\"',\n",
              " ...]"
            ]
          },
          "metadata": {
            "tags": []
          },
          "execution_count": 6
        }
      ]
    },
    {
      "cell_type": "markdown",
      "metadata": {
        "id": "zGqyjwhmPPHf"
      },
      "source": [
        "## Schema"
      ]
    },
    {
      "cell_type": "markdown",
      "metadata": {
        "id": "a5uM4wuPPd-n"
      },
      "source": [
        "RDD are less schema"
      ]
    },
    {
      "cell_type": "code",
      "metadata": {
        "colab": {
          "base_uri": "https://localhost:8080/"
        },
        "id": "kQ6rniiTPOJd",
        "outputId": "e8929ed3-83d2-4a5c-af95-e9e8bff4e731"
      },
      "source": [
        "data_heterogenous = sc.parallelize([('Ferrari', 'fast'), {'Porsche': 100000}, ['Spain','visited', 4504]])\n",
        "\n",
        "data_heterogenous.collect()"
      ],
      "execution_count": null,
      "outputs": [
        {
          "output_type": "execute_result",
          "data": {
            "text/plain": [
              "[('Ferrari', 'fast'), {'Porsche': 100000}, ['Spain', 'visited', 4504]]"
            ]
          },
          "metadata": {
            "tags": []
          },
          "execution_count": 11
        }
      ]
    },
    {
      "cell_type": "markdown",
      "metadata": {
        "id": "r-3jJYQeQNov"
      },
      "source": [
        "## Reading from files"
      ]
    },
    {
      "cell_type": "markdown",
      "metadata": {
        "id": "81IrE7wtQ2YS"
      },
      "source": [
        "### take(n)"
      ]
    },
    {
      "cell_type": "markdown",
      "metadata": {
        "id": "NVveR-OYQIOW"
      },
      "source": [
        "fungsi take() digunakan untuk melihat beberapa row dalam  data, misal take(5) akan mengambil lima data teratas dari file"
      ]
    },
    {
      "cell_type": "code",
      "metadata": {
        "colab": {
          "base_uri": "https://localhost:8080/"
        },
        "id": "uzjOg8IQQH8y",
        "outputId": "148dad62-0e7f-4368-d7da-a827011a7ccd"
      },
      "source": [
        "df_bank.take(5)"
      ],
      "execution_count": null,
      "outputs": [
        {
          "output_type": "execute_result",
          "data": {
            "text/plain": [
              "['\"age\";\"job\";\"marital\";\"education\";\"default\";\"housing\";\"loan\";\"contact\";\"month\";\"day_of_week\";\"duration\";\"campaign\";\"pdays\";\"previous\";\"poutcome\";\"emp.var.rate\";\"cons.price.idx\";\"cons.conf.idx\";\"euribor3m\";\"nr.employed\";\"y\"',\n",
              " '56;\"housemaid\";\"married\";\"basic.4y\";\"no\";\"no\";\"no\";\"telephone\";\"may\";\"mon\";261;1;999;0;\"nonexistent\";1.1;93.994;-36.4;4.857;5191;\"no\"',\n",
              " '57;\"services\";\"married\";\"high.school\";\"unknown\";\"no\";\"no\";\"telephone\";\"may\";\"mon\";149;1;999;0;\"nonexistent\";1.1;93.994;-36.4;4.857;5191;\"no\"',\n",
              " '37;\"services\";\"married\";\"high.school\";\"no\";\"yes\";\"no\";\"telephone\";\"may\";\"mon\";226;1;999;0;\"nonexistent\";1.1;93.994;-36.4;4.857;5191;\"no\"',\n",
              " '40;\"admin.\";\"married\";\"basic.6y\";\"no\";\"no\";\"no\";\"telephone\";\"may\";\"mon\";151;1;999;0;\"nonexistent\";1.1;93.994;-36.4;4.857;5191;\"no\"']"
            ]
          },
          "metadata": {
            "tags": []
          },
          "execution_count": 12
        }
      ]
    },
    {
      "cell_type": "markdown",
      "metadata": {
        "id": "gOxPMqBnQ4_U"
      },
      "source": [
        "### type"
      ]
    },
    {
      "cell_type": "markdown",
      "metadata": {
        "id": "Mevc3k6ARBUj"
      },
      "source": [
        "untuk mengivestigasi tipe data RDD kita bisa menggunakan fungsi type"
      ]
    },
    {
      "cell_type": "code",
      "metadata": {
        "colab": {
          "base_uri": "https://localhost:8080/"
        },
        "id": "ILbOVoW_Q67Q",
        "outputId": "74fbddd1-e8ed-4ca8-9b12-2b88b363ed97"
      },
      "source": [
        "type(df_bank)"
      ],
      "execution_count": null,
      "outputs": [
        {
          "output_type": "execute_result",
          "data": {
            "text/plain": [
              "pyspark.rdd.RDD"
            ]
          },
          "metadata": {
            "tags": []
          },
          "execution_count": 13
        }
      ]
    },
    {
      "cell_type": "markdown",
      "metadata": {
        "id": "VHJ1hDJ0SNEn"
      },
      "source": [
        "## Transformation"
      ]
    },
    {
      "cell_type": "markdown",
      "metadata": {
        "id": "XmecgzQ6SPZu"
      },
      "source": [
        "### lambda"
      ]
    },
    {
      "cell_type": "markdown",
      "metadata": {
        "id": "MLYG967hRFp5"
      },
      "source": [
        ""
      ]
    },
    {
      "cell_type": "code",
      "metadata": {
        "colab": {
          "base_uri": "https://localhost:8080/"
        },
        "id": "o6kM9wesWue9",
        "outputId": "d42f9f1b-7836-4c3a-c997-a0f7eef6ee05"
      },
      "source": [
        "example_df = sc.parallelize([1,2,3,4,5,6])\n",
        "df_map = example_df.map(lambda x: x * x)\n",
        "df_map.collect()"
      ],
      "execution_count": null,
      "outputs": [
        {
          "output_type": "execute_result",
          "data": {
            "text/plain": [
              "[1, 4, 9, 16, 25, 36]"
            ]
          },
          "metadata": {
            "tags": []
          },
          "execution_count": 14
        }
      ]
    },
    {
      "cell_type": "markdown",
      "metadata": {
        "id": "z2lhb-Z_Wxhi"
      },
      "source": [
        "### map"
      ]
    },
    {
      "cell_type": "code",
      "metadata": {
        "id": "tL1fvYFHblRi"
      },
      "source": [
        "header = df_bank.first()\n",
        "df_bank = df_bank.filter(lambda line: line != header)"
      ],
      "execution_count": null,
      "outputs": []
    },
    {
      "cell_type": "code",
      "metadata": {
        "colab": {
          "base_uri": "https://localhost:8080/"
        },
        "id": "mJVXd6EzWxCe",
        "outputId": "8ddbe971-7253-4508-91cb-26efcfaf6bfb"
      },
      "source": [
        "df_bank2= df_bank.map(lambda row: row.split(';'))\n",
        "df_bank2.take(2)"
      ],
      "execution_count": null,
      "outputs": [
        {
          "output_type": "execute_result",
          "data": {
            "text/plain": [
              "[['56',\n",
              "  '\"housemaid\"',\n",
              "  '\"married\"',\n",
              "  '\"basic.4y\"',\n",
              "  '\"no\"',\n",
              "  '\"no\"',\n",
              "  '\"no\"',\n",
              "  '\"telephone\"',\n",
              "  '\"may\"',\n",
              "  '\"mon\"',\n",
              "  '261',\n",
              "  '1',\n",
              "  '999',\n",
              "  '0',\n",
              "  '\"nonexistent\"',\n",
              "  '1.1',\n",
              "  '93.994',\n",
              "  '-36.4',\n",
              "  '4.857',\n",
              "  '5191',\n",
              "  '\"no\"'],\n",
              " ['57',\n",
              "  '\"services\"',\n",
              "  '\"married\"',\n",
              "  '\"high.school\"',\n",
              "  '\"unknown\"',\n",
              "  '\"no\"',\n",
              "  '\"no\"',\n",
              "  '\"telephone\"',\n",
              "  '\"may\"',\n",
              "  '\"mon\"',\n",
              "  '149',\n",
              "  '1',\n",
              "  '999',\n",
              "  '0',\n",
              "  '\"nonexistent\"',\n",
              "  '1.1',\n",
              "  '93.994',\n",
              "  '-36.4',\n",
              "  '4.857',\n",
              "  '5191',\n",
              "  '\"no\"']]"
            ]
          },
          "metadata": {
            "tags": []
          },
          "execution_count": 16
        }
      ]
    },
    {
      "cell_type": "code",
      "metadata": {
        "colab": {
          "base_uri": "https://localhost:8080/"
        },
        "id": "eKV2JNdyZSTS",
        "outputId": "7730bbe2-2c46-49d7-9ba4-5d173210969a"
      },
      "source": [
        "df_age = df_bank2.map(lambda row: row[0])\n",
        "df_age.take(5)"
      ],
      "execution_count": null,
      "outputs": [
        {
          "output_type": "execute_result",
          "data": {
            "text/plain": [
              "['56', '57', '37', '40', '56']"
            ]
          },
          "metadata": {
            "tags": []
          },
          "execution_count": 17
        }
      ]
    },
    {
      "cell_type": "markdown",
      "metadata": {
        "id": "pcijd9F6ZbLi"
      },
      "source": [
        "You can combine more columns."
      ]
    },
    {
      "cell_type": "code",
      "metadata": {
        "colab": {
          "base_uri": "https://localhost:8080/"
        },
        "id": "wFXip2IhZhkQ",
        "outputId": "86971683-ca6a-45d9-c60d-5b68e6600e25"
      },
      "source": [
        "df_profile_cust = df_bank2.map(lambda row: (int(row[0]),row[1],row[2],row[3]))\n",
        "df_profile_cust.take(5)"
      ],
      "execution_count": null,
      "outputs": [
        {
          "output_type": "execute_result",
          "data": {
            "text/plain": [
              "[(56, '\"housemaid\"', '\"married\"', '\"basic.4y\"'),\n",
              " (57, '\"services\"', '\"married\"', '\"high.school\"'),\n",
              " (37, '\"services\"', '\"married\"', '\"high.school\"'),\n",
              " (40, '\"admin.\"', '\"married\"', '\"basic.6y\"'),\n",
              " (56, '\"services\"', '\"married\"', '\"high.school\"')]"
            ]
          },
          "metadata": {
            "tags": []
          },
          "execution_count": 18
        }
      ]
    },
    {
      "cell_type": "markdown",
      "metadata": {
        "id": "SXlROdB6aBB7"
      },
      "source": [
        "### filter"
      ]
    },
    {
      "cell_type": "code",
      "metadata": {
        "colab": {
          "base_uri": "https://localhost:8080/"
        },
        "id": "KZdY_TvcZuez",
        "outputId": "bc6c6d85-59bb-44f0-bb8b-7dafdaa3e765"
      },
      "source": [
        "df_admin = df_profile_cust.filter(lambda row: row[1] == '\"admin.\"')\n",
        "df_admin.take(5)"
      ],
      "execution_count": null,
      "outputs": [
        {
          "output_type": "execute_result",
          "data": {
            "text/plain": [
              "[(40, '\"admin.\"', '\"married\"', '\"basic.6y\"'),\n",
              " (59, '\"admin.\"', '\"married\"', '\"professional.course\"'),\n",
              " (37, '\"admin.\"', '\"married\"', '\"high.school\"'),\n",
              " (46, '\"admin.\"', '\"married\"', '\"unknown\"'),\n",
              " (41, '\"admin.\"', '\"married\"', '\"university.degree\"')]"
            ]
          },
          "metadata": {
            "tags": []
          },
          "execution_count": 19
        }
      ]
    },
    {
      "cell_type": "code",
      "metadata": {
        "colab": {
          "base_uri": "https://localhost:8080/"
        },
        "id": "Ie6hahcAdux0",
        "outputId": "af54504e-1bac-47d1-996c-5f7fdc60704b"
      },
      "source": [
        "df_admin.count()"
      ],
      "execution_count": null,
      "outputs": [
        {
          "output_type": "execute_result",
          "data": {
            "text/plain": [
              "10422"
            ]
          },
          "metadata": {
            "tags": []
          },
          "execution_count": 20
        }
      ]
    },
    {
      "cell_type": "markdown",
      "metadata": {
        "id": "uJCla4dEcL31"
      },
      "source": [
        "### flatmap"
      ]
    },
    {
      "cell_type": "code",
      "metadata": {
        "colab": {
          "base_uri": "https://localhost:8080/"
        },
        "id": "D15uhGTVdCZU",
        "outputId": "6a754da2-24b4-47e6-903b-e9e9a70dd0c1"
      },
      "source": [
        "example_df2 = sc.parallelize([\"good morning\", \"good ebening\"])\n",
        "df_flatmap = example_df2.flatMap(lambda x: x.split(\" \"))\n",
        "df_flatmap.collect()"
      ],
      "execution_count": null,
      "outputs": [
        {
          "output_type": "execute_result",
          "data": {
            "text/plain": [
              "['good', 'morning', 'good', 'ebening']"
            ]
          },
          "metadata": {
            "tags": []
          },
          "execution_count": 21
        }
      ]
    },
    {
      "cell_type": "code",
      "metadata": {
        "colab": {
          "base_uri": "https://localhost:8080/"
        },
        "id": "OQ6KjsP7dHbl",
        "outputId": "554887b3-fa5b-4f80-d73c-2686764c4991"
      },
      "source": [
        "example_df2 = sc.parallelize([\"good morning\", \"good ebening\"])\n",
        "df_flatmap = example_df2.map(lambda x: x.split(\" \"))\n",
        "df_flatmap.collect()"
      ],
      "execution_count": null,
      "outputs": [
        {
          "output_type": "execute_result",
          "data": {
            "text/plain": [
              "[['good', 'morning'], ['good', 'ebening']]"
            ]
          },
          "metadata": {
            "tags": []
          },
          "execution_count": 22
        }
      ]
    },
    {
      "cell_type": "markdown",
      "metadata": {
        "id": "GicB_Zh8dMig"
      },
      "source": [
        "### distinct"
      ]
    },
    {
      "cell_type": "code",
      "metadata": {
        "id": "7gWXQcs-d7-U"
      },
      "source": [
        "df_job = df_bank2.map(lambda row: row[1]) "
      ],
      "execution_count": null,
      "outputs": []
    },
    {
      "cell_type": "code",
      "metadata": {
        "colab": {
          "base_uri": "https://localhost:8080/"
        },
        "id": "N6Nts-E8eOuk",
        "outputId": "c9c8f96b-4791-4776-98a3-fe5a2b91b91c"
      },
      "source": [
        "df_job.distinct().collect()"
      ],
      "execution_count": null,
      "outputs": [
        {
          "output_type": "execute_result",
          "data": {
            "text/plain": [
              "['\"housemaid\"',\n",
              " '\"services\"',\n",
              " '\"admin.\"',\n",
              " '\"blue-collar\"',\n",
              " '\"technician\"',\n",
              " '\"retired\"',\n",
              " '\"management\"',\n",
              " '\"unemployed\"',\n",
              " '\"self-employed\"',\n",
              " '\"unknown\"',\n",
              " '\"entrepreneur\"',\n",
              " '\"student\"']"
            ]
          },
          "metadata": {
            "tags": []
          },
          "execution_count": 24
        }
      ]
    },
    {
      "cell_type": "markdown",
      "metadata": {
        "id": "JaUm85eoeXNq"
      },
      "source": [
        "### sample"
      ]
    },
    {
      "cell_type": "markdown",
      "metadata": {
        "id": "pI8Yjvl1iQ-l"
      },
      "source": [
        "sample(withreplacement, fraction, seed)\n",
        "1. withreplacement = apakah data sebelumnya diganti dengan sample baru\n",
        "2. fraction = jumlah data dalam persen\n",
        "3. seed = randomseed"
      ]
    },
    {
      "cell_type": "code",
      "metadata": {
        "id": "rIVjAHNjiPov"
      },
      "source": [
        "samples = df_bank2.sample(False, 0.1, 42)"
      ],
      "execution_count": null,
      "outputs": []
    },
    {
      "cell_type": "code",
      "metadata": {
        "colab": {
          "base_uri": "https://localhost:8080/"
        },
        "id": "fhQEHZt0iovx",
        "outputId": "ed4abf87-9959-43be-fa04-c70d178a0326"
      },
      "source": [
        "print('Original dataset: {0}, sample: {1}'.format(df_bank2.count(), samples.count()))"
      ],
      "execution_count": null,
      "outputs": [
        {
          "output_type": "stream",
          "text": [
            "Original dataset: 41188, sample: 4088\n"
          ],
          "name": "stdout"
        }
      ]
    },
    {
      "cell_type": "markdown",
      "metadata": {
        "id": "c3WWsS4Kizcn"
      },
      "source": [
        "## Actions"
      ]
    },
    {
      "cell_type": "markdown",
      "metadata": {
        "id": "e-xMqiiGi93l"
      },
      "source": [
        "1. collect() -> melihat output data\n",
        "2. take() ->  untuk melihat beberapa row dalam data\n",
        "3. count() -> melihat jumlah data atau jumlah row\n"
      ]
    },
    {
      "cell_type": "markdown",
      "metadata": {
        "id": "JkGpdfCmjZjh"
      },
      "source": [
        "### save as textFile"
      ]
    },
    {
      "cell_type": "code",
      "metadata": {
        "id": "M6FF0GJ2i13g"
      },
      "source": [
        "#data_key.saveAsTextFile('/Users/drabast/Documents/PySpark_Data/data_key.txt')"
      ],
      "execution_count": null,
      "outputs": []
    },
    {
      "cell_type": "markdown",
      "metadata": {
        "id": "wh97KZx7FEcw"
      },
      "source": [
        "# pyspark dataframe"
      ]
    },
    {
      "cell_type": "markdown",
      "metadata": {
        "id": "elMUFKJwKA1K"
      },
      "source": [
        "## membuat sparksession"
      ]
    },
    {
      "cell_type": "code",
      "metadata": {
        "id": "jOe0YY4bKG-G"
      },
      "source": [
        "spark = SparkSession \\\n",
        "            .builder \\\n",
        "            .appName(\"Python Spark create dataframe example\") \\\n",
        "            .config(\"spark.some.config.option\", \"some-value\") \\\n",
        "            .getOrCreate()"
      ],
      "execution_count": 7,
      "outputs": []
    },
    {
      "cell_type": "markdown",
      "metadata": {
        "id": "SZlVj1YiI3lc"
      },
      "source": [
        "## input dataframe"
      ]
    },
    {
      "cell_type": "markdown",
      "metadata": {
        "id": "UdiNbX-qI-ai"
      },
      "source": [
        "### dari RDD"
      ]
    },
    {
      "cell_type": "code",
      "metadata": {
        "id": "7HPRyXjaEMbX"
      },
      "source": [
        "\n",
        "cust_data = sc.parallelize([(\"male\",\"director\",23,30000000),\n",
        "                            (\"female\",\"staff\",34,3000000),\n",
        "                            (\"male\",\"HR\",56,46000000),\n",
        "                            (\"male\",\"musician\",20,7500000)])\n",
        "\n",
        "col_name = ['Gender','Job_name','Age','Monthly_income']\n",
        "\n",
        "cust_df = spark.createDataFrame(cust_data, schema=col_name)"
      ],
      "execution_count": null,
      "outputs": []
    },
    {
      "cell_type": "markdown",
      "metadata": {
        "id": "Ywl8raiuM4IE"
      },
      "source": [
        "kita bisa menggunakan show() untuk output berbentuk dataframe. untuk membatasi jumlah row kita bisa memasukkan angka dalam function show, misal show(5)"
      ]
    },
    {
      "cell_type": "code",
      "metadata": {
        "colab": {
          "base_uri": "https://localhost:8080/"
        },
        "id": "FPFvdVU3Jry7",
        "outputId": "06eaf878-761a-4906-fe4b-5f16fa14d1c9"
      },
      "source": [
        "cust_df.show()"
      ],
      "execution_count": null,
      "outputs": [
        {
          "output_type": "stream",
          "text": [
            "+------+--------+---+--------------+\n",
            "|Gender|Job name|Age|Monthly income|\n",
            "+------+--------+---+--------------+\n",
            "|  male|director| 23|      30000000|\n",
            "|female|   staff| 34|       3000000|\n",
            "|  male|      HR| 56|      46000000|\n",
            "|  male|musician| 20|       7500000|\n",
            "+------+--------+---+--------------+\n",
            "\n"
          ],
          "name": "stdout"
        }
      ]
    },
    {
      "cell_type": "markdown",
      "metadata": {
        "id": "UhBNgwbCNMmo"
      },
      "source": [
        "### dari csv"
      ]
    },
    {
      "cell_type": "markdown",
      "metadata": {
        "id": "JajKYNN-NUlT"
      },
      "source": [
        "kita bisa menggunakan spark read csv untuk memasukkan data csv\n",
        "dimana ada beberap tambahan fungsi:\n",
        "\n",
        "1. header, agar dataframe memiliki header\n",
        "2. inferschema, agar schema muncul di dataframe"
      ]
    },
    {
      "cell_type": "code",
      "metadata": {
        "colab": {
          "base_uri": "https://localhost:8080/"
        },
        "id": "GrllQjaYNKLg",
        "outputId": "174a4d44-9b6a-41f6-996c-cdd710da6abe"
      },
      "source": [
        "my_data_bank = spark.read.csv('bank-additional/bank-additional-full.csv',sep=';', header=True, inferSchema=True)\n",
        "my_data_bank.show()"
      ],
      "execution_count": 8,
      "outputs": [
        {
          "output_type": "stream",
          "text": [
            "+---+-----------+--------+-------------------+-------+-------+----+---------+-----+-----------+--------+--------+-----+--------+-----------+------------+--------------+-------------+---------+-----------+---+\n",
            "|age|        job| marital|          education|default|housing|loan|  contact|month|day_of_week|duration|campaign|pdays|previous|   poutcome|emp.var.rate|cons.price.idx|cons.conf.idx|euribor3m|nr.employed|  y|\n",
            "+---+-----------+--------+-------------------+-------+-------+----+---------+-----+-----------+--------+--------+-----+--------+-----------+------------+--------------+-------------+---------+-----------+---+\n",
            "| 56|  housemaid| married|           basic.4y|     no|     no|  no|telephone|  may|        mon|     261|       1|  999|       0|nonexistent|         1.1|        93.994|        -36.4|    4.857|     5191.0| no|\n",
            "| 57|   services| married|        high.school|unknown|     no|  no|telephone|  may|        mon|     149|       1|  999|       0|nonexistent|         1.1|        93.994|        -36.4|    4.857|     5191.0| no|\n",
            "| 37|   services| married|        high.school|     no|    yes|  no|telephone|  may|        mon|     226|       1|  999|       0|nonexistent|         1.1|        93.994|        -36.4|    4.857|     5191.0| no|\n",
            "| 40|     admin.| married|           basic.6y|     no|     no|  no|telephone|  may|        mon|     151|       1|  999|       0|nonexistent|         1.1|        93.994|        -36.4|    4.857|     5191.0| no|\n",
            "| 56|   services| married|        high.school|     no|     no| yes|telephone|  may|        mon|     307|       1|  999|       0|nonexistent|         1.1|        93.994|        -36.4|    4.857|     5191.0| no|\n",
            "| 45|   services| married|           basic.9y|unknown|     no|  no|telephone|  may|        mon|     198|       1|  999|       0|nonexistent|         1.1|        93.994|        -36.4|    4.857|     5191.0| no|\n",
            "| 59|     admin.| married|professional.course|     no|     no|  no|telephone|  may|        mon|     139|       1|  999|       0|nonexistent|         1.1|        93.994|        -36.4|    4.857|     5191.0| no|\n",
            "| 41|blue-collar| married|            unknown|unknown|     no|  no|telephone|  may|        mon|     217|       1|  999|       0|nonexistent|         1.1|        93.994|        -36.4|    4.857|     5191.0| no|\n",
            "| 24| technician|  single|professional.course|     no|    yes|  no|telephone|  may|        mon|     380|       1|  999|       0|nonexistent|         1.1|        93.994|        -36.4|    4.857|     5191.0| no|\n",
            "| 25|   services|  single|        high.school|     no|    yes|  no|telephone|  may|        mon|      50|       1|  999|       0|nonexistent|         1.1|        93.994|        -36.4|    4.857|     5191.0| no|\n",
            "| 41|blue-collar| married|            unknown|unknown|     no|  no|telephone|  may|        mon|      55|       1|  999|       0|nonexistent|         1.1|        93.994|        -36.4|    4.857|     5191.0| no|\n",
            "| 25|   services|  single|        high.school|     no|    yes|  no|telephone|  may|        mon|     222|       1|  999|       0|nonexistent|         1.1|        93.994|        -36.4|    4.857|     5191.0| no|\n",
            "| 29|blue-collar|  single|        high.school|     no|     no| yes|telephone|  may|        mon|     137|       1|  999|       0|nonexistent|         1.1|        93.994|        -36.4|    4.857|     5191.0| no|\n",
            "| 57|  housemaid|divorced|           basic.4y|     no|    yes|  no|telephone|  may|        mon|     293|       1|  999|       0|nonexistent|         1.1|        93.994|        -36.4|    4.857|     5191.0| no|\n",
            "| 35|blue-collar| married|           basic.6y|     no|    yes|  no|telephone|  may|        mon|     146|       1|  999|       0|nonexistent|         1.1|        93.994|        -36.4|    4.857|     5191.0| no|\n",
            "| 54|    retired| married|           basic.9y|unknown|    yes| yes|telephone|  may|        mon|     174|       1|  999|       0|nonexistent|         1.1|        93.994|        -36.4|    4.857|     5191.0| no|\n",
            "| 35|blue-collar| married|           basic.6y|     no|    yes|  no|telephone|  may|        mon|     312|       1|  999|       0|nonexistent|         1.1|        93.994|        -36.4|    4.857|     5191.0| no|\n",
            "| 46|blue-collar| married|           basic.6y|unknown|    yes| yes|telephone|  may|        mon|     440|       1|  999|       0|nonexistent|         1.1|        93.994|        -36.4|    4.857|     5191.0| no|\n",
            "| 50|blue-collar| married|           basic.9y|     no|    yes| yes|telephone|  may|        mon|     353|       1|  999|       0|nonexistent|         1.1|        93.994|        -36.4|    4.857|     5191.0| no|\n",
            "| 39| management|  single|           basic.9y|unknown|     no|  no|telephone|  may|        mon|     195|       1|  999|       0|nonexistent|         1.1|        93.994|        -36.4|    4.857|     5191.0| no|\n",
            "+---+-----------+--------+-------------------+-------+-------+----+---------+-----+-----------+--------+--------+-----+--------+-----------+------------+--------------+-------------+---------+-----------+---+\n",
            "only showing top 20 rows\n",
            "\n"
          ],
          "name": "stdout"
        }
      ]
    },
    {
      "cell_type": "markdown",
      "metadata": {
        "id": "TJUBBC69mZSP"
      },
      "source": [
        "## Transformations"
      ]
    },
    {
      "cell_type": "markdown",
      "metadata": {
        "id": "rVakXt36mcFB"
      },
      "source": [
        "### select()"
      ]
    },
    {
      "cell_type": "code",
      "metadata": {
        "id": "VGKI_VkDOMm8",
        "colab": {
          "base_uri": "https://localhost:8080/"
        },
        "outputId": "7b738a90-2ce0-4d90-81e1-1884b41b23d2"
      },
      "source": [
        "df_age = my_data_bank.select('age')\n",
        "df_age.show(5)"
      ],
      "execution_count": null,
      "outputs": [
        {
          "output_type": "stream",
          "text": [
            "+---+\n",
            "|age|\n",
            "+---+\n",
            "| 56|\n",
            "| 57|\n",
            "| 37|\n",
            "| 40|\n",
            "| 56|\n",
            "+---+\n",
            "only showing top 5 rows\n",
            "\n"
          ],
          "name": "stdout"
        }
      ]
    },
    {
      "cell_type": "code",
      "metadata": {
        "colab": {
          "base_uri": "https://localhost:8080/"
        },
        "id": "NqVVxcQPm2FA",
        "outputId": "38ae6759-69a1-4cd9-c505-62a979633e75"
      },
      "source": [
        "df_age_job = my_data_bank.select('age','job')\n",
        "df_age_job.show(5)"
      ],
      "execution_count": null,
      "outputs": [
        {
          "output_type": "stream",
          "text": [
            "+---+---------+\n",
            "|age|      job|\n",
            "+---+---------+\n",
            "| 56|housemaid|\n",
            "| 57| services|\n",
            "| 37| services|\n",
            "| 40|   admin.|\n",
            "| 56| services|\n",
            "+---+---------+\n",
            "only showing top 5 rows\n",
            "\n"
          ],
          "name": "stdout"
        }
      ]
    },
    {
      "cell_type": "markdown",
      "metadata": {
        "id": "GdLSNlJgnDj_"
      },
      "source": [
        "### filter"
      ]
    },
    {
      "cell_type": "code",
      "metadata": {
        "colab": {
          "base_uri": "https://localhost:8080/"
        },
        "id": "LSip0KKGnBCx",
        "outputId": "6a40a55e-fc65-4e9f-eb89-dfa8119bb6c5"
      },
      "source": [
        "df_age_above_60 = my_data_bank.filter(my_data_bank.age > 60)\n",
        "df_age_above_60.show(5)"
      ],
      "execution_count": null,
      "outputs": [
        {
          "output_type": "stream",
          "text": [
            "+---+----------+--------+-------------------+-------+-------+-------+---------+-----+-----------+--------+--------+-----+--------+-----------+------------+--------------+-------------+---------+-----------+---+\n",
            "|age|       job| marital|          education|default|housing|   loan|  contact|month|day_of_week|duration|campaign|pdays|previous|   poutcome|emp.var.rate|cons.price.idx|cons.conf.idx|euribor3m|nr.employed|  y|\n",
            "+---+----------+--------+-------------------+-------+-------+-------+---------+-----+-----------+--------+--------+-----+--------+-----------+------------+--------------+-------------+---------+-----------+---+\n",
            "| 61|   retired| married|        high.school|     no|unknown|unknown|telephone|  jun|        wed|      99|       4|  999|       0|nonexistent|         1.4|        94.465|        -41.8|    4.864|     5228.1| no|\n",
            "| 70|   retired|divorced|           basic.4y|     no|    yes|     no| cellular|  mar|        mon|     187|       3|  999|       0|nonexistent|        -1.8|        92.843|        -50.0|    1.811|     5099.1|yes|\n",
            "| 61|    admin.| married|  university.degree|     no|    yes|     no| cellular|  mar|        mon|     136|       6|  999|       0|nonexistent|        -1.8|        92.843|        -50.0|    1.811|     5099.1| no|\n",
            "| 66|technician| married|professional.course|     no|    yes|     no| cellular|  mar|        tue|      83|       1|  999|       0|nonexistent|        -1.8|        92.843|        -50.0|    1.799|     5099.1|yes|\n",
            "| 76|   retired| married|  university.degree|     no|     no|    yes| cellular|  mar|        thu|     167|       9|  999|       0|nonexistent|        -1.8|        92.843|        -50.0|    1.757|     5099.1| no|\n",
            "+---+----------+--------+-------------------+-------+-------+-------+---------+-----+-----------+--------+--------+-----+--------+-----------+------------+--------------+-------------+---------+-----------+---+\n",
            "only showing top 5 rows\n",
            "\n"
          ],
          "name": "stdout"
        }
      ]
    },
    {
      "cell_type": "code",
      "metadata": {
        "colab": {
          "base_uri": "https://localhost:8080/"
        },
        "id": "Yx-qcLTZnT8P",
        "outputId": "1c139cef-a3ca-4c03-9381-a963635f943f"
      },
      "source": [
        "df_age_above_60_admin = my_data_bank.filter((my_data_bank.age > 60) & (my_data_bank.job == 'admin.'))\n",
        "df_age_above_60_admin.show(5)"
      ],
      "execution_count": null,
      "outputs": [
        {
          "output_type": "stream",
          "text": [
            "+---+------+--------+-----------------+-------+-------+----+---------+-----+-----------+--------+--------+-----+--------+-----------+------------+--------------+-------------+---------+-----------+---+\n",
            "|age|   job| marital|        education|default|housing|loan|  contact|month|day_of_week|duration|campaign|pdays|previous|   poutcome|emp.var.rate|cons.price.idx|cons.conf.idx|euribor3m|nr.employed|  y|\n",
            "+---+------+--------+-----------------+-------+-------+----+---------+-----+-----------+--------+--------+-----+--------+-----------+------------+--------------+-------------+---------+-----------+---+\n",
            "| 61|admin.| married|university.degree|     no|    yes|  no| cellular|  mar|        mon|     136|       6|  999|       0|nonexistent|        -1.8|        92.843|        -50.0|    1.811|     5099.1| no|\n",
            "| 70|admin.|divorced|university.degree|     no|     no|  no| cellular|  mar|        mon|      83|       4|  999|       0|nonexistent|        -1.8|        92.843|        -50.0|     1.56|     5099.1| no|\n",
            "| 62|admin.| married|      high.school|     no|     no|  no|telephone|  mar|        mon|     163|       2|  999|       0|nonexistent|        -1.8|        92.843|        -50.0|     1.52|     5099.1|yes|\n",
            "| 61|admin.| married|university.degree|     no|    yes|  no| cellular|  apr|        wed|     183|       5|  999|       0|nonexistent|        -1.8|        93.075|        -47.1|    1.405|     5099.1| no|\n",
            "| 61|admin.| married|university.degree|     no|    yes| yes| cellular|  apr|        thu|     266|       5|  999|       0|nonexistent|        -1.8|        93.075|        -47.1|    1.406|     5099.1|yes|\n",
            "+---+------+--------+-----------------+-------+-------+----+---------+-----+-----------+--------+--------+-----+--------+-----------+------------+--------------+-------------+---------+-----------+---+\n",
            "only showing top 5 rows\n",
            "\n"
          ],
          "name": "stdout"
        }
      ]
    },
    {
      "cell_type": "markdown",
      "metadata": {
        "id": "w3PwMgt9nyHK"
      },
      "source": [
        "### filter with select"
      ]
    },
    {
      "cell_type": "code",
      "metadata": {
        "colab": {
          "base_uri": "https://localhost:8080/"
        },
        "id": "PV4B9QCKni3e",
        "outputId": "79d25955-e61e-402b-8679-5002d4eeef0f"
      },
      "source": [
        "df_age_below_18 = my_data_bank.filter(my_data_bank.age < 18).select('age','job','education')\n",
        "df_age_below_18.show()"
      ],
      "execution_count": null,
      "outputs": [
        {
          "output_type": "stream",
          "text": [
            "+---+-------+---------+\n",
            "|age|    job|education|\n",
            "+---+-------+---------+\n",
            "| 17|student|  unknown|\n",
            "| 17|student| basic.9y|\n",
            "| 17|student| basic.9y|\n",
            "| 17|student| basic.9y|\n",
            "| 17|student|  unknown|\n",
            "+---+-------+---------+\n",
            "\n"
          ],
          "name": "stdout"
        }
      ]
    },
    {
      "cell_type": "markdown",
      "metadata": {
        "id": "47Pf12sFoS4U"
      },
      "source": [
        "### groupby"
      ]
    },
    {
      "cell_type": "code",
      "metadata": {
        "colab": {
          "base_uri": "https://localhost:8080/"
        },
        "id": "druTtQHBoCmk",
        "outputId": "afba8d18-5558-4767-998b-21df186c6771"
      },
      "source": [
        "education_distribution = my_data_bank.groupby('education').count()\n",
        "education_distribution.show()"
      ],
      "execution_count": null,
      "outputs": [
        {
          "output_type": "stream",
          "text": [
            "+-------------------+-----+\n",
            "|          education|count|\n",
            "+-------------------+-----+\n",
            "|        high.school| 9515|\n",
            "|            unknown| 1731|\n",
            "|           basic.6y| 2292|\n",
            "|professional.course| 5243|\n",
            "|  university.degree|12168|\n",
            "|         illiterate|   18|\n",
            "|           basic.4y| 4176|\n",
            "|           basic.9y| 6045|\n",
            "+-------------------+-----+\n",
            "\n"
          ],
          "name": "stdout"
        }
      ]
    },
    {
      "cell_type": "code",
      "metadata": {
        "id": "4yfjGRhO1obM"
      },
      "source": [
        "from pyspark.sql import functions as F"
      ],
      "execution_count": null,
      "outputs": []
    },
    {
      "cell_type": "code",
      "metadata": {
        "colab": {
          "base_uri": "https://localhost:8080/"
        },
        "id": "qasZ3LyzoeXR",
        "outputId": "07f3702b-4ba9-40ce-c79d-ca014f024856"
      },
      "source": [
        "age_mean_per_education = my_data_bank.groupby('education').agg(F.mean(my_data_bank.age))\n",
        "age_mean_per_education.show()"
      ],
      "execution_count": null,
      "outputs": [
        {
          "output_type": "stream",
          "text": [
            "+-------------------+------------------+\n",
            "|          education|          avg(age)|\n",
            "+-------------------+------------------+\n",
            "|        high.school|37.998213347346294|\n",
            "|            unknown| 43.48122472559214|\n",
            "|           basic.6y| 40.44895287958115|\n",
            "|professional.course| 40.08010680907877|\n",
            "|  university.degree|38.879191321499015|\n",
            "|         illiterate|              48.5|\n",
            "|           basic.4y| 47.59650383141762|\n",
            "|           basic.9y|  39.0612076095947|\n",
            "+-------------------+------------------+\n",
            "\n"
          ],
          "name": "stdout"
        }
      ]
    },
    {
      "cell_type": "markdown",
      "metadata": {
        "id": "BBb7HyZ52bzx"
      },
      "source": [
        "### withColumn"
      ]
    },
    {
      "cell_type": "markdown",
      "metadata": {
        "id": "QPCp2MzK9P5y"
      },
      "source": [
        "pyspark memiliki kemampuan untuk membuat column baru"
      ]
    },
    {
      "cell_type": "code",
      "metadata": {
        "id": "5a_RPCmLot2p",
        "colab": {
          "base_uri": "https://localhost:8080/"
        },
        "outputId": "a4fe12f3-56df-48f7-f248-c05e2b234a5f"
      },
      "source": [
        "cust_df.show()"
      ],
      "execution_count": null,
      "outputs": [
        {
          "output_type": "stream",
          "text": [
            "+------+--------+---+--------------+\n",
            "|Gender|Job name|Age|Monthly income|\n",
            "+------+--------+---+--------------+\n",
            "|  male|director| 23|      30000000|\n",
            "|female|   staff| 34|       3000000|\n",
            "|  male|      HR| 56|      46000000|\n",
            "|  male|musician| 20|       7500000|\n",
            "+------+--------+---+--------------+\n",
            "\n"
          ],
          "name": "stdout"
        }
      ]
    },
    {
      "cell_type": "code",
      "metadata": {
        "colab": {
          "base_uri": "https://localhost:8080/"
        },
        "id": "63QLXKnn952R",
        "outputId": "3172aa67-0d60-4f1a-8ace-306e71b7ba6a"
      },
      "source": [
        "cust_df = cust_df.withColumn('double_age', cust_df.Age * 2)\n",
        "\n",
        "cust_df.show()"
      ],
      "execution_count": null,
      "outputs": [
        {
          "output_type": "stream",
          "text": [
            "+------+--------+---+--------------+---------+----------+\n",
            "|Gender|Job_name|Age|Monthly_income| is young|double_age|\n",
            "+------+--------+---+--------------+---------+----------+\n",
            "|  male|director| 23|      30000000|    young|        46|\n",
            "|female|   staff| 34|       3000000|not young|        68|\n",
            "|  male|      HR| 56|      46000000|not young|       112|\n",
            "|  male|musician| 20|       7500000|    young|        40|\n",
            "+------+--------+---+--------------+---------+----------+\n",
            "\n"
          ],
          "name": "stdout"
        }
      ]
    },
    {
      "cell_type": "markdown",
      "metadata": {
        "id": "54k-_j9_ALol"
      },
      "source": [
        "### when"
      ]
    },
    {
      "cell_type": "code",
      "metadata": {
        "colab": {
          "base_uri": "https://localhost:8080/"
        },
        "id": "_FepQyAbAD4s",
        "outputId": "a5341540-a7f0-4f3e-90a8-755ee8768fec"
      },
      "source": [
        "cust_df = cust_df.withColumn('is young', F.when(cust_df.Age < 25, 'young').\n",
        "                             otherwise('not young'))\n",
        "\n",
        "cust_df.show()"
      ],
      "execution_count": null,
      "outputs": [
        {
          "output_type": "stream",
          "text": [
            "+------+--------+---+--------------+---------+\n",
            "|Gender|Job_name|Age|Monthly_income| is young|\n",
            "+------+--------+---+--------------+---------+\n",
            "|  male|director| 23|      30000000|    young|\n",
            "|female|   staff| 34|       3000000|not young|\n",
            "|  male|      HR| 56|      46000000|not young|\n",
            "|  male|musician| 20|       7500000|    young|\n",
            "+------+--------+---+--------------+---------+\n",
            "\n"
          ],
          "name": "stdout"
        }
      ]
    },
    {
      "cell_type": "markdown",
      "metadata": {
        "id": "bVpMgk9YH754"
      },
      "source": [
        "### order by"
      ]
    },
    {
      "cell_type": "code",
      "metadata": {
        "colab": {
          "base_uri": "https://localhost:8080/"
        },
        "id": "vBRKrjIrAwFw",
        "outputId": "38bfcf98-e311-483f-a012-c46e1cef3b08"
      },
      "source": [
        "order_education = my_data_bank.groupby('education').count().orderBy('count', ascending=False)\n",
        "order_education.show()"
      ],
      "execution_count": null,
      "outputs": [
        {
          "output_type": "stream",
          "text": [
            "+-------------------+-----+\n",
            "|          education|count|\n",
            "+-------------------+-----+\n",
            "|  university.degree|12168|\n",
            "|        high.school| 9515|\n",
            "|           basic.9y| 6045|\n",
            "|professional.course| 5243|\n",
            "|           basic.4y| 4176|\n",
            "|           basic.6y| 2292|\n",
            "|            unknown| 1731|\n",
            "|         illiterate|   18|\n",
            "+-------------------+-----+\n",
            "\n"
          ],
          "name": "stdout"
        }
      ]
    },
    {
      "cell_type": "code",
      "metadata": {
        "colab": {
          "base_uri": "https://localhost:8080/"
        },
        "id": "jI1ZN3G2I96h",
        "outputId": "ee0eadc4-e603-467d-8282-792126ce4d86"
      },
      "source": [
        "order_education = my_data_bank.groupby('education').count().orderBy('count')\n",
        "order_education.show()"
      ],
      "execution_count": null,
      "outputs": [
        {
          "output_type": "stream",
          "text": [
            "+-------------------+-----+\n",
            "|          education|count|\n",
            "+-------------------+-----+\n",
            "|         illiterate|   18|\n",
            "|            unknown| 1731|\n",
            "|           basic.6y| 2292|\n",
            "|           basic.4y| 4176|\n",
            "|professional.course| 5243|\n",
            "|           basic.9y| 6045|\n",
            "|        high.school| 9515|\n",
            "|  university.degree|12168|\n",
            "+-------------------+-----+\n",
            "\n"
          ],
          "name": "stdout"
        }
      ]
    },
    {
      "cell_type": "markdown",
      "metadata": {
        "id": "snFHKjyAlkTT"
      },
      "source": [
        "### drop duplicates"
      ]
    },
    {
      "cell_type": "code",
      "metadata": {
        "id": "dOMlU6sklj-1"
      },
      "source": [
        "df2 = my_data_bank.dropDuplicates()"
      ],
      "execution_count": null,
      "outputs": []
    },
    {
      "cell_type": "markdown",
      "metadata": {
        "id": "beJfudv-WemI"
      },
      "source": [
        "### columnwithrename"
      ]
    },
    {
      "cell_type": "code",
      "metadata": {
        "colab": {
          "base_uri": "https://localhost:8080/"
        },
        "id": "z6nq-FzYWfne",
        "outputId": "38973666-0592-433f-eac1-eec304b7dc60"
      },
      "source": [
        "cust_df.show()"
      ],
      "execution_count": null,
      "outputs": [
        {
          "output_type": "stream",
          "text": [
            "+------+--------+---+--------------+---------+----------+\n",
            "|Gender|Job_name|Age|Monthly_income| is young|double_age|\n",
            "+------+--------+---+--------------+---------+----------+\n",
            "|  male|director| 23|      30000000|    young|        46|\n",
            "|female|   staff| 34|       3000000|not young|        68|\n",
            "|  male|      HR| 56|      46000000|not young|       112|\n",
            "|  male|musician| 20|       7500000|    young|        40|\n",
            "+------+--------+---+--------------+---------+----------+\n",
            "\n"
          ],
          "name": "stdout"
        }
      ]
    },
    {
      "cell_type": "code",
      "metadata": {
        "colab": {
          "base_uri": "https://localhost:8080/"
        },
        "id": "LaC2QKnUYQVS",
        "outputId": "9bc7c1d6-5f92-439b-caf7-900663c81c77"
      },
      "source": [
        "cust_df = cust_df.withColumnRenamed('job_name','nama_pekerjaan')\n",
        "cust_df.show()"
      ],
      "execution_count": null,
      "outputs": [
        {
          "output_type": "stream",
          "text": [
            "+------+--------------+---+--------------+---------+\n",
            "|Gender|nama_pekerjaan|Age|Monthly_income| is young|\n",
            "+------+--------------+---+--------------+---------+\n",
            "|  male|      director| 23|      30000000|    young|\n",
            "|female|         staff| 34|       3000000|not young|\n",
            "|  male|            HR| 56|      46000000|not young|\n",
            "|  male|      musician| 20|       7500000|    young|\n",
            "+------+--------------+---+--------------+---------+\n",
            "\n"
          ],
          "name": "stdout"
        }
      ]
    },
    {
      "cell_type": "markdown",
      "metadata": {
        "id": "vzID3Yg1a-w2"
      },
      "source": [
        "### replace values"
      ]
    },
    {
      "cell_type": "code",
      "metadata": {
        "colab": {
          "base_uri": "https://localhost:8080/"
        },
        "id": "6QP-KFxsa-Ow",
        "outputId": "8dd594c1-3f1d-4efe-f3f6-20a93210efe2"
      },
      "source": [
        "cust_df2 = cust_df.replace(['young','not young'],['1','0'])\n",
        "cust_df2.show()"
      ],
      "execution_count": null,
      "outputs": [
        {
          "output_type": "stream",
          "text": [
            "+------+--------+---+--------------+--------+\n",
            "|Gender|Job_name|Age|Monthly_income|is young|\n",
            "+------+--------+---+--------------+--------+\n",
            "|  male|director| 23|      30000000|       1|\n",
            "|female|   staff| 34|       3000000|       0|\n",
            "|  male|      HR| 56|      46000000|       0|\n",
            "|  male|musician| 20|       7500000|       1|\n",
            "+------+--------+---+--------------+--------+\n",
            "\n"
          ],
          "name": "stdout"
        }
      ]
    },
    {
      "cell_type": "markdown",
      "metadata": {
        "id": "52UvhO50amKH"
      },
      "source": [
        "### drop columns"
      ]
    },
    {
      "cell_type": "code",
      "metadata": {
        "colab": {
          "base_uri": "https://localhost:8080/"
        },
        "id": "XGknjazUaloR",
        "outputId": "46b13455-a5d7-40a4-9289-bdcd9754ca65"
      },
      "source": [
        "cust_df = cust_df.drop('double_age')\n",
        "cust_df.show()"
      ],
      "execution_count": null,
      "outputs": [
        {
          "output_type": "stream",
          "text": [
            "+------+--------+---+--------------+---------+\n",
            "|Gender|Job_name|Age|Monthly_income| is young|\n",
            "+------+--------+---+--------------+---------+\n",
            "|  male|director| 23|      30000000|    young|\n",
            "|female|   staff| 34|       3000000|not young|\n",
            "|  male|      HR| 56|      46000000|not young|\n",
            "|  male|musician| 20|       7500000|    young|\n",
            "+------+--------+---+--------------+---------+\n",
            "\n"
          ],
          "name": "stdout"
        }
      ]
    },
    {
      "cell_type": "markdown",
      "metadata": {
        "id": "nkDqvjE5ZaeJ"
      },
      "source": [
        "### join"
      ]
    },
    {
      "cell_type": "code",
      "metadata": {
        "id": "xwI5OgavZfOh"
      },
      "source": [
        "import pandas as pd"
      ],
      "execution_count": null,
      "outputs": []
    },
    {
      "cell_type": "code",
      "metadata": {
        "id": "I41JaZBwZZ4Q"
      },
      "source": [
        "leftp = pd.DataFrame({'A': ['A0', 'A1', 'A2', 'A3'],\n",
        "                    'B': ['B0', 'B1', 'B2', 'B3'],\n",
        "                    'C': ['C0', 'C1', 'C2', 'C3'],\n",
        "                    'D': ['D0', 'D1', 'D2', 'D3']},\n",
        "                    index=[0, 1, 2, 3])\n",
        "\n",
        "rightp = pd.DataFrame({'A': ['A0', 'A1', 'A6', 'A7'],\n",
        "                       'F': ['B4', 'B5', 'B6', 'B7'],\n",
        "                       'G': ['C4', 'C5', 'C6', 'C7'],\n",
        "                       'H': ['D4', 'D5', 'D6', 'D7']},\n",
        "                       index=[4, 5, 6, 7])\n",
        "\n",
        "lefts = spark.createDataFrame(leftp)\n",
        "rights = spark.createDataFrame(rightp)"
      ],
      "execution_count": null,
      "outputs": []
    },
    {
      "cell_type": "markdown",
      "metadata": {
        "id": "ik5_2ExmZmOM"
      },
      "source": [
        "##### left join"
      ]
    },
    {
      "cell_type": "code",
      "metadata": {
        "colab": {
          "base_uri": "https://localhost:8080/"
        },
        "id": "xLR1zl4iZkKY",
        "outputId": "31756d3b-9896-4334-84bd-7437fa39c246"
      },
      "source": [
        "lefts.join(rights,on='A',how='left').orderBy('A',ascending=True).show()"
      ],
      "execution_count": null,
      "outputs": [
        {
          "output_type": "stream",
          "text": [
            "+---+---+---+---+----+----+----+\n",
            "|  A|  B|  C|  D|   F|   G|   H|\n",
            "+---+---+---+---+----+----+----+\n",
            "| A0| B0| C0| D0|  B4|  C4|  D4|\n",
            "| A1| B1| C1| D1|  B5|  C5|  D5|\n",
            "| A2| B2| C2| D2|null|null|null|\n",
            "| A3| B3| C3| D3|null|null|null|\n",
            "+---+---+---+---+----+----+----+\n",
            "\n"
          ],
          "name": "stdout"
        }
      ]
    },
    {
      "cell_type": "markdown",
      "metadata": {
        "id": "5YOmvr1KZ3H2"
      },
      "source": [
        "#### right joins"
      ]
    },
    {
      "cell_type": "code",
      "metadata": {
        "colab": {
          "base_uri": "https://localhost:8080/"
        },
        "id": "OXRwxzNlZ7U6",
        "outputId": "5714cc09-85d6-4112-9536-88f650692d8e"
      },
      "source": [
        "lefts.join(rights,on='A',how='right').orderBy('A',ascending=True).show()"
      ],
      "execution_count": null,
      "outputs": [
        {
          "output_type": "stream",
          "text": [
            "+---+----+----+----+---+---+---+\n",
            "|  A|   B|   C|   D|  F|  G|  H|\n",
            "+---+----+----+----+---+---+---+\n",
            "| A0|  B0|  C0|  D0| B4| C4| D4|\n",
            "| A1|  B1|  C1|  D1| B5| C5| D5|\n",
            "| A6|null|null|null| B6| C6| D6|\n",
            "| A7|null|null|null| B7| C7| D7|\n",
            "+---+----+----+----+---+---+---+\n",
            "\n"
          ],
          "name": "stdout"
        }
      ]
    },
    {
      "cell_type": "markdown",
      "metadata": {
        "id": "iaaYiR8iaCH8"
      },
      "source": [
        "#### inner join"
      ]
    },
    {
      "cell_type": "code",
      "metadata": {
        "colab": {
          "base_uri": "https://localhost:8080/"
        },
        "id": "9315IDkzaHKZ",
        "outputId": "18544c8c-2361-4c26-a6df-90654867c9dd"
      },
      "source": [
        "lefts.join(rights,on='A',how='inner').orderBy('A',ascending=True).show()"
      ],
      "execution_count": null,
      "outputs": [
        {
          "output_type": "stream",
          "text": [
            "+---+---+---+---+---+---+---+\n",
            "|  A|  B|  C|  D|  F|  G|  H|\n",
            "+---+---+---+---+---+---+---+\n",
            "| A0| B0| C0| D0| B4| C4| D4|\n",
            "| A1| B1| C1| D1| B5| C5| D5|\n",
            "+---+---+---+---+---+---+---+\n",
            "\n"
          ],
          "name": "stdout"
        }
      ]
    },
    {
      "cell_type": "markdown",
      "metadata": {
        "id": "nEIkTDGYaKxP"
      },
      "source": [
        "#### full join"
      ]
    },
    {
      "cell_type": "code",
      "metadata": {
        "colab": {
          "base_uri": "https://localhost:8080/"
        },
        "id": "1Y_UZD4qaMnW",
        "outputId": "64aeb4d9-1a3b-4d64-911f-450129f32625"
      },
      "source": [
        "lefts.join(rights,on='A',how='full').orderBy('A',ascending=True).show()"
      ],
      "execution_count": null,
      "outputs": [
        {
          "output_type": "stream",
          "text": [
            "+---+----+----+----+----+----+----+\n",
            "|  A|   B|   C|   D|   F|   G|   H|\n",
            "+---+----+----+----+----+----+----+\n",
            "| A0|  B0|  C0|  D0|  B4|  C4|  D4|\n",
            "| A1|  B1|  C1|  D1|  B5|  C5|  D5|\n",
            "| A2|  B2|  C2|  D2|null|null|null|\n",
            "| A3|  B3|  C3|  D3|null|null|null|\n",
            "| A6|null|null|null|  B6|  C6|  D6|\n",
            "| A7|null|null|null|  B7|  C7|  D7|\n",
            "+---+----+----+----+----+----+----+\n",
            "\n"
          ],
          "name": "stdout"
        }
      ]
    },
    {
      "cell_type": "markdown",
      "metadata": {
        "id": "-sZ-ooHGVzD-"
      },
      "source": [
        "## actions"
      ]
    },
    {
      "cell_type": "markdown",
      "metadata": {
        "id": "T4IksnVOcC8p"
      },
      "source": [
        ".show()"
      ]
    },
    {
      "cell_type": "markdown",
      "metadata": {
        "id": "joGsoI2dV2GC"
      },
      "source": [
        "### Schema() and columns"
      ]
    },
    {
      "cell_type": "code",
      "metadata": {
        "colab": {
          "base_uri": "https://localhost:8080/"
        },
        "id": "P4n4PXotV1Zr",
        "outputId": "43a6271b-5b69-40b4-83c1-ba26ef07232f"
      },
      "source": [
        "my_data_bank.printSchema()"
      ],
      "execution_count": null,
      "outputs": [
        {
          "output_type": "stream",
          "text": [
            "root\n",
            " |-- age: integer (nullable = true)\n",
            " |-- job: string (nullable = true)\n",
            " |-- marital: string (nullable = true)\n",
            " |-- education: string (nullable = true)\n",
            " |-- default: string (nullable = true)\n",
            " |-- housing: string (nullable = true)\n",
            " |-- loan: string (nullable = true)\n",
            " |-- contact: string (nullable = true)\n",
            " |-- month: string (nullable = true)\n",
            " |-- day_of_week: string (nullable = true)\n",
            " |-- duration: integer (nullable = true)\n",
            " |-- campaign: integer (nullable = true)\n",
            " |-- pdays: integer (nullable = true)\n",
            " |-- previous: integer (nullable = true)\n",
            " |-- poutcome: string (nullable = true)\n",
            " |-- emp.var.rate: double (nullable = true)\n",
            " |-- cons.price.idx: double (nullable = true)\n",
            " |-- cons.conf.idx: double (nullable = true)\n",
            " |-- euribor3m: double (nullable = true)\n",
            " |-- nr.employed: double (nullable = true)\n",
            " |-- y: string (nullable = true)\n",
            "\n"
          ],
          "name": "stdout"
        }
      ]
    },
    {
      "cell_type": "code",
      "metadata": {
        "colab": {
          "base_uri": "https://localhost:8080/"
        },
        "id": "Lcmj5QSCV_B0",
        "outputId": "c88dea81-2cab-4ab9-a4a7-582aa3daa31a"
      },
      "source": [
        "my_data_bank.columns"
      ],
      "execution_count": null,
      "outputs": [
        {
          "output_type": "execute_result",
          "data": {
            "text/plain": [
              "['age',\n",
              " 'job',\n",
              " 'marital',\n",
              " 'education',\n",
              " 'default',\n",
              " 'housing',\n",
              " 'loan',\n",
              " 'contact',\n",
              " 'month',\n",
              " 'day_of_week',\n",
              " 'duration',\n",
              " 'campaign',\n",
              " 'pdays',\n",
              " 'previous',\n",
              " 'poutcome',\n",
              " 'emp.var.rate',\n",
              " 'cons.price.idx',\n",
              " 'cons.conf.idx',\n",
              " 'euribor3m',\n",
              " 'nr.employed',\n",
              " 'y']"
            ]
          },
          "metadata": {
            "tags": []
          },
          "execution_count": 64
        }
      ]
    },
    {
      "cell_type": "markdown",
      "metadata": {
        "id": "WxUzwfWTWHNV"
      },
      "source": [
        "### datatypes"
      ]
    },
    {
      "cell_type": "code",
      "metadata": {
        "colab": {
          "base_uri": "https://localhost:8080/"
        },
        "id": "A2j3Nr8GWGqj",
        "outputId": "87cb6a4c-c6eb-448e-bdad-204d733592f8"
      },
      "source": [
        "my_data_bank.dtypes"
      ],
      "execution_count": null,
      "outputs": [
        {
          "output_type": "execute_result",
          "data": {
            "text/plain": [
              "[('age', 'int'),\n",
              " ('job', 'string'),\n",
              " ('marital', 'string'),\n",
              " ('education', 'string'),\n",
              " ('default', 'string'),\n",
              " ('housing', 'string'),\n",
              " ('loan', 'string'),\n",
              " ('contact', 'string'),\n",
              " ('month', 'string'),\n",
              " ('day_of_week', 'string'),\n",
              " ('duration', 'int'),\n",
              " ('campaign', 'int'),\n",
              " ('pdays', 'int'),\n",
              " ('previous', 'int'),\n",
              " ('poutcome', 'string'),\n",
              " ('emp.var.rate', 'double'),\n",
              " ('cons.price.idx', 'double'),\n",
              " ('cons.conf.idx', 'double'),\n",
              " ('euribor3m', 'double'),\n",
              " ('nr.employed', 'double'),\n",
              " ('y', 'string')]"
            ]
          },
          "metadata": {
            "tags": []
          },
          "execution_count": 66
        }
      ]
    },
    {
      "cell_type": "markdown",
      "metadata": {
        "id": "MxnwyiNVWQW6"
      },
      "source": [
        ""
      ]
    },
    {
      "cell_type": "code",
      "metadata": {
        "id": "D-9gnh3kWQAK"
      },
      "source": [
        ""
      ],
      "execution_count": null,
      "outputs": []
    },
    {
      "cell_type": "markdown",
      "metadata": {
        "id": "klsbvwSMJLKV"
      },
      "source": [
        "# pyspark sql"
      ]
    },
    {
      "cell_type": "code",
      "metadata": {
        "id": "mNvnAO3NLQn8"
      },
      "source": [
        "my_data_bank.createOrReplaceTempView(\"data_bank\")"
      ],
      "execution_count": null,
      "outputs": []
    },
    {
      "cell_type": "code",
      "metadata": {
        "colab": {
          "base_uri": "https://localhost:8080/"
        },
        "id": "CBW3XYAoJDtf",
        "outputId": "ec881c53-941a-48c9-b63d-43e9ead8d609"
      },
      "source": [
        "df_age = spark.sql(\"SELECT age, job, education FROM data_bank\")\n",
        "df_age.show(5)"
      ],
      "execution_count": null,
      "outputs": [
        {
          "output_type": "stream",
          "text": [
            "+---+---------+-----------+\n",
            "|age|      job|  education|\n",
            "+---+---------+-----------+\n",
            "| 56|housemaid|   basic.4y|\n",
            "| 57| services|high.school|\n",
            "| 37| services|high.school|\n",
            "| 40|   admin.|   basic.6y|\n",
            "| 56| services|high.school|\n",
            "+---+---------+-----------+\n",
            "only showing top 5 rows\n",
            "\n"
          ],
          "name": "stdout"
        }
      ]
    },
    {
      "cell_type": "code",
      "metadata": {
        "colab": {
          "base_uri": "https://localhost:8080/"
        },
        "id": "vgvi4_UoLN8v",
        "outputId": "7cf62de6-a699-4654-e49a-0478c0965527"
      },
      "source": [
        "query_1 = \"SELECT education, ROUND(MEAN(age)) AS average_age FROM data_bank GROUP BY education\"\n",
        "df_avg = spark.sql(query_1)\n",
        "df_avg.show()"
      ],
      "execution_count": null,
      "outputs": [
        {
          "output_type": "stream",
          "text": [
            "+-------------------+-----------+\n",
            "|          education|average_age|\n",
            "+-------------------+-----------+\n",
            "|        high.school|       38.0|\n",
            "|            unknown|       43.0|\n",
            "|           basic.6y|       40.0|\n",
            "|professional.course|       40.0|\n",
            "|  university.degree|       39.0|\n",
            "|         illiterate|       49.0|\n",
            "|           basic.4y|       48.0|\n",
            "|           basic.9y|       39.0|\n",
            "+-------------------+-----------+\n",
            "\n"
          ],
          "name": "stdout"
        }
      ]
    },
    {
      "cell_type": "code",
      "metadata": {
        "colab": {
          "base_uri": "https://localhost:8080/"
        },
        "id": "-QQXLAXGLYG7",
        "outputId": "8448d11d-bc4b-465c-9ec2-e1371e768751"
      },
      "source": [
        "query_2 = '''SELECT job, age FROM data_bank WHERE age > 40'''\n",
        "df_avg = spark.sql(query_1)\n",
        "df_avg.show(5)"
      ],
      "execution_count": null,
      "outputs": [
        {
          "output_type": "stream",
          "text": [
            "+-------------------+-----------+\n",
            "|          education|average_age|\n",
            "+-------------------+-----------+\n",
            "|        high.school|       38.0|\n",
            "|            unknown|       43.0|\n",
            "|           basic.6y|       40.0|\n",
            "|professional.course|       40.0|\n",
            "|  university.degree|       39.0|\n",
            "+-------------------+-----------+\n",
            "only showing top 5 rows\n",
            "\n"
          ],
          "name": "stdout"
        }
      ]
    },
    {
      "cell_type": "markdown",
      "metadata": {
        "id": "tZsOH9NFLxBu"
      },
      "source": [
        "# VISUALIZATION"
      ]
    },
    {
      "cell_type": "code",
      "metadata": {
        "colab": {
          "base_uri": "https://localhost:8080/",
          "height": 296
        },
        "id": "b9uwU0AFLpKP",
        "outputId": "058f9b63-26df-405c-b114-b85f045493f9"
      },
      "source": [
        "df_education = my_data_bank.groupby('education').count()\n",
        "\n",
        "\n",
        "df_education.toPandas().plot(kind='bar', x='education',rot=0)"
      ],
      "execution_count": null,
      "outputs": [
        {
          "output_type": "execute_result",
          "data": {
            "text/plain": [
              "<matplotlib.axes._subplots.AxesSubplot at 0x7f169146d950>"
            ]
          },
          "metadata": {
            "tags": []
          },
          "execution_count": 61
        },
        {
          "output_type": "display_data",
          "data": {
            "image/png": "[encoded data removed]",
            "text/plain": [
              "<Figure size 432x288 with 1 Axes>"
            ]
          },
          "metadata": {
            "tags": [],
            "needs_background": "light"
          }
        }
      ]
    },
    {
      "cell_type": "code",
      "metadata": {
        "colab": {
          "base_uri": "https://localhost:8080/",
          "height": 282
        },
        "id": "WNLKRUxOL5hR",
        "outputId": "533e9637-8d74-4a33-c7db-72124fa214b6"
      },
      "source": [
        "df_age = my_data_bank.select('age')\n",
        "\n",
        "df_age.toPandas().plot(kind='hist')"
      ],
      "execution_count": null,
      "outputs": [
        {
          "output_type": "execute_result",
          "data": {
            "text/plain": [
              "<matplotlib.axes._subplots.AxesSubplot at 0x7f1690dda450>"
            ]
          },
          "metadata": {
            "tags": []
          },
          "execution_count": 62
        },
        {
          "output_type": "display_data",
          "data": {
            "image/png": "[encoded data removed]",
            "text/plain": [
              "<Figure size 432x288 with 1 Axes>"
            ]
          },
          "metadata": {
            "tags": [],
            "needs_background": "light"
          }
        }
      ]
    },
    {
      "cell_type": "code",
      "metadata": {
        "id": "bFIW0xk2MAfs"
      },
      "source": [
        ""
      ],
      "execution_count": null,
      "outputs": []
    }
  ]
}